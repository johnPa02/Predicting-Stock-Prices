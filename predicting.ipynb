{
 "cells": [
  {
   "cell_type": "code",
   "execution_count": 1,
   "id": "1c1d6696",
   "metadata": {},
   "outputs": [],
   "source": [
    "import numpy as np\n",
    "import matplotlib.pyplot as plt\n",
    "import pandas as pd\n",
    "from sklearn.preprocessing import MinMaxScaler"
   ]
  },
  {
   "cell_type": "code",
   "execution_count": 2,
   "id": "9d5907d3",
   "metadata": {},
   "outputs": [],
   "source": [
    "data = pd.read_csv('Tesla.csv')"
   ]
  },
  {
   "cell_type": "code",
   "execution_count": 3,
   "id": "1612ade6",
   "metadata": {},
   "outputs": [
    {
     "data": {
      "text/html": [
       "<div>\n",
       "<style scoped>\n",
       "    .dataframe tbody tr th:only-of-type {\n",
       "        vertical-align: middle;\n",
       "    }\n",
       "\n",
       "    .dataframe tbody tr th {\n",
       "        vertical-align: top;\n",
       "    }\n",
       "\n",
       "    .dataframe thead th {\n",
       "        text-align: right;\n",
       "    }\n",
       "</style>\n",
       "<table border=\"1\" class=\"dataframe\">\n",
       "  <thead>\n",
       "    <tr style=\"text-align: right;\">\n",
       "      <th></th>\n",
       "      <th>Date</th>\n",
       "      <th>Open</th>\n",
       "      <th>High</th>\n",
       "      <th>Low</th>\n",
       "      <th>Close</th>\n",
       "      <th>Volume</th>\n",
       "      <th>Adj Close</th>\n",
       "    </tr>\n",
       "  </thead>\n",
       "  <tbody>\n",
       "    <tr>\n",
       "      <th>0</th>\n",
       "      <td>6/29/2010</td>\n",
       "      <td>19.000000</td>\n",
       "      <td>25.00</td>\n",
       "      <td>17.540001</td>\n",
       "      <td>23.889999</td>\n",
       "      <td>18766300</td>\n",
       "      <td>23.889999</td>\n",
       "    </tr>\n",
       "    <tr>\n",
       "      <th>1</th>\n",
       "      <td>6/30/2010</td>\n",
       "      <td>25.790001</td>\n",
       "      <td>30.42</td>\n",
       "      <td>23.299999</td>\n",
       "      <td>23.830000</td>\n",
       "      <td>17187100</td>\n",
       "      <td>23.830000</td>\n",
       "    </tr>\n",
       "    <tr>\n",
       "      <th>2</th>\n",
       "      <td>7/1/2010</td>\n",
       "      <td>25.000000</td>\n",
       "      <td>25.92</td>\n",
       "      <td>20.270000</td>\n",
       "      <td>21.959999</td>\n",
       "      <td>8218800</td>\n",
       "      <td>21.959999</td>\n",
       "    </tr>\n",
       "    <tr>\n",
       "      <th>3</th>\n",
       "      <td>7/2/2010</td>\n",
       "      <td>23.000000</td>\n",
       "      <td>23.10</td>\n",
       "      <td>18.709999</td>\n",
       "      <td>19.200001</td>\n",
       "      <td>5139800</td>\n",
       "      <td>19.200001</td>\n",
       "    </tr>\n",
       "    <tr>\n",
       "      <th>4</th>\n",
       "      <td>7/6/2010</td>\n",
       "      <td>20.000000</td>\n",
       "      <td>20.00</td>\n",
       "      <td>15.830000</td>\n",
       "      <td>16.110001</td>\n",
       "      <td>6866900</td>\n",
       "      <td>16.110001</td>\n",
       "    </tr>\n",
       "  </tbody>\n",
       "</table>\n",
       "</div>"
      ],
      "text/plain": [
       "        Date       Open   High        Low      Close    Volume  Adj Close\n",
       "0  6/29/2010  19.000000  25.00  17.540001  23.889999  18766300  23.889999\n",
       "1  6/30/2010  25.790001  30.42  23.299999  23.830000  17187100  23.830000\n",
       "2   7/1/2010  25.000000  25.92  20.270000  21.959999   8218800  21.959999\n",
       "3   7/2/2010  23.000000  23.10  18.709999  19.200001   5139800  19.200001\n",
       "4   7/6/2010  20.000000  20.00  15.830000  16.110001   6866900  16.110001"
      ]
     },
     "execution_count": 3,
     "metadata": {},
     "output_type": "execute_result"
    }
   ],
   "source": [
    "data.head()"
   ]
  },
  {
   "cell_type": "code",
   "execution_count": 4,
   "id": "ebec491b",
   "metadata": {},
   "outputs": [
    {
     "data": {
      "text/html": [
       "<div>\n",
       "<style scoped>\n",
       "    .dataframe tbody tr th:only-of-type {\n",
       "        vertical-align: middle;\n",
       "    }\n",
       "\n",
       "    .dataframe tbody tr th {\n",
       "        vertical-align: top;\n",
       "    }\n",
       "\n",
       "    .dataframe thead th {\n",
       "        text-align: right;\n",
       "    }\n",
       "</style>\n",
       "<table border=\"1\" class=\"dataframe\">\n",
       "  <thead>\n",
       "    <tr style=\"text-align: right;\">\n",
       "      <th></th>\n",
       "      <th>Date</th>\n",
       "      <th>Open</th>\n",
       "      <th>High</th>\n",
       "      <th>Low</th>\n",
       "      <th>Close</th>\n",
       "      <th>Volume</th>\n",
       "      <th>Adj Close</th>\n",
       "    </tr>\n",
       "  </thead>\n",
       "  <tbody>\n",
       "    <tr>\n",
       "      <th>1687</th>\n",
       "      <td>3/13/2017</td>\n",
       "      <td>244.820007</td>\n",
       "      <td>246.850006</td>\n",
       "      <td>242.779999</td>\n",
       "      <td>246.169998</td>\n",
       "      <td>3010700</td>\n",
       "      <td>246.169998</td>\n",
       "    </tr>\n",
       "    <tr>\n",
       "      <th>1688</th>\n",
       "      <td>3/14/2017</td>\n",
       "      <td>246.110001</td>\n",
       "      <td>258.119995</td>\n",
       "      <td>246.020004</td>\n",
       "      <td>258.000000</td>\n",
       "      <td>7575500</td>\n",
       "      <td>258.000000</td>\n",
       "    </tr>\n",
       "    <tr>\n",
       "      <th>1689</th>\n",
       "      <td>3/15/2017</td>\n",
       "      <td>257.000000</td>\n",
       "      <td>261.000000</td>\n",
       "      <td>254.270004</td>\n",
       "      <td>255.729996</td>\n",
       "      <td>4816600</td>\n",
       "      <td>255.729996</td>\n",
       "    </tr>\n",
       "    <tr>\n",
       "      <th>1690</th>\n",
       "      <td>3/16/2017</td>\n",
       "      <td>262.399994</td>\n",
       "      <td>265.750000</td>\n",
       "      <td>259.059998</td>\n",
       "      <td>262.049988</td>\n",
       "      <td>7100400</td>\n",
       "      <td>262.049988</td>\n",
       "    </tr>\n",
       "    <tr>\n",
       "      <th>1691</th>\n",
       "      <td>3/17/2017</td>\n",
       "      <td>264.000000</td>\n",
       "      <td>265.329987</td>\n",
       "      <td>261.200012</td>\n",
       "      <td>261.500000</td>\n",
       "      <td>6475900</td>\n",
       "      <td>261.500000</td>\n",
       "    </tr>\n",
       "  </tbody>\n",
       "</table>\n",
       "</div>"
      ],
      "text/plain": [
       "           Date        Open        High         Low       Close   Volume  \\\n",
       "1687  3/13/2017  244.820007  246.850006  242.779999  246.169998  3010700   \n",
       "1688  3/14/2017  246.110001  258.119995  246.020004  258.000000  7575500   \n",
       "1689  3/15/2017  257.000000  261.000000  254.270004  255.729996  4816600   \n",
       "1690  3/16/2017  262.399994  265.750000  259.059998  262.049988  7100400   \n",
       "1691  3/17/2017  264.000000  265.329987  261.200012  261.500000  6475900   \n",
       "\n",
       "       Adj Close  \n",
       "1687  246.169998  \n",
       "1688  258.000000  \n",
       "1689  255.729996  \n",
       "1690  262.049988  \n",
       "1691  261.500000  "
      ]
     },
     "execution_count": 4,
     "metadata": {},
     "output_type": "execute_result"
    }
   ],
   "source": [
    "data.tail()"
   ]
  },
  {
   "cell_type": "code",
   "execution_count": 5,
   "id": "051dddf0",
   "metadata": {},
   "outputs": [
    {
     "name": "stdout",
     "output_type": "stream",
     "text": [
      "Data length : 1692\n",
      "Train data length : 1184\n",
      "Validation data lenth : 508\n"
     ]
    }
   ],
   "source": [
    "length_data = len(data)\n",
    "split_ratio = 0.7\n",
    "length_train = round(length_data*split_ratio)\n",
    "length_validation = length_data - length_train\n",
    "print(\"Data length :\", length_data)\n",
    "print(\"Train data length :\", length_train)\n",
    "print(\"Validation data lenth :\", length_validation)"
   ]
  },
  {
   "cell_type": "code",
   "execution_count": 6,
   "id": "387f8c80",
   "metadata": {},
   "outputs": [
    {
     "data": {
      "text/html": [
       "<div>\n",
       "<style scoped>\n",
       "    .dataframe tbody tr th:only-of-type {\n",
       "        vertical-align: middle;\n",
       "    }\n",
       "\n",
       "    .dataframe tbody tr th {\n",
       "        vertical-align: top;\n",
       "    }\n",
       "\n",
       "    .dataframe thead th {\n",
       "        text-align: right;\n",
       "    }\n",
       "</style>\n",
       "<table border=\"1\" class=\"dataframe\">\n",
       "  <thead>\n",
       "    <tr style=\"text-align: right;\">\n",
       "      <th></th>\n",
       "      <th>Date</th>\n",
       "      <th>Open</th>\n",
       "      <th>High</th>\n",
       "      <th>Low</th>\n",
       "      <th>Close</th>\n",
       "      <th>Volume</th>\n",
       "      <th>Adj Close</th>\n",
       "    </tr>\n",
       "  </thead>\n",
       "  <tbody>\n",
       "    <tr>\n",
       "      <th>0</th>\n",
       "      <td>6/29/2010</td>\n",
       "      <td>19.000000</td>\n",
       "      <td>25.000000</td>\n",
       "      <td>17.540001</td>\n",
       "      <td>23.889999</td>\n",
       "      <td>18766300</td>\n",
       "      <td>23.889999</td>\n",
       "    </tr>\n",
       "    <tr>\n",
       "      <th>1</th>\n",
       "      <td>6/30/2010</td>\n",
       "      <td>25.790001</td>\n",
       "      <td>30.420000</td>\n",
       "      <td>23.299999</td>\n",
       "      <td>23.830000</td>\n",
       "      <td>17187100</td>\n",
       "      <td>23.830000</td>\n",
       "    </tr>\n",
       "    <tr>\n",
       "      <th>2</th>\n",
       "      <td>7/1/2010</td>\n",
       "      <td>25.000000</td>\n",
       "      <td>25.920000</td>\n",
       "      <td>20.270000</td>\n",
       "      <td>21.959999</td>\n",
       "      <td>8218800</td>\n",
       "      <td>21.959999</td>\n",
       "    </tr>\n",
       "    <tr>\n",
       "      <th>3</th>\n",
       "      <td>7/2/2010</td>\n",
       "      <td>23.000000</td>\n",
       "      <td>23.100000</td>\n",
       "      <td>18.709999</td>\n",
       "      <td>19.200001</td>\n",
       "      <td>5139800</td>\n",
       "      <td>19.200001</td>\n",
       "    </tr>\n",
       "    <tr>\n",
       "      <th>4</th>\n",
       "      <td>7/6/2010</td>\n",
       "      <td>20.000000</td>\n",
       "      <td>20.000000</td>\n",
       "      <td>15.830000</td>\n",
       "      <td>16.110001</td>\n",
       "      <td>6866900</td>\n",
       "      <td>16.110001</td>\n",
       "    </tr>\n",
       "    <tr>\n",
       "      <th>...</th>\n",
       "      <td>...</td>\n",
       "      <td>...</td>\n",
       "      <td>...</td>\n",
       "      <td>...</td>\n",
       "      <td>...</td>\n",
       "      <td>...</td>\n",
       "      <td>...</td>\n",
       "    </tr>\n",
       "    <tr>\n",
       "      <th>1179</th>\n",
       "      <td>3/6/2015</td>\n",
       "      <td>199.210007</td>\n",
       "      <td>200.750000</td>\n",
       "      <td>192.149994</td>\n",
       "      <td>193.880005</td>\n",
       "      <td>6712400</td>\n",
       "      <td>193.880005</td>\n",
       "    </tr>\n",
       "    <tr>\n",
       "      <th>1180</th>\n",
       "      <td>3/9/2015</td>\n",
       "      <td>194.389999</td>\n",
       "      <td>194.490005</td>\n",
       "      <td>188.250000</td>\n",
       "      <td>190.880005</td>\n",
       "      <td>6736700</td>\n",
       "      <td>190.880005</td>\n",
       "    </tr>\n",
       "    <tr>\n",
       "      <th>1181</th>\n",
       "      <td>3/10/2015</td>\n",
       "      <td>188.460007</td>\n",
       "      <td>193.500000</td>\n",
       "      <td>187.600006</td>\n",
       "      <td>190.320007</td>\n",
       "      <td>5579700</td>\n",
       "      <td>190.320007</td>\n",
       "    </tr>\n",
       "    <tr>\n",
       "      <th>1182</th>\n",
       "      <td>3/11/2015</td>\n",
       "      <td>191.149994</td>\n",
       "      <td>196.179993</td>\n",
       "      <td>191.009995</td>\n",
       "      <td>193.740005</td>\n",
       "      <td>4974900</td>\n",
       "      <td>193.740005</td>\n",
       "    </tr>\n",
       "    <tr>\n",
       "      <th>1183</th>\n",
       "      <td>3/12/2015</td>\n",
       "      <td>193.750000</td>\n",
       "      <td>194.449997</td>\n",
       "      <td>189.750000</td>\n",
       "      <td>191.070007</td>\n",
       "      <td>4149300</td>\n",
       "      <td>191.070007</td>\n",
       "    </tr>\n",
       "  </tbody>\n",
       "</table>\n",
       "<p>1184 rows × 7 columns</p>\n",
       "</div>"
      ],
      "text/plain": [
       "           Date        Open        High         Low       Close    Volume  \\\n",
       "0     6/29/2010   19.000000   25.000000   17.540001   23.889999  18766300   \n",
       "1     6/30/2010   25.790001   30.420000   23.299999   23.830000  17187100   \n",
       "2      7/1/2010   25.000000   25.920000   20.270000   21.959999   8218800   \n",
       "3      7/2/2010   23.000000   23.100000   18.709999   19.200001   5139800   \n",
       "4      7/6/2010   20.000000   20.000000   15.830000   16.110001   6866900   \n",
       "...         ...         ...         ...         ...         ...       ...   \n",
       "1179   3/6/2015  199.210007  200.750000  192.149994  193.880005   6712400   \n",
       "1180   3/9/2015  194.389999  194.490005  188.250000  190.880005   6736700   \n",
       "1181  3/10/2015  188.460007  193.500000  187.600006  190.320007   5579700   \n",
       "1182  3/11/2015  191.149994  196.179993  191.009995  193.740005   4974900   \n",
       "1183  3/12/2015  193.750000  194.449997  189.750000  191.070007   4149300   \n",
       "\n",
       "       Adj Close  \n",
       "0      23.889999  \n",
       "1      23.830000  \n",
       "2      21.959999  \n",
       "3      19.200001  \n",
       "4      16.110001  \n",
       "...          ...  \n",
       "1179  193.880005  \n",
       "1180  190.880005  \n",
       "1181  190.320007  \n",
       "1182  193.740005  \n",
       "1183  191.070007  \n",
       "\n",
       "[1184 rows x 7 columns]"
      ]
     },
     "execution_count": 6,
     "metadata": {},
     "output_type": "execute_result"
    }
   ],
   "source": [
    "data_training = data[:length_train]\n",
    "data_training"
   ]
  },
  {
   "cell_type": "code",
   "execution_count": 7,
   "id": "d8a9ef68",
   "metadata": {},
   "outputs": [
    {
     "data": {
      "text/html": [
       "<div>\n",
       "<style scoped>\n",
       "    .dataframe tbody tr th:only-of-type {\n",
       "        vertical-align: middle;\n",
       "    }\n",
       "\n",
       "    .dataframe tbody tr th {\n",
       "        vertical-align: top;\n",
       "    }\n",
       "\n",
       "    .dataframe thead th {\n",
       "        text-align: right;\n",
       "    }\n",
       "</style>\n",
       "<table border=\"1\" class=\"dataframe\">\n",
       "  <thead>\n",
       "    <tr style=\"text-align: right;\">\n",
       "      <th></th>\n",
       "      <th>Date</th>\n",
       "      <th>Open</th>\n",
       "      <th>High</th>\n",
       "      <th>Low</th>\n",
       "      <th>Close</th>\n",
       "      <th>Volume</th>\n",
       "      <th>Adj Close</th>\n",
       "    </tr>\n",
       "  </thead>\n",
       "  <tbody>\n",
       "    <tr>\n",
       "      <th>1184</th>\n",
       "      <td>3/13/2015</td>\n",
       "      <td>188.949997</td>\n",
       "      <td>191.750000</td>\n",
       "      <td>187.320007</td>\n",
       "      <td>188.679993</td>\n",
       "      <td>5434300</td>\n",
       "      <td>188.679993</td>\n",
       "    </tr>\n",
       "    <tr>\n",
       "      <th>1185</th>\n",
       "      <td>3/16/2015</td>\n",
       "      <td>192.000000</td>\n",
       "      <td>195.910004</td>\n",
       "      <td>189.800003</td>\n",
       "      <td>195.699997</td>\n",
       "      <td>5628800</td>\n",
       "      <td>195.699997</td>\n",
       "    </tr>\n",
       "    <tr>\n",
       "      <th>1186</th>\n",
       "      <td>3/17/2015</td>\n",
       "      <td>195.429993</td>\n",
       "      <td>198.710007</td>\n",
       "      <td>193.940002</td>\n",
       "      <td>194.729996</td>\n",
       "      <td>4894100</td>\n",
       "      <td>194.729996</td>\n",
       "    </tr>\n",
       "    <tr>\n",
       "      <th>1187</th>\n",
       "      <td>3/18/2015</td>\n",
       "      <td>194.960007</td>\n",
       "      <td>200.880005</td>\n",
       "      <td>193.110001</td>\n",
       "      <td>200.710007</td>\n",
       "      <td>4820900</td>\n",
       "      <td>200.710007</td>\n",
       "    </tr>\n",
       "    <tr>\n",
       "      <th>1188</th>\n",
       "      <td>3/19/2015</td>\n",
       "      <td>202.000000</td>\n",
       "      <td>204.589996</td>\n",
       "      <td>194.529999</td>\n",
       "      <td>195.649994</td>\n",
       "      <td>8475200</td>\n",
       "      <td>195.649994</td>\n",
       "    </tr>\n",
       "    <tr>\n",
       "      <th>...</th>\n",
       "      <td>...</td>\n",
       "      <td>...</td>\n",
       "      <td>...</td>\n",
       "      <td>...</td>\n",
       "      <td>...</td>\n",
       "      <td>...</td>\n",
       "      <td>...</td>\n",
       "    </tr>\n",
       "    <tr>\n",
       "      <th>1687</th>\n",
       "      <td>3/13/2017</td>\n",
       "      <td>244.820007</td>\n",
       "      <td>246.850006</td>\n",
       "      <td>242.779999</td>\n",
       "      <td>246.169998</td>\n",
       "      <td>3010700</td>\n",
       "      <td>246.169998</td>\n",
       "    </tr>\n",
       "    <tr>\n",
       "      <th>1688</th>\n",
       "      <td>3/14/2017</td>\n",
       "      <td>246.110001</td>\n",
       "      <td>258.119995</td>\n",
       "      <td>246.020004</td>\n",
       "      <td>258.000000</td>\n",
       "      <td>7575500</td>\n",
       "      <td>258.000000</td>\n",
       "    </tr>\n",
       "    <tr>\n",
       "      <th>1689</th>\n",
       "      <td>3/15/2017</td>\n",
       "      <td>257.000000</td>\n",
       "      <td>261.000000</td>\n",
       "      <td>254.270004</td>\n",
       "      <td>255.729996</td>\n",
       "      <td>4816600</td>\n",
       "      <td>255.729996</td>\n",
       "    </tr>\n",
       "    <tr>\n",
       "      <th>1690</th>\n",
       "      <td>3/16/2017</td>\n",
       "      <td>262.399994</td>\n",
       "      <td>265.750000</td>\n",
       "      <td>259.059998</td>\n",
       "      <td>262.049988</td>\n",
       "      <td>7100400</td>\n",
       "      <td>262.049988</td>\n",
       "    </tr>\n",
       "    <tr>\n",
       "      <th>1691</th>\n",
       "      <td>3/17/2017</td>\n",
       "      <td>264.000000</td>\n",
       "      <td>265.329987</td>\n",
       "      <td>261.200012</td>\n",
       "      <td>261.500000</td>\n",
       "      <td>6475900</td>\n",
       "      <td>261.500000</td>\n",
       "    </tr>\n",
       "  </tbody>\n",
       "</table>\n",
       "<p>508 rows × 7 columns</p>\n",
       "</div>"
      ],
      "text/plain": [
       "           Date        Open        High         Low       Close   Volume  \\\n",
       "1184  3/13/2015  188.949997  191.750000  187.320007  188.679993  5434300   \n",
       "1185  3/16/2015  192.000000  195.910004  189.800003  195.699997  5628800   \n",
       "1186  3/17/2015  195.429993  198.710007  193.940002  194.729996  4894100   \n",
       "1187  3/18/2015  194.960007  200.880005  193.110001  200.710007  4820900   \n",
       "1188  3/19/2015  202.000000  204.589996  194.529999  195.649994  8475200   \n",
       "...         ...         ...         ...         ...         ...      ...   \n",
       "1687  3/13/2017  244.820007  246.850006  242.779999  246.169998  3010700   \n",
       "1688  3/14/2017  246.110001  258.119995  246.020004  258.000000  7575500   \n",
       "1689  3/15/2017  257.000000  261.000000  254.270004  255.729996  4816600   \n",
       "1690  3/16/2017  262.399994  265.750000  259.059998  262.049988  7100400   \n",
       "1691  3/17/2017  264.000000  265.329987  261.200012  261.500000  6475900   \n",
       "\n",
       "       Adj Close  \n",
       "1184  188.679993  \n",
       "1185  195.699997  \n",
       "1186  194.729996  \n",
       "1187  200.710007  \n",
       "1188  195.649994  \n",
       "...          ...  \n",
       "1687  246.169998  \n",
       "1688  258.000000  \n",
       "1689  255.729996  \n",
       "1690  262.049988  \n",
       "1691  261.500000  \n",
       "\n",
       "[508 rows x 7 columns]"
      ]
     },
     "execution_count": 7,
     "metadata": {},
     "output_type": "execute_result"
    }
   ],
   "source": [
    "data_test = data[length_train:]\n",
    "data_test"
   ]
  },
  {
   "cell_type": "code",
   "execution_count": 8,
   "id": "0346e814",
   "metadata": {},
   "outputs": [
    {
     "data": {
      "text/html": [
       "<div>\n",
       "<style scoped>\n",
       "    .dataframe tbody tr th:only-of-type {\n",
       "        vertical-align: middle;\n",
       "    }\n",
       "\n",
       "    .dataframe tbody tr th {\n",
       "        vertical-align: top;\n",
       "    }\n",
       "\n",
       "    .dataframe thead th {\n",
       "        text-align: right;\n",
       "    }\n",
       "</style>\n",
       "<table border=\"1\" class=\"dataframe\">\n",
       "  <thead>\n",
       "    <tr style=\"text-align: right;\">\n",
       "      <th></th>\n",
       "      <th>Open</th>\n",
       "      <th>High</th>\n",
       "      <th>Low</th>\n",
       "      <th>Close</th>\n",
       "      <th>Volume</th>\n",
       "    </tr>\n",
       "  </thead>\n",
       "  <tbody>\n",
       "    <tr>\n",
       "      <th>0</th>\n",
       "      <td>19.000000</td>\n",
       "      <td>25.00</td>\n",
       "      <td>17.540001</td>\n",
       "      <td>23.889999</td>\n",
       "      <td>18766300</td>\n",
       "    </tr>\n",
       "    <tr>\n",
       "      <th>1</th>\n",
       "      <td>25.790001</td>\n",
       "      <td>30.42</td>\n",
       "      <td>23.299999</td>\n",
       "      <td>23.830000</td>\n",
       "      <td>17187100</td>\n",
       "    </tr>\n",
       "    <tr>\n",
       "      <th>2</th>\n",
       "      <td>25.000000</td>\n",
       "      <td>25.92</td>\n",
       "      <td>20.270000</td>\n",
       "      <td>21.959999</td>\n",
       "      <td>8218800</td>\n",
       "    </tr>\n",
       "    <tr>\n",
       "      <th>3</th>\n",
       "      <td>23.000000</td>\n",
       "      <td>23.10</td>\n",
       "      <td>18.709999</td>\n",
       "      <td>19.200001</td>\n",
       "      <td>5139800</td>\n",
       "    </tr>\n",
       "    <tr>\n",
       "      <th>4</th>\n",
       "      <td>20.000000</td>\n",
       "      <td>20.00</td>\n",
       "      <td>15.830000</td>\n",
       "      <td>16.110001</td>\n",
       "      <td>6866900</td>\n",
       "    </tr>\n",
       "  </tbody>\n",
       "</table>\n",
       "</div>"
      ],
      "text/plain": [
       "        Open   High        Low      Close    Volume\n",
       "0  19.000000  25.00  17.540001  23.889999  18766300\n",
       "1  25.790001  30.42  23.299999  23.830000  17187100\n",
       "2  25.000000  25.92  20.270000  21.959999   8218800\n",
       "3  23.000000  23.10  18.709999  19.200001   5139800\n",
       "4  20.000000  20.00  15.830000  16.110001   6866900"
      ]
     },
     "execution_count": 8,
     "metadata": {},
     "output_type": "execute_result"
    }
   ],
   "source": [
    "training_data = data_training.drop(['Date','Adj Close'],axis=1)\n",
    "training_data.head()"
   ]
  },
  {
   "cell_type": "code",
   "execution_count": 9,
   "id": "c22db68c",
   "metadata": {},
   "outputs": [
    {
     "data": {
      "text/plain": [
       "array([[0.01053291, 0.03045963, 0.00964509, 0.02993635, 0.50337694],\n",
       "       [0.03553936, 0.05018378, 0.03134654, 0.02971433, 0.46074816],\n",
       "       [0.03262991, 0.03380764, 0.01993068, 0.02279455, 0.21865873],\n",
       "       ...,\n",
       "       [0.634626  , 0.64365513, 0.6503655 , 0.64579633, 0.14741911],\n",
       "       [0.64453278, 0.653408  , 0.66321302, 0.65845174, 0.1310932 ],\n",
       "       [0.65410817, 0.6471123 , 0.65846584, 0.64857164, 0.10880703]])"
      ]
     },
     "execution_count": 9,
     "metadata": {},
     "output_type": "execute_result"
    }
   ],
   "source": [
    "scaler = MinMaxScaler()\n",
    "training_data = scaler.fit_transform(training_data)\n",
    "training_data"
   ]
  },
  {
   "cell_type": "code",
   "execution_count": 10,
   "id": "9e9f09e7",
   "metadata": {},
   "outputs": [],
   "source": [
    "X_train = []\n",
    "y_train = []"
   ]
  },
  {
   "cell_type": "code",
   "execution_count": 11,
   "id": "35f84f9e",
   "metadata": {},
   "outputs": [],
   "source": [
    "for i in range(60,length_train):\n",
    "    X_train.append(training_data[i-60:i])\n",
    "    y_train.append(training_data[i])"
   ]
  },
  {
   "cell_type": "code",
   "execution_count": 12,
   "id": "9cecf5fb",
   "metadata": {},
   "outputs": [],
   "source": [
    "X_train, y_train = np.array(X_train), np.array(y_train)"
   ]
  },
  {
   "cell_type": "code",
   "execution_count": 13,
   "id": "5b4ee555",
   "metadata": {},
   "outputs": [
    {
     "data": {
      "text/plain": [
       "((1124, 60, 5), (1124, 5))"
      ]
     },
     "execution_count": 13,
     "metadata": {},
     "output_type": "execute_result"
    }
   ],
   "source": [
    "X_train.shape, y_train.shape"
   ]
  },
  {
   "cell_type": "markdown",
   "id": "e60c57af",
   "metadata": {},
   "source": [
    "# LSTM"
   ]
  },
  {
   "cell_type": "code",
   "execution_count": 14,
   "id": "46f768e3",
   "metadata": {},
   "outputs": [],
   "source": [
    "from tensorflow.keras import Sequential\n",
    "from tensorflow.keras.layers import Dense,LSTM,Dropout"
   ]
  },
  {
   "cell_type": "code",
   "execution_count": 15,
   "id": "29ab8e38",
   "metadata": {},
   "outputs": [],
   "source": [
    "regressior = Sequential()\n",
    "regressior.add(LSTM(units = 50,activation='relu',return_sequences=True,input_shape = (X_train.shape[1],5)))\n",
    "regressior.add(Dropout(0.2))\n",
    "\n",
    "regressior.add(LSTM(units = 60,activation='relu',return_sequences=True))\n",
    "regressior.add(Dropout(0.2))\n",
    "\n",
    "regressior.add(LSTM(units = 80,activation='relu',return_sequences=True))\n",
    "regressior.add(Dropout(0.4))\n",
    "\n",
    "regressior.add(LSTM(units = 120,activation='relu'))\n",
    "regressior.add(Dropout(0.5))\n",
    "\n",
    "regressior.add(Dense(units = 5))"
   ]
  },
  {
   "cell_type": "code",
   "execution_count": 16,
   "id": "6f4d45c3",
   "metadata": {},
   "outputs": [
    {
     "name": "stdout",
     "output_type": "stream",
     "text": [
      "Model: \"sequential\"\n",
      "_________________________________________________________________\n",
      " Layer (type)                Output Shape              Param #   \n",
      "=================================================================\n",
      " lstm (LSTM)                 (None, 60, 50)            11200     \n",
      "                                                                 \n",
      " dropout (Dropout)           (None, 60, 50)            0         \n",
      "                                                                 \n",
      " lstm_1 (LSTM)               (None, 60, 60)            26640     \n",
      "                                                                 \n",
      " dropout_1 (Dropout)         (None, 60, 60)            0         \n",
      "                                                                 \n",
      " lstm_2 (LSTM)               (None, 60, 80)            45120     \n",
      "                                                                 \n",
      " dropout_2 (Dropout)         (None, 60, 80)            0         \n",
      "                                                                 \n",
      " lstm_3 (LSTM)               (None, 120)               96480     \n",
      "                                                                 \n",
      " dropout_3 (Dropout)         (None, 120)               0         \n",
      "                                                                 \n",
      " dense (Dense)               (None, 5)                 605       \n",
      "                                                                 \n",
      "=================================================================\n",
      "Total params: 180,045\n",
      "Trainable params: 180,045\n",
      "Non-trainable params: 0\n",
      "_________________________________________________________________\n"
     ]
    }
   ],
   "source": [
    "regressior.summary()"
   ]
  },
  {
   "cell_type": "code",
   "execution_count": 17,
   "id": "d55af85e",
   "metadata": {},
   "outputs": [],
   "source": [
    "regressior.compile(optimizer=\"adam\",loss=\"mean_squared_error\",metrics=['accuracy'])"
   ]
  },
  {
   "cell_type": "code",
   "execution_count": 18,
   "id": "1b3b4598",
   "metadata": {
    "scrolled": true
   },
   "outputs": [
    {
     "name": "stdout",
     "output_type": "stream",
     "text": [
      "Epoch 1/30\n",
      "36/36 [==============================] - 9s 126ms/step - loss: 0.0583 - accuracy: 0.2206\n",
      "Epoch 2/30\n",
      "36/36 [==============================] - 5s 125ms/step - loss: 0.0205 - accuracy: 0.2740\n",
      "Epoch 3/30\n",
      "36/36 [==============================] - 5s 127ms/step - loss: 0.0134 - accuracy: 0.2722\n",
      "Epoch 4/30\n",
      "36/36 [==============================] - 5s 126ms/step - loss: 0.0128 - accuracy: 0.2456\n",
      "Epoch 5/30\n",
      "36/36 [==============================] - 5s 125ms/step - loss: 0.0120 - accuracy: 0.2749\n",
      "Epoch 6/30\n",
      "36/36 [==============================] - 5s 125ms/step - loss: 0.0106 - accuracy: 0.2340\n",
      "Epoch 7/30\n",
      "36/36 [==============================] - 5s 125ms/step - loss: 0.0097 - accuracy: 0.2714\n",
      "Epoch 8/30\n",
      "36/36 [==============================] - 5s 135ms/step - loss: 0.0090 - accuracy: 0.2918\n",
      "Epoch 9/30\n",
      "36/36 [==============================] - 5s 146ms/step - loss: 0.0088 - accuracy: 0.2518\n",
      "Epoch 10/30\n",
      "36/36 [==============================] - 5s 145ms/step - loss: 0.0082 - accuracy: 0.2678\n",
      "Epoch 11/30\n",
      "36/36 [==============================] - 5s 148ms/step - loss: 0.0086 - accuracy: 0.2625\n",
      "Epoch 12/30\n",
      "36/36 [==============================] - 6s 156ms/step - loss: 0.0080 - accuracy: 0.2749\n",
      "Epoch 13/30\n",
      "36/36 [==============================] - 5s 141ms/step - loss: 0.0078 - accuracy: 0.2473\n",
      "Epoch 14/30\n",
      "36/36 [==============================] - 5s 145ms/step - loss: 0.0068 - accuracy: 0.2304\n",
      "Epoch 15/30\n",
      "36/36 [==============================] - 5s 136ms/step - loss: 0.0064 - accuracy: 0.2811\n",
      "Epoch 16/30\n",
      "36/36 [==============================] - 5s 134ms/step - loss: 0.0070 - accuracy: 0.2954\n",
      "Epoch 17/30\n",
      "36/36 [==============================] - 5s 132ms/step - loss: 0.0067 - accuracy: 0.2705\n",
      "Epoch 18/30\n",
      "36/36 [==============================] - 5s 139ms/step - loss: 0.0061 - accuracy: 0.2722\n",
      "Epoch 19/30\n",
      "36/36 [==============================] - 5s 152ms/step - loss: 0.0066 - accuracy: 0.2651\n",
      "Epoch 20/30\n",
      "36/36 [==============================] - 5s 145ms/step - loss: 0.0062 - accuracy: 0.2936\n",
      "Epoch 21/30\n",
      "36/36 [==============================] - 4s 124ms/step - loss: 0.0060 - accuracy: 0.2972\n",
      "Epoch 22/30\n",
      "36/36 [==============================] - 5s 137ms/step - loss: 0.0057 - accuracy: 0.2447\n",
      "Epoch 23/30\n",
      "36/36 [==============================] - 5s 151ms/step - loss: 0.0061 - accuracy: 0.3550\n",
      "Epoch 24/30\n",
      "36/36 [==============================] - 6s 154ms/step - loss: 0.0058 - accuracy: 0.2794\n",
      "Epoch 25/30\n",
      "36/36 [==============================] - 5s 144ms/step - loss: 0.0061 - accuracy: 0.2883\n",
      "Epoch 26/30\n",
      "36/36 [==============================] - 5s 150ms/step - loss: 0.0057 - accuracy: 0.3087\n",
      "Epoch 27/30\n",
      "36/36 [==============================] - 5s 131ms/step - loss: 0.0056 - accuracy: 0.2874\n",
      "Epoch 28/30\n",
      "36/36 [==============================] - 5s 138ms/step - loss: 0.0057 - accuracy: 0.3078\n",
      "Epoch 29/30\n",
      "36/36 [==============================] - 5s 150ms/step - loss: 0.0054 - accuracy: 0.3105\n",
      "Epoch 30/30\n",
      "36/36 [==============================] - 5s 127ms/step - loss: 0.0058 - accuracy: 0.3247\n"
     ]
    },
    {
     "data": {
      "text/plain": [
       "<keras.callbacks.History at 0x1580e1624f0>"
      ]
     },
     "execution_count": 18,
     "metadata": {},
     "output_type": "execute_result"
    }
   ],
   "source": [
    "regressior.fit(X_train,y_train,epochs=30,batch_size=32)"
   ]
  },
  {
   "cell_type": "code",
   "execution_count": 19,
   "id": "c42ec19f",
   "metadata": {},
   "outputs": [],
   "source": [
    "past_60_day = data_training.tail(60)"
   ]
  },
  {
   "cell_type": "code",
   "execution_count": 20,
   "id": "a7594d4e",
   "metadata": {},
   "outputs": [
    {
     "name": "stderr",
     "output_type": "stream",
     "text": [
      "C:\\Users\\Windows\\AppData\\Local\\Temp\\ipykernel_9980\\4270961980.py:1: FutureWarning: The frame.append method is deprecated and will be removed from pandas in a future version. Use pandas.concat instead.\n",
      "  df = past_60_day.append(data_test,ignore_index=True)\n"
     ]
    }
   ],
   "source": [
    "df = past_60_day.append(data_test,ignore_index=True)"
   ]
  },
  {
   "cell_type": "code",
   "execution_count": 21,
   "id": "4f0cfda9",
   "metadata": {},
   "outputs": [
    {
     "data": {
      "text/html": [
       "<div>\n",
       "<style scoped>\n",
       "    .dataframe tbody tr th:only-of-type {\n",
       "        vertical-align: middle;\n",
       "    }\n",
       "\n",
       "    .dataframe tbody tr th {\n",
       "        vertical-align: top;\n",
       "    }\n",
       "\n",
       "    .dataframe thead th {\n",
       "        text-align: right;\n",
       "    }\n",
       "</style>\n",
       "<table border=\"1\" class=\"dataframe\">\n",
       "  <thead>\n",
       "    <tr style=\"text-align: right;\">\n",
       "      <th></th>\n",
       "      <th>Date</th>\n",
       "      <th>Open</th>\n",
       "      <th>High</th>\n",
       "      <th>Low</th>\n",
       "      <th>Close</th>\n",
       "      <th>Volume</th>\n",
       "      <th>Adj Close</th>\n",
       "    </tr>\n",
       "  </thead>\n",
       "  <tbody>\n",
       "    <tr>\n",
       "      <th>0</th>\n",
       "      <td>12/15/2014</td>\n",
       "      <td>209.289993</td>\n",
       "      <td>209.800003</td>\n",
       "      <td>202.669998</td>\n",
       "      <td>204.039993</td>\n",
       "      <td>5218300</td>\n",
       "      <td>204.039993</td>\n",
       "    </tr>\n",
       "    <tr>\n",
       "      <th>1</th>\n",
       "      <td>12/16/2014</td>\n",
       "      <td>200.889999</td>\n",
       "      <td>203.679993</td>\n",
       "      <td>195.369995</td>\n",
       "      <td>197.809998</td>\n",
       "      <td>8426100</td>\n",
       "      <td>197.809998</td>\n",
       "    </tr>\n",
       "    <tr>\n",
       "      <th>2</th>\n",
       "      <td>12/17/2014</td>\n",
       "      <td>193.059998</td>\n",
       "      <td>206.649994</td>\n",
       "      <td>192.649994</td>\n",
       "      <td>205.820007</td>\n",
       "      <td>7367800</td>\n",
       "      <td>205.820007</td>\n",
       "    </tr>\n",
       "    <tr>\n",
       "      <th>3</th>\n",
       "      <td>12/18/2014</td>\n",
       "      <td>212.380005</td>\n",
       "      <td>218.440002</td>\n",
       "      <td>211.800003</td>\n",
       "      <td>218.259995</td>\n",
       "      <td>7483300</td>\n",
       "      <td>218.259995</td>\n",
       "    </tr>\n",
       "    <tr>\n",
       "      <th>4</th>\n",
       "      <td>12/19/2014</td>\n",
       "      <td>220.190002</td>\n",
       "      <td>220.399994</td>\n",
       "      <td>214.500000</td>\n",
       "      <td>219.289993</td>\n",
       "      <td>6910500</td>\n",
       "      <td>219.289993</td>\n",
       "    </tr>\n",
       "    <tr>\n",
       "      <th>...</th>\n",
       "      <td>...</td>\n",
       "      <td>...</td>\n",
       "      <td>...</td>\n",
       "      <td>...</td>\n",
       "      <td>...</td>\n",
       "      <td>...</td>\n",
       "      <td>...</td>\n",
       "    </tr>\n",
       "    <tr>\n",
       "      <th>563</th>\n",
       "      <td>3/13/2017</td>\n",
       "      <td>244.820007</td>\n",
       "      <td>246.850006</td>\n",
       "      <td>242.779999</td>\n",
       "      <td>246.169998</td>\n",
       "      <td>3010700</td>\n",
       "      <td>246.169998</td>\n",
       "    </tr>\n",
       "    <tr>\n",
       "      <th>564</th>\n",
       "      <td>3/14/2017</td>\n",
       "      <td>246.110001</td>\n",
       "      <td>258.119995</td>\n",
       "      <td>246.020004</td>\n",
       "      <td>258.000000</td>\n",
       "      <td>7575500</td>\n",
       "      <td>258.000000</td>\n",
       "    </tr>\n",
       "    <tr>\n",
       "      <th>565</th>\n",
       "      <td>3/15/2017</td>\n",
       "      <td>257.000000</td>\n",
       "      <td>261.000000</td>\n",
       "      <td>254.270004</td>\n",
       "      <td>255.729996</td>\n",
       "      <td>4816600</td>\n",
       "      <td>255.729996</td>\n",
       "    </tr>\n",
       "    <tr>\n",
       "      <th>566</th>\n",
       "      <td>3/16/2017</td>\n",
       "      <td>262.399994</td>\n",
       "      <td>265.750000</td>\n",
       "      <td>259.059998</td>\n",
       "      <td>262.049988</td>\n",
       "      <td>7100400</td>\n",
       "      <td>262.049988</td>\n",
       "    </tr>\n",
       "    <tr>\n",
       "      <th>567</th>\n",
       "      <td>3/17/2017</td>\n",
       "      <td>264.000000</td>\n",
       "      <td>265.329987</td>\n",
       "      <td>261.200012</td>\n",
       "      <td>261.500000</td>\n",
       "      <td>6475900</td>\n",
       "      <td>261.500000</td>\n",
       "    </tr>\n",
       "  </tbody>\n",
       "</table>\n",
       "<p>568 rows × 7 columns</p>\n",
       "</div>"
      ],
      "text/plain": [
       "           Date        Open        High         Low       Close   Volume  \\\n",
       "0    12/15/2014  209.289993  209.800003  202.669998  204.039993  5218300   \n",
       "1    12/16/2014  200.889999  203.679993  195.369995  197.809998  8426100   \n",
       "2    12/17/2014  193.059998  206.649994  192.649994  205.820007  7367800   \n",
       "3    12/18/2014  212.380005  218.440002  211.800003  218.259995  7483300   \n",
       "4    12/19/2014  220.190002  220.399994  214.500000  219.289993  6910500   \n",
       "..          ...         ...         ...         ...         ...      ...   \n",
       "563   3/13/2017  244.820007  246.850006  242.779999  246.169998  3010700   \n",
       "564   3/14/2017  246.110001  258.119995  246.020004  258.000000  7575500   \n",
       "565   3/15/2017  257.000000  261.000000  254.270004  255.729996  4816600   \n",
       "566   3/16/2017  262.399994  265.750000  259.059998  262.049988  7100400   \n",
       "567   3/17/2017  264.000000  265.329987  261.200012  261.500000  6475900   \n",
       "\n",
       "      Adj Close  \n",
       "0    204.039993  \n",
       "1    197.809998  \n",
       "2    205.820007  \n",
       "3    218.259995  \n",
       "4    219.289993  \n",
       "..          ...  \n",
       "563  246.169998  \n",
       "564  258.000000  \n",
       "565  255.729996  \n",
       "566  262.049988  \n",
       "567  261.500000  \n",
       "\n",
       "[568 rows x 7 columns]"
      ]
     },
     "execution_count": 21,
     "metadata": {},
     "output_type": "execute_result"
    }
   ],
   "source": [
    "df"
   ]
  },
  {
   "cell_type": "code",
   "execution_count": 22,
   "id": "b98e5676",
   "metadata": {},
   "outputs": [
    {
     "data": {
      "text/html": [
       "<div>\n",
       "<style scoped>\n",
       "    .dataframe tbody tr th:only-of-type {\n",
       "        vertical-align: middle;\n",
       "    }\n",
       "\n",
       "    .dataframe tbody tr th {\n",
       "        vertical-align: top;\n",
       "    }\n",
       "\n",
       "    .dataframe thead th {\n",
       "        text-align: right;\n",
       "    }\n",
       "</style>\n",
       "<table border=\"1\" class=\"dataframe\">\n",
       "  <thead>\n",
       "    <tr style=\"text-align: right;\">\n",
       "      <th></th>\n",
       "      <th>Open</th>\n",
       "      <th>High</th>\n",
       "      <th>Low</th>\n",
       "      <th>Close</th>\n",
       "      <th>Volume</th>\n",
       "    </tr>\n",
       "  </thead>\n",
       "  <tbody>\n",
       "    <tr>\n",
       "      <th>0</th>\n",
       "      <td>209.289993</td>\n",
       "      <td>209.800003</td>\n",
       "      <td>202.669998</td>\n",
       "      <td>204.039993</td>\n",
       "      <td>5218300</td>\n",
       "    </tr>\n",
       "    <tr>\n",
       "      <th>1</th>\n",
       "      <td>200.889999</td>\n",
       "      <td>203.679993</td>\n",
       "      <td>195.369995</td>\n",
       "      <td>197.809998</td>\n",
       "      <td>8426100</td>\n",
       "    </tr>\n",
       "    <tr>\n",
       "      <th>2</th>\n",
       "      <td>193.059998</td>\n",
       "      <td>206.649994</td>\n",
       "      <td>192.649994</td>\n",
       "      <td>205.820007</td>\n",
       "      <td>7367800</td>\n",
       "    </tr>\n",
       "    <tr>\n",
       "      <th>3</th>\n",
       "      <td>212.380005</td>\n",
       "      <td>218.440002</td>\n",
       "      <td>211.800003</td>\n",
       "      <td>218.259995</td>\n",
       "      <td>7483300</td>\n",
       "    </tr>\n",
       "    <tr>\n",
       "      <th>4</th>\n",
       "      <td>220.190002</td>\n",
       "      <td>220.399994</td>\n",
       "      <td>214.500000</td>\n",
       "      <td>219.289993</td>\n",
       "      <td>6910500</td>\n",
       "    </tr>\n",
       "  </tbody>\n",
       "</table>\n",
       "</div>"
      ],
      "text/plain": [
       "         Open        High         Low       Close   Volume\n",
       "0  209.289993  209.800003  202.669998  204.039993  5218300\n",
       "1  200.889999  203.679993  195.369995  197.809998  8426100\n",
       "2  193.059998  206.649994  192.649994  205.820007  7367800\n",
       "3  212.380005  218.440002  211.800003  218.259995  7483300\n",
       "4  220.190002  220.399994  214.500000  219.289993  6910500"
      ]
     },
     "execution_count": 22,
     "metadata": {},
     "output_type": "execute_result"
    }
   ],
   "source": [
    "df = df.drop([\"Date\",\"Adj Close\"],axis=1)\n",
    "df.head()"
   ]
  },
  {
   "cell_type": "code",
   "execution_count": 23,
   "id": "f9a4b04d",
   "metadata": {},
   "outputs": [
    {
     "data": {
      "text/plain": [
       "array([[0.71133939, 0.70297316, 0.7071434 , 0.69656597, 0.13766352],\n",
       "       [0.6804036 , 0.68070157, 0.67963981, 0.6735124 , 0.22425456],\n",
       "       [0.65156701, 0.69150983, 0.6693919 , 0.70315276, 0.19568691],\n",
       "       ...,\n",
       "       [0.88704743, 0.88929724, 0.90155229, 0.88784039, 0.12682006],\n",
       "       [0.90693471, 0.90658317, 0.91959914, 0.91122698, 0.18846874],\n",
       "       [0.91282727, 0.90505468, 0.92766189, 0.9091918 , 0.17161105]])"
      ]
     },
     "execution_count": 23,
     "metadata": {},
     "output_type": "execute_result"
    }
   ],
   "source": [
    "inputs = scaler.transform(df)\n",
    "inputs"
   ]
  },
  {
   "cell_type": "code",
   "execution_count": 24,
   "id": "e79a5f1a",
   "metadata": {},
   "outputs": [],
   "source": [
    "X_test = []\n",
    "y_test = []\n",
    "for i in range(60,inputs.shape[0]):\n",
    "    X_test.append(inputs[i-60:i])\n",
    "    y_test.append(inputs[i])"
   ]
  },
  {
   "cell_type": "code",
   "execution_count": 25,
   "id": "76c14a93",
   "metadata": {},
   "outputs": [
    {
     "data": {
      "text/plain": [
       "((508, 60, 5), (508, 5))"
      ]
     },
     "execution_count": 25,
     "metadata": {},
     "output_type": "execute_result"
    }
   ],
   "source": [
    "X_test, y_test = np.array(X_test), np.array(y_test)\n",
    "X_test.shape, y_test.shape"
   ]
  },
  {
   "cell_type": "code",
   "execution_count": 26,
   "id": "1bd076b0",
   "metadata": {},
   "outputs": [
    {
     "name": "stdout",
     "output_type": "stream",
     "text": [
      "16/16 [==============================] - 1s 39ms/step\n"
     ]
    }
   ],
   "source": [
    "y_pred = regressior.predict(X_test)"
   ]
  },
  {
   "cell_type": "code",
   "execution_count": 27,
   "id": "74509bcc",
   "metadata": {},
   "outputs": [
    {
     "data": {
      "text/plain": [
       "array([3.68283412e-03, 3.63914243e-03, 3.76761368e-03, 3.70041432e-03,\n",
       "       2.69939048e-08])"
      ]
     },
     "execution_count": 27,
     "metadata": {},
     "output_type": "execute_result"
    }
   ],
   "source": [
    "scaler.scale_"
   ]
  },
  {
   "cell_type": "code",
   "execution_count": 28,
   "id": "0067a134",
   "metadata": {},
   "outputs": [
    {
     "data": {
      "text/plain": [
       "271.5300139556652"
      ]
     },
     "execution_count": 28,
     "metadata": {},
     "output_type": "execute_result"
    }
   ],
   "source": [
    "scale  =1/3.68283412e-03\n",
    "scale"
   ]
  },
  {
   "cell_type": "code",
   "execution_count": 29,
   "id": "4ab75999",
   "metadata": {},
   "outputs": [],
   "source": [
    "y_pred = y_pred/scaler.scale_\n",
    "y_test_1 = y_test/scaler.scale_"
   ]
  },
  {
   "cell_type": "code",
   "execution_count": 30,
   "id": "54d19cd7",
   "metadata": {},
   "outputs": [
    {
     "data": {
      "text/plain": [
       "(508, 5)"
      ]
     },
     "execution_count": 30,
     "metadata": {},
     "output_type": "execute_result"
    }
   ],
   "source": [
    "y_pred.shape"
   ]
  },
  {
   "cell_type": "markdown",
   "id": "f603bd1c",
   "metadata": {},
   "source": [
    "#### Visualization"
   ]
  },
  {
   "cell_type": "code",
   "execution_count": 31,
   "id": "01c5b5fd",
   "metadata": {},
   "outputs": [
    {
     "data": {
      "text/plain": [
       "(508,)"
      ]
     },
     "execution_count": 31,
     "metadata": {},
     "output_type": "execute_result"
    }
   ],
   "source": [
    "y_test_open = y_test_1[:,0]\n",
    "y_pred_open = y_pred[:,0]\n",
    "y_test_open.shape"
   ]
  },
  {
   "cell_type": "code",
   "execution_count": 32,
   "id": "69b2cfb1",
   "metadata": {},
   "outputs": [
    {
     "data": {
      "image/png": "[encoded data removed]",
      "text/plain": [
       "<Figure size 1400x500 with 1 Axes>"
      ]
     },
     "metadata": {},
     "output_type": "display_data"
    }
   ],
   "source": [
    "\n",
    "plt.figure(figsize=(14,5))\n",
    "plt.plot(y_test_open,color=\"red\",label=\"Real Tesla Stock Price\")\n",
    "plt.plot(y_pred_open,color=\"blue\",label=\"Predicted Tesla Stock Price\")\n",
    "plt.title(\"Tesla Stock Price Prediction\")\n",
    "plt.xlabel('Time')\n",
    "plt.ylabel('Tesla Stock Price')\n",
    "plt.legend()\n",
    "plt.show()"
   ]
  },
  {
   "cell_type": "code",
   "execution_count": 33,
   "id": "0c875ffc",
   "metadata": {},
   "outputs": [
    {
     "data": {
      "text/plain": [
       "508"
      ]
     },
     "execution_count": 33,
     "metadata": {},
     "output_type": "execute_result"
    }
   ],
   "source": [
    "len(X_test)"
   ]
  },
  {
   "cell_type": "markdown",
   "id": "717f4e98",
   "metadata": {},
   "source": [
    "### Dự đoán 14 ngày"
   ]
  },
  {
   "cell_type": "code",
   "execution_count": 108,
   "id": "7061fe94",
   "metadata": {},
   "outputs": [],
   "source": [
    "last_60 = []\n",
    "for i in range(60):\n",
    "    last_60.append(X_test[507][i].tolist())"
   ]
  },
  {
   "cell_type": "code",
   "execution_count": 109,
   "id": "0f6f21c3",
   "metadata": {},
   "outputs": [],
   "source": [
    "predict_14_day = []"
   ]
  },
  {
   "cell_type": "code",
   "execution_count": 110,
   "id": "ed6da476",
   "metadata": {},
   "outputs": [
    {
     "name": "stdout",
     "output_type": "stream",
     "text": [
      "1/1 [==============================] - 0s 42ms/step\n",
      "1/1 [==============================] - 0s 47ms/step\n",
      "1/1 [==============================] - 0s 41ms/step\n",
      "1/1 [==============================] - 0s 49ms/step\n",
      "1/1 [==============================] - 0s 45ms/step\n",
      "1/1 [==============================] - 0s 42ms/step\n",
      "1/1 [==============================] - 0s 38ms/step\n",
      "1/1 [==============================] - 0s 40ms/step\n",
      "1/1 [==============================] - 0s 46ms/step\n",
      "1/1 [==============================] - 0s 42ms/step\n",
      "1/1 [==============================] - 0s 46ms/step\n",
      "1/1 [==============================] - 0s 44ms/step\n",
      "1/1 [==============================] - 0s 40ms/step\n",
      "1/1 [==============================] - 0s 41ms/step\n"
     ]
    }
   ],
   "source": [
    "for i in range(14):\n",
    "    tmp = np.array(last_60)\n",
    "    next_day = regressior.predict(tmp.reshape(1,60,5))\n",
    "    predict_14_day.append(next_day.reshape(5).tolist())\n",
    "    last_60.append(next_day.reshape(5).tolist())\n",
    "    last_60 = last_60[1:]"
   ]
  },
  {
   "cell_type": "code",
   "execution_count": 111,
   "id": "b5d0b9d7",
   "metadata": {},
   "outputs": [
    {
     "data": {
      "text/plain": [
       "array([2.71530014e+02, 2.74790014e+02, 2.65419994e+02, 2.70240009e+02,\n",
       "       3.70454000e+07])"
      ]
     },
     "execution_count": 111,
     "metadata": {},
     "output_type": "execute_result"
    }
   ],
   "source": [
    "1/scaler.scale_"
   ]
  },
  {
   "cell_type": "code",
   "execution_count": 112,
   "id": "7018aafe",
   "metadata": {
    "scrolled": false
   },
   "outputs": [
    {
     "data": {
      "text/plain": [
       "array([[2.05094303e+02, 2.08017703e+02, 2.00852780e+02, 2.05061123e+02,\n",
       "        5.75540475e+06],\n",
       "       [2.05113482e+02, 2.08023370e+02, 2.00869740e+02, 2.05051845e+02,\n",
       "        5.76360279e+06],\n",
       "       [2.04777379e+02, 2.07673814e+02, 2.00539729e+02, 2.04700233e+02,\n",
       "        5.77117098e+06],\n",
       "       [2.04007534e+02, 2.06890025e+02, 1.99788456e+02, 2.03925540e+02,\n",
       "        5.77958983e+06],\n",
       "       [2.02815079e+02, 2.05682255e+02, 1.98627091e+02, 2.02734176e+02,\n",
       "        5.79033709e+06],\n",
       "       [2.01269465e+02, 2.04119361e+02, 1.97122900e+02, 2.01190718e+02,\n",
       "        5.80449750e+06],\n",
       "       [1.99466776e+02, 2.02296241e+02, 1.95368717e+02, 1.99386591e+02,\n",
       "        5.82267605e+06],\n",
       "       [1.97505576e+02, 2.00310546e+02, 1.93459781e+02, 1.97416878e+02,\n",
       "        5.84499475e+06],\n",
       "       [1.95472696e+02, 1.98248427e+02, 1.91480191e+02, 1.95366450e+02,\n",
       "        5.87117703e+06],\n",
       "       [1.93436547e+02, 1.96177955e+02, 1.89496362e+02, 1.93303055e+02,\n",
       "        5.90068855e+06],\n",
       "       [1.91446037e+02, 1.94147971e+02, 1.87555753e+02, 1.91275871e+02,\n",
       "        5.93284754e+06],\n",
       "       [1.89532275e+02, 1.92189759e+02, 1.85688677e+02, 1.89316950e+02,\n",
       "        5.96692923e+06],\n",
       "       [1.87712204e+02, 1.90320648e+02, 1.83911618e+02, 1.87444430e+02,\n",
       "        6.00226123e+06],\n",
       "       [1.85993205e+02, 1.88548597e+02, 1.82231918e+02, 1.85667315e+02,\n",
       "        6.03822530e+06]])"
      ]
     },
     "execution_count": 112,
     "metadata": {},
     "output_type": "execute_result"
    }
   ],
   "source": [
    "predict_14_day = predict_14_day/scaler.scale_\n",
    "predict_14_day"
   ]
  },
  {
   "cell_type": "code",
   "execution_count": 113,
   "id": "902572f9",
   "metadata": {},
   "outputs": [
    {
     "data": {
      "application/vnd.plotly.v1+json": {
       "config": {
        "plotlyServerURL": "https://plot.ly"
       },
       "data": [
        {
         "hovertemplate": "variable=last_original_days_value<br>Timestamp=%{x}<br>Stock price=%{y}<extra></extra>",
         "legendgroup": "last_original_days_value",
         "line": {
          "color": "#636efa",
          "dash": "solid"
         },
         "marker": {
          "symbol": "circle"
         },
         "mode": "lines",
         "name": "Test open data",
         "orientation": "v",
         "showlegend": true,
         "type": "scatter",
         "x": [
          0,
          1,
          2,
          3,
          4,
          5,
          6,
          7,
          8,
          9,
          10,
          11,
          12,
          13,
          14,
          15,
          16,
          17,
          18,
          19,
          20,
          21,
          22,
          23,
          24,
          25,
          26,
          27,
          28,
          29,
          30,
          31,
          32,
          33,
          34,
          35,
          36,
          37,
          38,
          39,
          40,
          41,
          42,
          43,
          44,
          45,
          46,
          47,
          48,
          49,
          50,
          51,
          52,
          53,
          54,
          55,
          56,
          57,
          58,
          59,
          60,
          61,
          62,
          63,
          64,
          65,
          66,
          67,
          68,
          69,
          70,
          71,
          72,
          73,
          74
         ],
         "xaxis": "x",
         "y": [
          186.91000400000001,
          192.30999799999998,
          192.08000199999998,
          191.860001,
          198.74000600000002,
          205.39,
          202.41999900000002,
          200.160004,
          198.720002,
          198.61000099999998,
          210.279999,
          210.78999399999998,
          212.83000199999998,
          215.86000099999998,
          212.93000800000002,
          212.91999900000002,
          213.86000099999998,
          220.55999799999998,
          220.509995,
          231.110001,
          229.320008,
          229.71000700000002,
          233.86000099999998,
          241.16999900000002,
          238.149994,
          235.240006,
          236.39,
          233.10000599999998,
          236.910004,
          232.19999700000002,
          235.77000499999997,
          234.860001,
          242.050003,
          241.21000700000002,
          250.11000099999998,
          253.65000999999998,
          254.59999099999996,
          262.89,
          263.86000099999995,
          261.460007,
          249.659989,
          259.310013,
          264.169999,
          247.860001,
          236.52000499999997,
          232.029999,
          228.050003,
          238.039994,
          233.57000799999997,
          234.600006,
          231.770005,
          235.779999,
          230.860001,
          231.49000600000002,
          230.070008,
          228.68000800000002,
          229.97000200000002,
          240.86000099999998,
          246.259995,
          247.860001,
          null,
          205.09430322601105,
          205.11348179929698,
          204.7773793255172,
          204.00753359092462,
          202.81507949714018,
          201.26946451924397,
          199.46677573706603,
          197.5055764512911,
          195.4726962363318,
          193.43654676246643,
          191.44603743768656,
          189.5322747749505,
          187.71220389344,
          185.99320490236892
         ],
         "yaxis": "y"
        },
        {
         "hovertemplate": "variable=next_predicted_days_value<br>Timestamp=%{x}<br>Stock price=%{y}<extra></extra>",
         "legendgroup": "next_predicted_days_value",
         "line": {
          "color": "#EF553B",
          "dash": "solid"
         },
         "marker": {
          "symbol": "circle"
         },
         "mode": "lines",
         "name": "Predicted next 14 days open price",
         "orientation": "v",
         "showlegend": true,
         "type": "scatter",
         "x": [
          0,
          1,
          2,
          3,
          4,
          5,
          6,
          7,
          8,
          9,
          10,
          11,
          12,
          13,
          14,
          15,
          16,
          17,
          18,
          19,
          20,
          21,
          22,
          23,
          24,
          25,
          26,
          27,
          28,
          29,
          30,
          31,
          32,
          33,
          34,
          35,
          36,
          37,
          38,
          39,
          40,
          41,
          42,
          43,
          44,
          45,
          46,
          47,
          48,
          49,
          50,
          51,
          52,
          53,
          54,
          55,
          56,
          57,
          58,
          59,
          60,
          61,
          62,
          63,
          64,
          65,
          66,
          67,
          68,
          69,
          70,
          71,
          72,
          73,
          74
         ],
         "xaxis": "x",
         "y": [
          186.91000400000001,
          192.30999799999998,
          192.08000199999998,
          191.860001,
          198.74000600000002,
          205.39,
          202.41999900000002,
          200.160004,
          198.720002,
          198.61000099999998,
          210.279999,
          210.78999399999998,
          212.83000199999998,
          215.86000099999998,
          212.93000800000002,
          212.91999900000002,
          213.86000099999998,
          220.55999799999998,
          220.509995,
          231.110001,
          229.320008,
          229.71000700000002,
          233.86000099999998,
          241.16999900000002,
          238.149994,
          235.240006,
          236.39,
          233.10000599999998,
          236.910004,
          232.19999700000002,
          235.77000499999997,
          234.860001,
          242.050003,
          241.21000700000002,
          250.11000099999998,
          253.65000999999998,
          254.59999099999996,
          262.89,
          263.86000099999995,
          261.460007,
          249.659989,
          259.310013,
          264.169999,
          247.860001,
          236.52000499999997,
          232.029999,
          228.050003,
          238.039994,
          233.57000799999997,
          234.600006,
          231.770005,
          235.779999,
          230.860001,
          231.49000600000002,
          230.070008,
          228.68000800000002,
          229.97000200000002,
          240.86000099999998,
          246.259995,
          247.860001,
          null,
          205.09430322601105,
          205.11348179929698,
          204.7773793255172,
          204.00753359092462,
          202.81507949714018,
          201.26946451924397,
          199.46677573706603,
          197.5055764512911,
          195.4726962363318,
          193.43654676246643,
          191.44603743768656,
          189.5322747749505,
          187.71220389344,
          185.99320490236892
         ],
         "yaxis": "y"
        }
       ],
       "layout": {
        "font": {
         "color": "black",
         "size": 15
        },
        "legend": {
         "title": {
          "text": "Open Price"
         },
         "tracegroupgap": 0
        },
        "margin": {
         "t": 60
        },
        "plot_bgcolor": "white",
        "template": {
         "data": {
          "bar": [
           {
            "error_x": {
             "color": "#2a3f5f"
            },
            "error_y": {
             "color": "#2a3f5f"
            },
            "marker": {
             "line": {
              "color": "#E5ECF6",
              "width": 0.5
             },
             "pattern": {
              "fillmode": "overlay",
              "size": 10,
              "solidity": 0.2
             }
            },
            "type": "bar"
           }
          ],
          "barpolar": [
           {
            "marker": {
             "line": {
              "color": "#E5ECF6",
              "width": 0.5
             },
             "pattern": {
              "fillmode": "overlay",
              "size": 10,
              "solidity": 0.2
             }
            },
            "type": "barpolar"
           }
          ],
          "carpet": [
           {
            "aaxis": {
             "endlinecolor": "#2a3f5f",
             "gridcolor": "white",
             "linecolor": "white",
             "minorgridcolor": "white",
             "startlinecolor": "#2a3f5f"
            },
            "baxis": {
             "endlinecolor": "#2a3f5f",
             "gridcolor": "white",
             "linecolor": "white",
             "minorgridcolor": "white",
             "startlinecolor": "#2a3f5f"
            },
            "type": "carpet"
           }
          ],
          "choropleth": [
           {
            "colorbar": {
             "outlinewidth": 0,
             "ticks": ""
            },
            "type": "choropleth"
           }
          ],
          "contour": [
           {
            "colorbar": {
             "outlinewidth": 0,
             "ticks": ""
            },
            "colorscale": [
             [
              0,
              "#0d0887"
             ],
             [
              0.1111111111111111,
              "#46039f"
             ],
             [
              0.2222222222222222,
              "#7201a8"
             ],
             [
              0.3333333333333333,
              "#9c179e"
             ],
             [
              0.4444444444444444,
              "#bd3786"
             ],
             [
              0.5555555555555556,
              "#d8576b"
             ],
             [
              0.6666666666666666,
              "#ed7953"
             ],
             [
              0.7777777777777778,
              "#fb9f3a"
             ],
             [
              0.8888888888888888,
              "#fdca26"
             ],
             [
              1,
              "#f0f921"
             ]
            ],
            "type": "contour"
           }
          ],
          "contourcarpet": [
           {
            "colorbar": {
             "outlinewidth": 0,
             "ticks": ""
            },
            "type": "contourcarpet"
           }
          ],
          "heatmap": [
           {
            "colorbar": {
             "outlinewidth": 0,
             "ticks": ""
            },
            "colorscale": [
             [
              0,
              "#0d0887"
             ],
             [
              0.1111111111111111,
              "#46039f"
             ],
             [
              0.2222222222222222,
              "#7201a8"
             ],
             [
              0.3333333333333333,
              "#9c179e"
             ],
             [
              0.4444444444444444,
              "#bd3786"
             ],
             [
              0.5555555555555556,
              "#d8576b"
             ],
             [
              0.6666666666666666,
              "#ed7953"
             ],
             [
              0.7777777777777778,
              "#fb9f3a"
             ],
             [
              0.8888888888888888,
              "#fdca26"
             ],
             [
              1,
              "#f0f921"
             ]
            ],
            "type": "heatmap"
           }
          ],
          "heatmapgl": [
           {
            "colorbar": {
             "outlinewidth": 0,
             "ticks": ""
            },
            "colorscale": [
             [
              0,
              "#0d0887"
             ],
             [
              0.1111111111111111,
              "#46039f"
             ],
             [
              0.2222222222222222,
              "#7201a8"
             ],
             [
              0.3333333333333333,
              "#9c179e"
             ],
             [
              0.4444444444444444,
              "#bd3786"
             ],
             [
              0.5555555555555556,
              "#d8576b"
             ],
             [
              0.6666666666666666,
              "#ed7953"
             ],
             [
              0.7777777777777778,
              "#fb9f3a"
             ],
             [
              0.8888888888888888,
              "#fdca26"
             ],
             [
              1,
              "#f0f921"
             ]
            ],
            "type": "heatmapgl"
           }
          ],
          "histogram": [
           {
            "marker": {
             "pattern": {
              "fillmode": "overlay",
              "size": 10,
              "solidity": 0.2
             }
            },
            "type": "histogram"
           }
          ],
          "histogram2d": [
           {
            "colorbar": {
             "outlinewidth": 0,
             "ticks": ""
            },
            "colorscale": [
             [
              0,
              "#0d0887"
             ],
             [
              0.1111111111111111,
              "#46039f"
             ],
             [
              0.2222222222222222,
              "#7201a8"
             ],
             [
              0.3333333333333333,
              "#9c179e"
             ],
             [
              0.4444444444444444,
              "#bd3786"
             ],
             [
              0.5555555555555556,
              "#d8576b"
             ],
             [
              0.6666666666666666,
              "#ed7953"
             ],
             [
              0.7777777777777778,
              "#fb9f3a"
             ],
             [
              0.8888888888888888,
              "#fdca26"
             ],
             [
              1,
              "#f0f921"
             ]
            ],
            "type": "histogram2d"
           }
          ],
          "histogram2dcontour": [
           {
            "colorbar": {
             "outlinewidth": 0,
             "ticks": ""
            },
            "colorscale": [
             [
              0,
              "#0d0887"
             ],
             [
              0.1111111111111111,
              "#46039f"
             ],
             [
              0.2222222222222222,
              "#7201a8"
             ],
             [
              0.3333333333333333,
              "#9c179e"
             ],
             [
              0.4444444444444444,
              "#bd3786"
             ],
             [
              0.5555555555555556,
              "#d8576b"
             ],
             [
              0.6666666666666666,
              "#ed7953"
             ],
             [
              0.7777777777777778,
              "#fb9f3a"
             ],
             [
              0.8888888888888888,
              "#fdca26"
             ],
             [
              1,
              "#f0f921"
             ]
            ],
            "type": "histogram2dcontour"
           }
          ],
          "mesh3d": [
           {
            "colorbar": {
             "outlinewidth": 0,
             "ticks": ""
            },
            "type": "mesh3d"
           }
          ],
          "parcoords": [
           {
            "line": {
             "colorbar": {
              "outlinewidth": 0,
              "ticks": ""
             }
            },
            "type": "parcoords"
           }
          ],
          "pie": [
           {
            "automargin": true,
            "type": "pie"
           }
          ],
          "scatter": [
           {
            "fillpattern": {
             "fillmode": "overlay",
             "size": 10,
             "solidity": 0.2
            },
            "type": "scatter"
           }
          ],
          "scatter3d": [
           {
            "line": {
             "colorbar": {
              "outlinewidth": 0,
              "ticks": ""
             }
            },
            "marker": {
             "colorbar": {
              "outlinewidth": 0,
              "ticks": ""
             }
            },
            "type": "scatter3d"
           }
          ],
          "scattercarpet": [
           {
            "marker": {
             "colorbar": {
              "outlinewidth": 0,
              "ticks": ""
             }
            },
            "type": "scattercarpet"
           }
          ],
          "scattergeo": [
           {
            "marker": {
             "colorbar": {
              "outlinewidth": 0,
              "ticks": ""
             }
            },
            "type": "scattergeo"
           }
          ],
          "scattergl": [
           {
            "marker": {
             "colorbar": {
              "outlinewidth": 0,
              "ticks": ""
             }
            },
            "type": "scattergl"
           }
          ],
          "scattermapbox": [
           {
            "marker": {
             "colorbar": {
              "outlinewidth": 0,
              "ticks": ""
             }
            },
            "type": "scattermapbox"
           }
          ],
          "scatterpolar": [
           {
            "marker": {
             "colorbar": {
              "outlinewidth": 0,
              "ticks": ""
             }
            },
            "type": "scatterpolar"
           }
          ],
          "scatterpolargl": [
           {
            "marker": {
             "colorbar": {
              "outlinewidth": 0,
              "ticks": ""
             }
            },
            "type": "scatterpolargl"
           }
          ],
          "scatterternary": [
           {
            "marker": {
             "colorbar": {
              "outlinewidth": 0,
              "ticks": ""
             }
            },
            "type": "scatterternary"
           }
          ],
          "surface": [
           {
            "colorbar": {
             "outlinewidth": 0,
             "ticks": ""
            },
            "colorscale": [
             [
              0,
              "#0d0887"
             ],
             [
              0.1111111111111111,
              "#46039f"
             ],
             [
              0.2222222222222222,
              "#7201a8"
             ],
             [
              0.3333333333333333,
              "#9c179e"
             ],
             [
              0.4444444444444444,
              "#bd3786"
             ],
             [
              0.5555555555555556,
              "#d8576b"
             ],
             [
              0.6666666666666666,
              "#ed7953"
             ],
             [
              0.7777777777777778,
              "#fb9f3a"
             ],
             [
              0.8888888888888888,
              "#fdca26"
             ],
             [
              1,
              "#f0f921"
             ]
            ],
            "type": "surface"
           }
          ],
          "table": [
           {
            "cells": {
             "fill": {
              "color": "#EBF0F8"
             },
             "line": {
              "color": "white"
             }
            },
            "header": {
             "fill": {
              "color": "#C8D4E3"
             },
             "line": {
              "color": "white"
             }
            },
            "type": "table"
           }
          ]
         },
         "layout": {
          "annotationdefaults": {
           "arrowcolor": "#2a3f5f",
           "arrowhead": 0,
           "arrowwidth": 1
          },
          "autotypenumbers": "strict",
          "coloraxis": {
           "colorbar": {
            "outlinewidth": 0,
            "ticks": ""
           }
          },
          "colorscale": {
           "diverging": [
            [
             0,
             "#8e0152"
            ],
            [
             0.1,
             "#c51b7d"
            ],
            [
             0.2,
             "#de77ae"
            ],
            [
             0.3,
             "#f1b6da"
            ],
            [
             0.4,
             "#fde0ef"
            ],
            [
             0.5,
             "#f7f7f7"
            ],
            [
             0.6,
             "#e6f5d0"
            ],
            [
             0.7,
             "#b8e186"
            ],
            [
             0.8,
             "#7fbc41"
            ],
            [
             0.9,
             "#4d9221"
            ],
            [
             1,
             "#276419"
            ]
           ],
           "sequential": [
            [
             0,
             "#0d0887"
            ],
            [
             0.1111111111111111,
             "#46039f"
            ],
            [
             0.2222222222222222,
             "#7201a8"
            ],
            [
             0.3333333333333333,
             "#9c179e"
            ],
            [
             0.4444444444444444,
             "#bd3786"
            ],
            [
             0.5555555555555556,
             "#d8576b"
            ],
            [
             0.6666666666666666,
             "#ed7953"
            ],
            [
             0.7777777777777778,
             "#fb9f3a"
            ],
            [
             0.8888888888888888,
             "#fdca26"
            ],
            [
             1,
             "#f0f921"
            ]
           ],
           "sequentialminus": [
            [
             0,
             "#0d0887"
            ],
            [
             0.1111111111111111,
             "#46039f"
            ],
            [
             0.2222222222222222,
             "#7201a8"
            ],
            [
             0.3333333333333333,
             "#9c179e"
            ],
            [
             0.4444444444444444,
             "#bd3786"
            ],
            [
             0.5555555555555556,
             "#d8576b"
            ],
            [
             0.6666666666666666,
             "#ed7953"
            ],
            [
             0.7777777777777778,
             "#fb9f3a"
            ],
            [
             0.8888888888888888,
             "#fdca26"
            ],
            [
             1,
             "#f0f921"
            ]
           ]
          },
          "colorway": [
           "#636efa",
           "#EF553B",
           "#00cc96",
           "#ab63fa",
           "#FFA15A",
           "#19d3f3",
           "#FF6692",
           "#B6E880",
           "#FF97FF",
           "#FECB52"
          ],
          "font": {
           "color": "#2a3f5f"
          },
          "geo": {
           "bgcolor": "white",
           "lakecolor": "white",
           "landcolor": "#E5ECF6",
           "showlakes": true,
           "showland": true,
           "subunitcolor": "white"
          },
          "hoverlabel": {
           "align": "left"
          },
          "hovermode": "closest",
          "mapbox": {
           "style": "light"
          },
          "paper_bgcolor": "white",
          "plot_bgcolor": "#E5ECF6",
          "polar": {
           "angularaxis": {
            "gridcolor": "white",
            "linecolor": "white",
            "ticks": ""
           },
           "bgcolor": "#E5ECF6",
           "radialaxis": {
            "gridcolor": "white",
            "linecolor": "white",
            "ticks": ""
           }
          },
          "scene": {
           "xaxis": {
            "backgroundcolor": "#E5ECF6",
            "gridcolor": "white",
            "gridwidth": 2,
            "linecolor": "white",
            "showbackground": true,
            "ticks": "",
            "zerolinecolor": "white"
           },
           "yaxis": {
            "backgroundcolor": "#E5ECF6",
            "gridcolor": "white",
            "gridwidth": 2,
            "linecolor": "white",
            "showbackground": true,
            "ticks": "",
            "zerolinecolor": "white"
           },
           "zaxis": {
            "backgroundcolor": "#E5ECF6",
            "gridcolor": "white",
            "gridwidth": 2,
            "linecolor": "white",
            "showbackground": true,
            "ticks": "",
            "zerolinecolor": "white"
           }
          },
          "shapedefaults": {
           "line": {
            "color": "#2a3f5f"
           }
          },
          "ternary": {
           "aaxis": {
            "gridcolor": "white",
            "linecolor": "white",
            "ticks": ""
           },
           "baxis": {
            "gridcolor": "white",
            "linecolor": "white",
            "ticks": ""
           },
           "bgcolor": "#E5ECF6",
           "caxis": {
            "gridcolor": "white",
            "linecolor": "white",
            "ticks": ""
           }
          },
          "title": {
           "x": 0.05
          },
          "xaxis": {
           "automargin": true,
           "gridcolor": "white",
           "linecolor": "white",
           "ticks": "",
           "title": {
            "standoff": 15
           },
           "zerolinecolor": "white",
           "zerolinewidth": 2
          },
          "yaxis": {
           "automargin": true,
           "gridcolor": "white",
           "linecolor": "white",
           "ticks": "",
           "title": {
            "standoff": 15
           },
           "zerolinecolor": "white",
           "zerolinewidth": 2
          }
         }
        },
        "title": {
         "text": "next 14 days"
        },
        "xaxis": {
         "anchor": "y",
         "domain": [
          0,
          1
         ],
         "showgrid": false,
         "title": {
          "text": "Timestamp"
         }
        },
        "yaxis": {
         "anchor": "x",
         "domain": [
          0,
          1
         ],
         "showgrid": false,
         "title": {
          "text": "Stock price"
         }
        }
       }
      },
      "text/html": [
       "<div>                            <div id=\"e01efb7c-813a-40fd-808e-bb48bf77484a\" class=\"plotly-graph-div\" style=\"height:525px; width:100%;\"></div>            <script type=\"text/javascript\">                require([\"plotly\"], function(Plotly) {                    window.PLOTLYENV=window.PLOTLYENV || {};                                    if (document.getElementById(\"e01efb7c-813a-40fd-808e-bb48bf77484a\")) {                    Plotly.newPlot(                        \"e01efb7c-813a-40fd-808e-bb48bf77484a\",                        [{\"hovertemplate\":\"variable=last_original_days_value<br>Timestamp=%{x}<br>Stock price=%{y}<extra></extra>\",\"legendgroup\":\"last_original_days_value\",\"line\":{\"color\":\"#636efa\",\"dash\":\"solid\"},\"marker\":{\"symbol\":\"circle\"},\"mode\":\"lines\",\"name\":\"Test open data\",\"orientation\":\"v\",\"showlegend\":true,\"x\":[0,1,2,3,4,5,6,7,8,9,10,11,12,13,14,15,16,17,18,19,20,21,22,23,24,25,26,27,28,29,30,31,32,33,34,35,36,37,38,39,40,41,42,43,44,45,46,47,48,49,50,51,52,53,54,55,56,57,58,59,60,61,62,63,64,65,66,67,68,69,70,71,72,73,74],\"xaxis\":\"x\",\"y\":[186.91000400000001,192.30999799999998,192.08000199999998,191.860001,198.74000600000002,205.39,202.41999900000002,200.160004,198.720002,198.61000099999998,210.279999,210.78999399999998,212.83000199999998,215.86000099999998,212.93000800000002,212.91999900000002,213.86000099999998,220.55999799999998,220.509995,231.110001,229.320008,229.71000700000002,233.86000099999998,241.16999900000002,238.149994,235.240006,236.39,233.10000599999998,236.910004,232.19999700000002,235.77000499999997,234.860001,242.050003,241.21000700000002,250.11000099999998,253.65000999999998,254.59999099999996,262.89,263.86000099999995,261.460007,249.659989,259.310013,264.169999,247.860001,236.52000499999997,232.029999,228.050003,238.039994,233.57000799999997,234.600006,231.770005,235.779999,230.860001,231.49000600000002,230.070008,228.68000800000002,229.97000200000002,240.86000099999998,246.259995,247.860001,null,205.09430322601105,205.11348179929698,204.7773793255172,204.00753359092462,202.81507949714018,201.26946451924397,199.46677573706603,197.5055764512911,195.4726962363318,193.43654676246643,191.44603743768656,189.5322747749505,187.71220389344,185.99320490236892],\"yaxis\":\"y\",\"type\":\"scatter\"},{\"hovertemplate\":\"variable=next_predicted_days_value<br>Timestamp=%{x}<br>Stock price=%{y}<extra></extra>\",\"legendgroup\":\"next_predicted_days_value\",\"line\":{\"color\":\"#EF553B\",\"dash\":\"solid\"},\"marker\":{\"symbol\":\"circle\"},\"mode\":\"lines\",\"name\":\"Predicted next 14 days open price\",\"orientation\":\"v\",\"showlegend\":true,\"x\":[0,1,2,3,4,5,6,7,8,9,10,11,12,13,14,15,16,17,18,19,20,21,22,23,24,25,26,27,28,29,30,31,32,33,34,35,36,37,38,39,40,41,42,43,44,45,46,47,48,49,50,51,52,53,54,55,56,57,58,59,60,61,62,63,64,65,66,67,68,69,70,71,72,73,74],\"xaxis\":\"x\",\"y\":[186.91000400000001,192.30999799999998,192.08000199999998,191.860001,198.74000600000002,205.39,202.41999900000002,200.160004,198.720002,198.61000099999998,210.279999,210.78999399999998,212.83000199999998,215.86000099999998,212.93000800000002,212.91999900000002,213.86000099999998,220.55999799999998,220.509995,231.110001,229.320008,229.71000700000002,233.86000099999998,241.16999900000002,238.149994,235.240006,236.39,233.10000599999998,236.910004,232.19999700000002,235.77000499999997,234.860001,242.050003,241.21000700000002,250.11000099999998,253.65000999999998,254.59999099999996,262.89,263.86000099999995,261.460007,249.659989,259.310013,264.169999,247.860001,236.52000499999997,232.029999,228.050003,238.039994,233.57000799999997,234.600006,231.770005,235.779999,230.860001,231.49000600000002,230.070008,228.68000800000002,229.97000200000002,240.86000099999998,246.259995,247.860001,null,205.09430322601105,205.11348179929698,204.7773793255172,204.00753359092462,202.81507949714018,201.26946451924397,199.46677573706603,197.5055764512911,195.4726962363318,193.43654676246643,191.44603743768656,189.5322747749505,187.71220389344,185.99320490236892],\"yaxis\":\"y\",\"type\":\"scatter\"}],                        {\"template\":{\"data\":{\"histogram2dcontour\":[{\"type\":\"histogram2dcontour\",\"colorbar\":{\"outlinewidth\":0,\"ticks\":\"\"},\"colorscale\":[[0.0,\"#0d0887\"],[0.1111111111111111,\"#46039f\"],[0.2222222222222222,\"#7201a8\"],[0.3333333333333333,\"#9c179e\"],[0.4444444444444444,\"#bd3786\"],[0.5555555555555556,\"#d8576b\"],[0.6666666666666666,\"#ed7953\"],[0.7777777777777778,\"#fb9f3a\"],[0.8888888888888888,\"#fdca26\"],[1.0,\"#f0f921\"]]}],\"choropleth\":[{\"type\":\"choropleth\",\"colorbar\":{\"outlinewidth\":0,\"ticks\":\"\"}}],\"histogram2d\":[{\"type\":\"histogram2d\",\"colorbar\":{\"outlinewidth\":0,\"ticks\":\"\"},\"colorscale\":[[0.0,\"#0d0887\"],[0.1111111111111111,\"#46039f\"],[0.2222222222222222,\"#7201a8\"],[0.3333333333333333,\"#9c179e\"],[0.4444444444444444,\"#bd3786\"],[0.5555555555555556,\"#d8576b\"],[0.6666666666666666,\"#ed7953\"],[0.7777777777777778,\"#fb9f3a\"],[0.8888888888888888,\"#fdca26\"],[1.0,\"#f0f921\"]]}],\"heatmap\":[{\"type\":\"heatmap\",\"colorbar\":{\"outlinewidth\":0,\"ticks\":\"\"},\"colorscale\":[[0.0,\"#0d0887\"],[0.1111111111111111,\"#46039f\"],[0.2222222222222222,\"#7201a8\"],[0.3333333333333333,\"#9c179e\"],[0.4444444444444444,\"#bd3786\"],[0.5555555555555556,\"#d8576b\"],[0.6666666666666666,\"#ed7953\"],[0.7777777777777778,\"#fb9f3a\"],[0.8888888888888888,\"#fdca26\"],[1.0,\"#f0f921\"]]}],\"heatmapgl\":[{\"type\":\"heatmapgl\",\"colorbar\":{\"outlinewidth\":0,\"ticks\":\"\"},\"colorscale\":[[0.0,\"#0d0887\"],[0.1111111111111111,\"#46039f\"],[0.2222222222222222,\"#7201a8\"],[0.3333333333333333,\"#9c179e\"],[0.4444444444444444,\"#bd3786\"],[0.5555555555555556,\"#d8576b\"],[0.6666666666666666,\"#ed7953\"],[0.7777777777777778,\"#fb9f3a\"],[0.8888888888888888,\"#fdca26\"],[1.0,\"#f0f921\"]]}],\"contourcarpet\":[{\"type\":\"contourcarpet\",\"colorbar\":{\"outlinewidth\":0,\"ticks\":\"\"}}],\"contour\":[{\"type\":\"contour\",\"colorbar\":{\"outlinewidth\":0,\"ticks\":\"\"},\"colorscale\":[[0.0,\"#0d0887\"],[0.1111111111111111,\"#46039f\"],[0.2222222222222222,\"#7201a8\"],[0.3333333333333333,\"#9c179e\"],[0.4444444444444444,\"#bd3786\"],[0.5555555555555556,\"#d8576b\"],[0.6666666666666666,\"#ed7953\"],[0.7777777777777778,\"#fb9f3a\"],[0.8888888888888888,\"#fdca26\"],[1.0,\"#f0f921\"]]}],\"surface\":[{\"type\":\"surface\",\"colorbar\":{\"outlinewidth\":0,\"ticks\":\"\"},\"colorscale\":[[0.0,\"#0d0887\"],[0.1111111111111111,\"#46039f\"],[0.2222222222222222,\"#7201a8\"],[0.3333333333333333,\"#9c179e\"],[0.4444444444444444,\"#bd3786\"],[0.5555555555555556,\"#d8576b\"],[0.6666666666666666,\"#ed7953\"],[0.7777777777777778,\"#fb9f3a\"],[0.8888888888888888,\"#fdca26\"],[1.0,\"#f0f921\"]]}],\"mesh3d\":[{\"type\":\"mesh3d\",\"colorbar\":{\"outlinewidth\":0,\"ticks\":\"\"}}],\"scatter\":[{\"fillpattern\":{\"fillmode\":\"overlay\",\"size\":10,\"solidity\":0.2},\"type\":\"scatter\"}],\"parcoords\":[{\"type\":\"parcoords\",\"line\":{\"colorbar\":{\"outlinewidth\":0,\"ticks\":\"\"}}}],\"scatterpolargl\":[{\"type\":\"scatterpolargl\",\"marker\":{\"colorbar\":{\"outlinewidth\":0,\"ticks\":\"\"}}}],\"bar\":[{\"error_x\":{\"color\":\"#2a3f5f\"},\"error_y\":{\"color\":\"#2a3f5f\"},\"marker\":{\"line\":{\"color\":\"#E5ECF6\",\"width\":0.5},\"pattern\":{\"fillmode\":\"overlay\",\"size\":10,\"solidity\":0.2}},\"type\":\"bar\"}],\"scattergeo\":[{\"type\":\"scattergeo\",\"marker\":{\"colorbar\":{\"outlinewidth\":0,\"ticks\":\"\"}}}],\"scatterpolar\":[{\"type\":\"scatterpolar\",\"marker\":{\"colorbar\":{\"outlinewidth\":0,\"ticks\":\"\"}}}],\"histogram\":[{\"marker\":{\"pattern\":{\"fillmode\":\"overlay\",\"size\":10,\"solidity\":0.2}},\"type\":\"histogram\"}],\"scattergl\":[{\"type\":\"scattergl\",\"marker\":{\"colorbar\":{\"outlinewidth\":0,\"ticks\":\"\"}}}],\"scatter3d\":[{\"type\":\"scatter3d\",\"line\":{\"colorbar\":{\"outlinewidth\":0,\"ticks\":\"\"}},\"marker\":{\"colorbar\":{\"outlinewidth\":0,\"ticks\":\"\"}}}],\"scattermapbox\":[{\"type\":\"scattermapbox\",\"marker\":{\"colorbar\":{\"outlinewidth\":0,\"ticks\":\"\"}}}],\"scatterternary\":[{\"type\":\"scatterternary\",\"marker\":{\"colorbar\":{\"outlinewidth\":0,\"ticks\":\"\"}}}],\"scattercarpet\":[{\"type\":\"scattercarpet\",\"marker\":{\"colorbar\":{\"outlinewidth\":0,\"ticks\":\"\"}}}],\"carpet\":[{\"aaxis\":{\"endlinecolor\":\"#2a3f5f\",\"gridcolor\":\"white\",\"linecolor\":\"white\",\"minorgridcolor\":\"white\",\"startlinecolor\":\"#2a3f5f\"},\"baxis\":{\"endlinecolor\":\"#2a3f5f\",\"gridcolor\":\"white\",\"linecolor\":\"white\",\"minorgridcolor\":\"white\",\"startlinecolor\":\"#2a3f5f\"},\"type\":\"carpet\"}],\"table\":[{\"cells\":{\"fill\":{\"color\":\"#EBF0F8\"},\"line\":{\"color\":\"white\"}},\"header\":{\"fill\":{\"color\":\"#C8D4E3\"},\"line\":{\"color\":\"white\"}},\"type\":\"table\"}],\"barpolar\":[{\"marker\":{\"line\":{\"color\":\"#E5ECF6\",\"width\":0.5},\"pattern\":{\"fillmode\":\"overlay\",\"size\":10,\"solidity\":0.2}},\"type\":\"barpolar\"}],\"pie\":[{\"automargin\":true,\"type\":\"pie\"}]},\"layout\":{\"autotypenumbers\":\"strict\",\"colorway\":[\"#636efa\",\"#EF553B\",\"#00cc96\",\"#ab63fa\",\"#FFA15A\",\"#19d3f3\",\"#FF6692\",\"#B6E880\",\"#FF97FF\",\"#FECB52\"],\"font\":{\"color\":\"#2a3f5f\"},\"hovermode\":\"closest\",\"hoverlabel\":{\"align\":\"left\"},\"paper_bgcolor\":\"white\",\"plot_bgcolor\":\"#E5ECF6\",\"polar\":{\"bgcolor\":\"#E5ECF6\",\"angularaxis\":{\"gridcolor\":\"white\",\"linecolor\":\"white\",\"ticks\":\"\"},\"radialaxis\":{\"gridcolor\":\"white\",\"linecolor\":\"white\",\"ticks\":\"\"}},\"ternary\":{\"bgcolor\":\"#E5ECF6\",\"aaxis\":{\"gridcolor\":\"white\",\"linecolor\":\"white\",\"ticks\":\"\"},\"baxis\":{\"gridcolor\":\"white\",\"linecolor\":\"white\",\"ticks\":\"\"},\"caxis\":{\"gridcolor\":\"white\",\"linecolor\":\"white\",\"ticks\":\"\"}},\"coloraxis\":{\"colorbar\":{\"outlinewidth\":0,\"ticks\":\"\"}},\"colorscale\":{\"sequential\":[[0.0,\"#0d0887\"],[0.1111111111111111,\"#46039f\"],[0.2222222222222222,\"#7201a8\"],[0.3333333333333333,\"#9c179e\"],[0.4444444444444444,\"#bd3786\"],[0.5555555555555556,\"#d8576b\"],[0.6666666666666666,\"#ed7953\"],[0.7777777777777778,\"#fb9f3a\"],[0.8888888888888888,\"#fdca26\"],[1.0,\"#f0f921\"]],\"sequentialminus\":[[0.0,\"#0d0887\"],[0.1111111111111111,\"#46039f\"],[0.2222222222222222,\"#7201a8\"],[0.3333333333333333,\"#9c179e\"],[0.4444444444444444,\"#bd3786\"],[0.5555555555555556,\"#d8576b\"],[0.6666666666666666,\"#ed7953\"],[0.7777777777777778,\"#fb9f3a\"],[0.8888888888888888,\"#fdca26\"],[1.0,\"#f0f921\"]],\"diverging\":[[0,\"#8e0152\"],[0.1,\"#c51b7d\"],[0.2,\"#de77ae\"],[0.3,\"#f1b6da\"],[0.4,\"#fde0ef\"],[0.5,\"#f7f7f7\"],[0.6,\"#e6f5d0\"],[0.7,\"#b8e186\"],[0.8,\"#7fbc41\"],[0.9,\"#4d9221\"],[1,\"#276419\"]]},\"xaxis\":{\"gridcolor\":\"white\",\"linecolor\":\"white\",\"ticks\":\"\",\"title\":{\"standoff\":15},\"zerolinecolor\":\"white\",\"automargin\":true,\"zerolinewidth\":2},\"yaxis\":{\"gridcolor\":\"white\",\"linecolor\":\"white\",\"ticks\":\"\",\"title\":{\"standoff\":15},\"zerolinecolor\":\"white\",\"automargin\":true,\"zerolinewidth\":2},\"scene\":{\"xaxis\":{\"backgroundcolor\":\"#E5ECF6\",\"gridcolor\":\"white\",\"linecolor\":\"white\",\"showbackground\":true,\"ticks\":\"\",\"zerolinecolor\":\"white\",\"gridwidth\":2},\"yaxis\":{\"backgroundcolor\":\"#E5ECF6\",\"gridcolor\":\"white\",\"linecolor\":\"white\",\"showbackground\":true,\"ticks\":\"\",\"zerolinecolor\":\"white\",\"gridwidth\":2},\"zaxis\":{\"backgroundcolor\":\"#E5ECF6\",\"gridcolor\":\"white\",\"linecolor\":\"white\",\"showbackground\":true,\"ticks\":\"\",\"zerolinecolor\":\"white\",\"gridwidth\":2}},\"shapedefaults\":{\"line\":{\"color\":\"#2a3f5f\"}},\"annotationdefaults\":{\"arrowcolor\":\"#2a3f5f\",\"arrowhead\":0,\"arrowwidth\":1},\"geo\":{\"bgcolor\":\"white\",\"landcolor\":\"#E5ECF6\",\"subunitcolor\":\"white\",\"showland\":true,\"showlakes\":true,\"lakecolor\":\"white\"},\"title\":{\"x\":0.05},\"mapbox\":{\"style\":\"light\"}}},\"xaxis\":{\"anchor\":\"y\",\"domain\":[0.0,1.0],\"title\":{\"text\":\"Timestamp\"},\"showgrid\":false},\"yaxis\":{\"anchor\":\"x\",\"domain\":[0.0,1.0],\"title\":{\"text\":\"Stock price\"},\"showgrid\":false},\"legend\":{\"title\":{\"text\":\"Open Price\"},\"tracegroupgap\":0},\"margin\":{\"t\":60},\"title\":{\"text\":\"next 14 days\"},\"font\":{\"size\":15,\"color\":\"black\"},\"plot_bgcolor\":\"white\"},                        {\"responsive\": true}                    ).then(function(){\n",
       "                            \n",
       "var gd = document.getElementById('e01efb7c-813a-40fd-808e-bb48bf77484a');\n",
       "var x = new MutationObserver(function (mutations, observer) {{\n",
       "        var display = window.getComputedStyle(gd).display;\n",
       "        if (!display || display === 'none') {{\n",
       "            console.log([gd, 'removed!']);\n",
       "            Plotly.purge(gd);\n",
       "            observer.disconnect();\n",
       "        }}\n",
       "}});\n",
       "\n",
       "// Listen for the removal of the full notebook cells\n",
       "var notebookContainer = gd.closest('#notebook-container');\n",
       "if (notebookContainer) {{\n",
       "    x.observe(notebookContainer, {childList: true});\n",
       "}}\n",
       "\n",
       "// Listen for the clearing of the current output cell\n",
       "var outputEl = gd.closest('.output');\n",
       "if (outputEl) {{\n",
       "    x.observe(outputEl, {childList: true});\n",
       "}}\n",
       "\n",
       "                        })                };                });            </script>        </div>"
      ]
     },
     "metadata": {},
     "output_type": "display_data"
    }
   ],
   "source": [
    "import plotly.express as px\n",
    "from itertools import cycle\n",
    "\n",
    "def plot14nextday(y_test_open,predict_14_day):\n",
    "    temp_mat = np.empty((60+14+1,1))\n",
    "    temp_mat[:] = np.nan\n",
    "    temp_mat = temp_mat.reshape(1,-1).tolist()[0]\n",
    "\n",
    "    last_original_days_value = temp_mat\n",
    "    next_predicted_days_value = temp_mat\n",
    "\n",
    "    last_original_days_value[0:+1] = y_test_open[len(y_test_open)-60:].reshape(1,-1).tolist()[0]\n",
    "    next_predicted_days_value[60+1:] = predict_14_day[:,0].reshape(-1,1).reshape(1,-1).tolist()[0]\n",
    "    new_pred_plot = pd.DataFrame({\n",
    "        'last_original_days_value':last_original_days_value,\n",
    "        'next_predicted_days_value':next_predicted_days_value\n",
    "    })\n",
    "    names = cycle(['Test open data','Predicted next 14 days open price'])\n",
    "\n",
    "    fig = px.line(new_pred_plot,x=new_pred_plot.index, y=[new_pred_plot['last_original_days_value'],\n",
    "                                                          new_pred_plot['next_predicted_days_value']],\n",
    "                  labels={'value': 'Stock price','index': 'Timestamp'})\n",
    "    fig.update_layout(title_text='next 14 days',\n",
    "                      plot_bgcolor='white', font_size=15, font_color='black', legend_title_text='Open Price')\n",
    "    fig.for_each_trace(lambda t:  t.update(name = next(names)))\n",
    "\n",
    "    fig.update_xaxes(showgrid=False)\n",
    "    fig.update_yaxes(showgrid=False)\n",
    "    fig.show()\n",
    "    \n",
    "plot14nextday(y_test_open,predict_14_day)"
   ]
  },
  {
   "cell_type": "markdown",
   "id": "cdd87007",
   "metadata": {},
   "source": [
    "### Dự đoán 7 tuần"
   ]
  },
  {
   "cell_type": "code",
   "execution_count": 114,
   "id": "8664153c",
   "metadata": {},
   "outputs": [],
   "source": [
    "last_60 = []\n",
    "for i in range(60):\n",
    "    last_60.append(X_test[507][i].tolist())"
   ]
  },
  {
   "cell_type": "code",
   "execution_count": 115,
   "id": "fdb909ae",
   "metadata": {},
   "outputs": [],
   "source": [
    "predict_7_week = []"
   ]
  },
  {
   "cell_type": "code",
   "execution_count": 116,
   "id": "f5654e3d",
   "metadata": {},
   "outputs": [
    {
     "name": "stdout",
     "output_type": "stream",
     "text": [
      "1/1 [==============================] - 0s 44ms/step\n",
      "1/1 [==============================] - 0s 40ms/step\n",
      "1/1 [==============================] - 0s 40ms/step\n",
      "1/1 [==============================] - 0s 41ms/step\n",
      "1/1 [==============================] - 0s 40ms/step\n",
      "1/1 [==============================] - 0s 40ms/step\n",
      "1/1 [==============================] - 0s 39ms/step\n",
      "1/1 [==============================] - 0s 35ms/step\n",
      "1/1 [==============================] - 0s 40ms/step\n",
      "1/1 [==============================] - 0s 30ms/step\n",
      "1/1 [==============================] - 0s 38ms/step\n",
      "1/1 [==============================] - 0s 37ms/step\n",
      "1/1 [==============================] - 0s 37ms/step\n",
      "1/1 [==============================] - 0s 34ms/step\n",
      "1/1 [==============================] - 0s 36ms/step\n",
      "1/1 [==============================] - 0s 33ms/step\n",
      "1/1 [==============================] - 0s 29ms/step\n",
      "1/1 [==============================] - 0s 33ms/step\n",
      "1/1 [==============================] - 0s 31ms/step\n",
      "1/1 [==============================] - 0s 35ms/step\n",
      "1/1 [==============================] - 0s 34ms/step\n",
      "1/1 [==============================] - 0s 36ms/step\n",
      "1/1 [==============================] - 0s 39ms/step\n",
      "1/1 [==============================] - 0s 34ms/step\n",
      "1/1 [==============================] - 0s 36ms/step\n",
      "1/1 [==============================] - 0s 38ms/step\n",
      "1/1 [==============================] - 0s 37ms/step\n",
      "1/1 [==============================] - 0s 30ms/step\n",
      "1/1 [==============================] - 0s 35ms/step\n",
      "1/1 [==============================] - 0s 34ms/step\n",
      "1/1 [==============================] - 0s 30ms/step\n",
      "1/1 [==============================] - 0s 38ms/step\n",
      "1/1 [==============================] - 0s 35ms/step\n",
      "1/1 [==============================] - 0s 37ms/step\n",
      "1/1 [==============================] - 0s 36ms/step\n",
      "1/1 [==============================] - 0s 38ms/step\n",
      "1/1 [==============================] - 0s 40ms/step\n",
      "1/1 [==============================] - 0s 31ms/step\n",
      "1/1 [==============================] - 0s 37ms/step\n",
      "1/1 [==============================] - 0s 40ms/step\n",
      "1/1 [==============================] - 0s 37ms/step\n",
      "1/1 [==============================] - 0s 33ms/step\n",
      "1/1 [==============================] - 0s 35ms/step\n",
      "1/1 [==============================] - 0s 34ms/step\n",
      "1/1 [==============================] - 0s 36ms/step\n",
      "1/1 [==============================] - 0s 36ms/step\n",
      "1/1 [==============================] - 0s 33ms/step\n",
      "1/1 [==============================] - 0s 35ms/step\n",
      "1/1 [==============================] - 0s 34ms/step\n"
     ]
    }
   ],
   "source": [
    "for i in range(7*7):\n",
    "    tmp = np.array(last_60)\n",
    "    next_day = regressior.predict(tmp.reshape(1,60,5))\n",
    "    if((i+1) % 7 ==0):\n",
    "        predict_7_week.append(next_day.reshape(5).tolist())\n",
    "    last_60.append(next_day.reshape(5).tolist())\n",
    "    last_60 = last_60[1:]"
   ]
  },
  {
   "cell_type": "code",
   "execution_count": 117,
   "id": "f5798b51",
   "metadata": {
    "scrolled": false
   },
   "outputs": [
    {
     "data": {
      "text/plain": [
       "array([[1.99466776e+02, 2.02296241e+02, 1.95368717e+02, 1.99386591e+02,\n",
       "        5.82267605e+06],\n",
       "       [1.85993205e+02, 1.88548597e+02, 1.82231918e+02, 1.85667315e+02,\n",
       "        6.03822530e+06],\n",
       "       [1.76472815e+02, 1.78594274e+02, 1.72896506e+02, 1.75682690e+02,\n",
       "        6.27646311e+06],\n",
       "       [1.69895487e+02, 1.71685974e+02, 1.66404930e+02, 1.68739816e+02,\n",
       "        6.48248727e+06],\n",
       "       [1.65043567e+02, 1.66796800e+02, 1.61615012e+02, 1.63728319e+02,\n",
       "        6.70011101e+06],\n",
       "       [1.61070463e+02, 1.62828013e+02, 1.57727720e+02, 1.59621359e+02,\n",
       "        6.91459376e+06],\n",
       "       [1.57701961e+02, 1.59428110e+02, 1.54474694e+02, 1.56207216e+02,\n",
       "        7.15456932e+06]])"
      ]
     },
     "execution_count": 117,
     "metadata": {},
     "output_type": "execute_result"
    }
   ],
   "source": [
    "predict_7_week/scaler.scale_"
   ]
  },
  {
   "cell_type": "markdown",
   "id": "72b00b2a",
   "metadata": {},
   "source": [
    "### Loss and Accuracy"
   ]
  },
  {
   "cell_type": "code",
   "execution_count": 118,
   "id": "fdfbd4be",
   "metadata": {},
   "outputs": [],
   "source": [
    "from sklearn.exceptions import NotFittedError\n",
    "import timeit\n",
    "import pickle\n",
    "import sys\n",
    "\n",
    "def train_clf(clf, x_train, y_train, sample_weight=None, refit=False):\n",
    "    train_time = 0\n",
    "    \n",
    "    try:\n",
    "        if refit:\n",
    "            raise NotFittedError\n",
    "        y_pred_train = clf.predict(x_train)\n",
    "        \n",
    "        # For neural nets\n",
    "        y_pred_train = np.where(y_pred_train.flatten() > 0.5, 1, 0)\n",
    "        \n",
    "    except NotFittedError:\n",
    "        start = timeit.default_timer()\n",
    "        \n",
    "        if sample_weight is not None:\n",
    "            clf.fit(x_train, y_train, sample_weight=sample_weight)\n",
    "        else:\n",
    "            clf.fit(x_train, y_train)\n",
    "        \n",
    "        end = timeit.default_timer()\n",
    "        train_time = end - start\n",
    "        \n",
    "        y_pred_train = clf.predict(x_train)\n",
    "    \n",
    "    return clf, train_time"
   ]
  },
  {
   "cell_type": "code",
   "execution_count": 119,
   "id": "c3f5dfdb",
   "metadata": {},
   "outputs": [],
   "source": [
    "import math\n",
    "def report(clf, x_train, y_train, x_test, y_test,sample_weight=None, refit=False):\n",
    "    clf, train_time = train_clf(clf, x_train, y_train,\n",
    "                                      sample_weight=sample_weight,\n",
    "                                      refit=refit)\n",
    "    start = timeit.default_timer()\n",
    "    test_predictions = clf.predict(x_test)\n",
    "    end = timeit.default_timer()\n",
    "    test_time = end - start\n",
    "    score = clf.evaluate(x_test, y_test, verbose=0)\n",
    "    score_train = clf.evaluate(x_train, y_train, verbose=0)\n",
    "\n",
    "    print(f\"Training Time: {round(train_time, 6)} seconds\")\n",
    "    print(f\" Testing Time: {round(test_time, 6)} seconds\")\n",
    "    print('------------------------------------')\n",
    "    print('Train data ME: ', score_train[0])\n",
    "    print('Train data MAE: ', math.sqrt(score_train[0]))\n",
    "    print('Train data accuracy', score_train[1])\n",
    "    print(\"------------------------------------\")\n",
    "    print('Test data ME: ', score[0])\n",
    "    print('Test data MAE: ', math.sqrt(score[0]))\n",
    "    print('Test data accuracy', score[1])"
   ]
  },
  {
   "cell_type": "code",
   "execution_count": 120,
   "id": "a0d434b6",
   "metadata": {},
   "outputs": [
    {
     "name": "stdout",
     "output_type": "stream",
     "text": [
      "36/36 [==============================] - 5s 130ms/step - loss: 0.0053 - accuracy: 0.3060\n",
      "36/36 [==============================] - 2s 43ms/step\n",
      "16/16 [==============================] - 1s 46ms/step\n",
      "Training Time: 4.710881 seconds\n",
      " Testing Time: 0.801762 seconds\n",
      "------------------------------------\n",
      "Train data ME:  0.0026369704864919186\n",
      "Train data MAE:  0.051351440938808314\n",
      "Train data accuracy 0.49466192722320557\n",
      "------------------------------------\n",
      "Test data ME:  0.0036343506071716547\n",
      "Test data MAE:  0.06028557544862332\n",
      "Test data accuracy 0.2263779491186142\n"
     ]
    }
   ],
   "source": [
    "report(regressior, X_train, y_train,\n",
    "                           X_test, y_test,\n",
    "                           refit=True)"
   ]
  },
  {
   "cell_type": "markdown",
   "id": "2f85591f",
   "metadata": {},
   "source": []
  },
  {
   "cell_type": "markdown",
   "id": "e891c931",
   "metadata": {},
   "source": [
    "# RNN"
   ]
  },
  {
   "cell_type": "code",
   "execution_count": 121,
   "id": "c73bfd14",
   "metadata": {},
   "outputs": [],
   "source": [
    "from keras.layers import SimpleRNN"
   ]
  },
  {
   "cell_type": "code",
   "execution_count": 122,
   "id": "8ea8a9ee",
   "metadata": {},
   "outputs": [],
   "source": [
    "regressor_RNN = Sequential()\n",
    "\n",
    "regressor_RNN.add(SimpleRNN(units = 50, activation = \"tanh\", return_sequences = True, input_shape = (X_train.shape[1],5)))\n",
    "regressor_RNN.add(Dropout(0.2))\n",
    "regressor_RNN.add(SimpleRNN(units = 50, activation = \"tanh\", return_sequences = True))\n",
    "regressor_RNN.add(Dropout(0.2))\n",
    "\n",
    "regressor_RNN.add(SimpleRNN(units = 50, activation = \"tanh\", return_sequences = True))\n",
    "regressor_RNN.add(Dropout(0.2))\n",
    "\n",
    "regressor_RNN.add(SimpleRNN(units = 50))\n",
    "regressor_RNN.add(Dropout(0.2))\n",
    "\n",
    "regressor_RNN.add(Dense(units = 5))\n",
    "\n",
    "regressor_RNN.compile(optimizer = \"adam\", loss = \"mean_squared_error\",metrics = [\"accuracy\"])"
   ]
  },
  {
   "cell_type": "code",
   "execution_count": 123,
   "id": "b63d4574",
   "metadata": {},
   "outputs": [
    {
     "name": "stdout",
     "output_type": "stream",
     "text": [
      "Epoch 1/50\n",
      "36/36 [==============================] - 5s 31ms/step - loss: 0.3707 - accuracy: 0.2109\n",
      "Epoch 2/50\n",
      "36/36 [==============================] - 1s 31ms/step - loss: 0.2230 - accuracy: 0.2189\n",
      "Epoch 3/50\n",
      "36/36 [==============================] - 1s 31ms/step - loss: 0.1533 - accuracy: 0.1753\n",
      "Epoch 4/50\n",
      "36/36 [==============================] - 1s 31ms/step - loss: 0.1142 - accuracy: 0.2224\n",
      "Epoch 5/50\n",
      "36/36 [==============================] - 1s 31ms/step - loss: 0.0875 - accuracy: 0.2349\n",
      "Epoch 6/50\n",
      "36/36 [==============================] - 1s 32ms/step - loss: 0.0638 - accuracy: 0.2322\n",
      "Epoch 7/50\n",
      "36/36 [==============================] - 1s 31ms/step - loss: 0.0482 - accuracy: 0.2206\n",
      "Epoch 8/50\n",
      "36/36 [==============================] - 1s 32ms/step - loss: 0.0415 - accuracy: 0.2286\n",
      "Epoch 9/50\n",
      "36/36 [==============================] - 1s 31ms/step - loss: 0.0345 - accuracy: 0.2117\n",
      "Epoch 10/50\n",
      "36/36 [==============================] - 1s 31ms/step - loss: 0.0299 - accuracy: 0.2616\n",
      "Epoch 11/50\n",
      "36/36 [==============================] - 1s 31ms/step - loss: 0.0246 - accuracy: 0.2527\n",
      "Epoch 12/50\n",
      "36/36 [==============================] - 1s 31ms/step - loss: 0.0224 - accuracy: 0.2189\n",
      "Epoch 13/50\n",
      "36/36 [==============================] - 1s 32ms/step - loss: 0.0217 - accuracy: 0.2349\n",
      "Epoch 14/50\n",
      "36/36 [==============================] - 1s 32ms/step - loss: 0.0186 - accuracy: 0.2367\n",
      "Epoch 15/50\n",
      "36/36 [==============================] - 1s 31ms/step - loss: 0.0178 - accuracy: 0.2153\n",
      "Epoch 16/50\n",
      "36/36 [==============================] - 1s 31ms/step - loss: 0.0162 - accuracy: 0.2918\n",
      "Epoch 17/50\n",
      "36/36 [==============================] - 1s 32ms/step - loss: 0.0158 - accuracy: 0.2295\n",
      "Epoch 18/50\n",
      "36/36 [==============================] - 1s 31ms/step - loss: 0.0147 - accuracy: 0.2607\n",
      "Epoch 19/50\n",
      "36/36 [==============================] - 1s 32ms/step - loss: 0.0124 - accuracy: 0.2438\n",
      "Epoch 20/50\n",
      "36/36 [==============================] - 1s 31ms/step - loss: 0.0118 - accuracy: 0.2464\n",
      "Epoch 21/50\n",
      "36/36 [==============================] - 1s 31ms/step - loss: 0.0116 - accuracy: 0.2509\n",
      "Epoch 22/50\n",
      "36/36 [==============================] - 1s 32ms/step - loss: 0.0110 - accuracy: 0.2687\n",
      "Epoch 23/50\n",
      "36/36 [==============================] - 1s 32ms/step - loss: 0.0105 - accuracy: 0.2553\n",
      "Epoch 24/50\n",
      "36/36 [==============================] - 1s 31ms/step - loss: 0.0099 - accuracy: 0.2553\n",
      "Epoch 25/50\n",
      "36/36 [==============================] - 1s 31ms/step - loss: 0.0094 - accuracy: 0.2651\n",
      "Epoch 26/50\n",
      "36/36 [==============================] - 1s 34ms/step - loss: 0.0087 - accuracy: 0.2278\n",
      "Epoch 27/50\n",
      "36/36 [==============================] - 1s 32ms/step - loss: 0.0086 - accuracy: 0.2438\n",
      "Epoch 28/50\n",
      "36/36 [==============================] - 1s 32ms/step - loss: 0.0084 - accuracy: 0.2500\n",
      "Epoch 29/50\n",
      "36/36 [==============================] - 1s 31ms/step - loss: 0.0082 - accuracy: 0.2473\n",
      "Epoch 30/50\n",
      "36/36 [==============================] - 1s 32ms/step - loss: 0.0082 - accuracy: 0.2625\n",
      "Epoch 31/50\n",
      "36/36 [==============================] - 1s 31ms/step - loss: 0.0073 - accuracy: 0.2500\n",
      "Epoch 32/50\n",
      "36/36 [==============================] - 1s 31ms/step - loss: 0.0070 - accuracy: 0.2215\n",
      "Epoch 33/50\n",
      "36/36 [==============================] - 1s 32ms/step - loss: 0.0068 - accuracy: 0.2438\n",
      "Epoch 34/50\n",
      "36/36 [==============================] - 1s 33ms/step - loss: 0.0075 - accuracy: 0.2438\n",
      "Epoch 35/50\n",
      "36/36 [==============================] - 1s 33ms/step - loss: 0.0067 - accuracy: 0.2500\n",
      "Epoch 36/50\n",
      "36/36 [==============================] - 1s 37ms/step - loss: 0.0066 - accuracy: 0.2331\n",
      "Epoch 37/50\n",
      "36/36 [==============================] - 1s 34ms/step - loss: 0.0064 - accuracy: 0.2429\n",
      "Epoch 38/50\n",
      "36/36 [==============================] - 1s 33ms/step - loss: 0.0059 - accuracy: 0.2393\n",
      "Epoch 39/50\n",
      "36/36 [==============================] - 1s 32ms/step - loss: 0.0054 - accuracy: 0.2865\n",
      "Epoch 40/50\n",
      "36/36 [==============================] - 1s 32ms/step - loss: 0.0061 - accuracy: 0.2402\n",
      "Epoch 41/50\n",
      "36/36 [==============================] - 1s 31ms/step - loss: 0.0054 - accuracy: 0.2687\n",
      "Epoch 42/50\n",
      "36/36 [==============================] - 1s 31ms/step - loss: 0.0053 - accuracy: 0.2696\n",
      "Epoch 43/50\n",
      "36/36 [==============================] - 1s 32ms/step - loss: 0.0053 - accuracy: 0.2509\n",
      "Epoch 44/50\n",
      "36/36 [==============================] - 1s 32ms/step - loss: 0.0050 - accuracy: 0.2651\n",
      "Epoch 45/50\n",
      "36/36 [==============================] - 1s 33ms/step - loss: 0.0052 - accuracy: 0.2758\n",
      "Epoch 46/50\n",
      "36/36 [==============================] - 1s 34ms/step - loss: 0.0054 - accuracy: 0.2714\n",
      "Epoch 47/50\n",
      "36/36 [==============================] - 1s 33ms/step - loss: 0.0048 - accuracy: 0.2536\n",
      "Epoch 48/50\n",
      "36/36 [==============================] - 1s 32ms/step - loss: 0.0050 - accuracy: 0.2669\n",
      "Epoch 49/50\n",
      "36/36 [==============================] - 1s 32ms/step - loss: 0.0046 - accuracy: 0.2598\n",
      "Epoch 50/50\n",
      "36/36 [==============================] - 1s 32ms/step - loss: 0.0046 - accuracy: 0.2651\n"
     ]
    },
    {
     "data": {
      "text/plain": [
       "<keras.callbacks.History at 0x1da03d6b1c0>"
      ]
     },
     "execution_count": 123,
     "metadata": {},
     "output_type": "execute_result"
    }
   ],
   "source": [
    "regressor_RNN.fit(X_train, y_train, epochs = 50, batch_size = 32)"
   ]
  },
  {
   "cell_type": "code",
   "execution_count": 124,
   "id": "16397c9f",
   "metadata": {},
   "outputs": [
    {
     "name": "stdout",
     "output_type": "stream",
     "text": [
      "16/16 [==============================] - 1s 10ms/step\n"
     ]
    }
   ],
   "source": [
    "y_pred_RNN = regressor_RNN.predict(X_test)"
   ]
  },
  {
   "cell_type": "code",
   "execution_count": 125,
   "id": "8773933d",
   "metadata": {},
   "outputs": [],
   "source": [
    "y_pred_RNN = y_pred_RNN/scaler.scale_"
   ]
  },
  {
   "cell_type": "code",
   "execution_count": 126,
   "id": "44e5945e",
   "metadata": {},
   "outputs": [],
   "source": [
    "y_rnn = y_test[:,0]*scale\n",
    "y_predrnn = y_pred_RNN[:,0]"
   ]
  },
  {
   "cell_type": "code",
   "execution_count": 127,
   "id": "c6f90d9b",
   "metadata": {},
   "outputs": [
    {
     "data": {
      "image/png": "[encoded data removed]",
      "text/plain": [
       "<Figure size 1400x500 with 1 Axes>"
      ]
     },
     "metadata": {},
     "output_type": "display_data"
    }
   ],
   "source": [
    "plt.figure(figsize=(14,5))\n",
    "plt.plot(y_rnn,color=\"red\",label=\"Real Tesla Stock Price\")\n",
    "plt.plot(y_predrnn,color=\"green\",label=\"Predicted Tesla Stock Price\")\n",
    "plt.title(\"Tesla Stock Price RNN Prediction\")\n",
    "plt.xlabel('Time')\n",
    "plt.ylabel('Tesla Stock Price')\n",
    "plt.legend()\n",
    "plt.show()"
   ]
  },
  {
   "cell_type": "markdown",
   "id": "d76a237e",
   "metadata": {},
   "source": [
    "### 14 days"
   ]
  },
  {
   "cell_type": "code",
   "execution_count": 128,
   "id": "5dc716eb",
   "metadata": {},
   "outputs": [],
   "source": [
    "last_60 = []\n",
    "for i in range(60):\n",
    "    last_60.append(X_test[507][i].tolist())"
   ]
  },
  {
   "cell_type": "code",
   "execution_count": 129,
   "id": "652d987f",
   "metadata": {},
   "outputs": [],
   "source": [
    "predict_14_day = []"
   ]
  },
  {
   "cell_type": "code",
   "execution_count": 130,
   "id": "b5fa402a",
   "metadata": {},
   "outputs": [
    {
     "name": "stdout",
     "output_type": "stream",
     "text": [
      "1/1 [==============================] - 0s 28ms/step\n",
      "1/1 [==============================] - 0s 29ms/step\n",
      "1/1 [==============================] - 0s 28ms/step\n",
      "1/1 [==============================] - 0s 28ms/step\n",
      "1/1 [==============================] - 0s 26ms/step\n",
      "1/1 [==============================] - 0s 30ms/step\n",
      "1/1 [==============================] - 0s 29ms/step\n",
      "1/1 [==============================] - 0s 27ms/step\n",
      "1/1 [==============================] - 0s 32ms/step\n",
      "1/1 [==============================] - 0s 31ms/step\n",
      "1/1 [==============================] - 0s 29ms/step\n",
      "1/1 [==============================] - 0s 28ms/step\n",
      "1/1 [==============================] - 0s 30ms/step\n",
      "1/1 [==============================] - 0s 29ms/step\n"
     ]
    }
   ],
   "source": [
    "for i in range(14):\n",
    "    tmp = np.array(last_60)\n",
    "    next_day = regressor_RNN.predict(tmp.reshape(1,60,5))\n",
    "    predict_14_day.append(next_day.reshape(5).tolist())\n",
    "    last_60.append(next_day.reshape(5).tolist())\n",
    "    last_60 = last_60[1:]"
   ]
  },
  {
   "cell_type": "code",
   "execution_count": 131,
   "id": "54b896c5",
   "metadata": {},
   "outputs": [
    {
     "data": {
      "text/plain": [
       "array([[2.34081495e+02, 2.34641576e+02, 2.29128655e+02, 2.30408027e+02,\n",
       "        4.40548417e+06],\n",
       "       [2.35333492e+02, 2.34566414e+02, 2.28236076e+02, 2.29827462e+02,\n",
       "        4.43146359e+06],\n",
       "       [2.33557960e+02, 2.32991022e+02, 2.26943149e+02, 2.29594805e+02,\n",
       "        4.37063104e+06],\n",
       "       [2.33751138e+02, 2.33793942e+02, 2.28624827e+02, 2.30189125e+02,\n",
       "        4.20542569e+06],\n",
       "       [2.33662285e+02, 2.33544166e+02, 2.28361499e+02, 2.30302780e+02,\n",
       "        3.91707004e+06],\n",
       "       [2.33521222e+02, 2.32414801e+02, 2.27757640e+02, 2.29016157e+02,\n",
       "        3.76357247e+06],\n",
       "       [2.31537008e+02, 2.32027804e+02, 2.26884187e+02, 2.28652561e+02,\n",
       "        3.68253131e+06],\n",
       "       [2.31301573e+02, 2.31723044e+02, 2.26070567e+02, 2.27457622e+02,\n",
       "        3.68251917e+06],\n",
       "       [2.30909861e+02, 2.31733805e+02, 2.25712981e+02, 2.27826098e+02,\n",
       "        3.74928068e+06],\n",
       "       [2.31671873e+02, 2.31367478e+02, 2.25522521e+02, 2.26953584e+02,\n",
       "        3.81942000e+06],\n",
       "       [2.31154035e+02, 2.31230862e+02, 2.25600562e+02, 2.26991678e+02,\n",
       "        3.78223321e+06],\n",
       "       [2.30830460e+02, 2.31471024e+02, 2.26231823e+02, 2.28140792e+02,\n",
       "        3.82675248e+06],\n",
       "       [2.32186215e+02, 2.31446538e+02, 2.26728959e+02, 2.27576157e+02,\n",
       "        3.87423719e+06],\n",
       "       [2.30844330e+02, 2.30966313e+02, 2.25237756e+02, 2.26825964e+02,\n",
       "        3.78664633e+06]])"
      ]
     },
     "execution_count": 131,
     "metadata": {},
     "output_type": "execute_result"
    }
   ],
   "source": [
    "predict_14_day = predict_14_day/scaler.scale_\n",
    "predict_14_day"
   ]
  },
  {
   "cell_type": "code",
   "execution_count": 132,
   "id": "cdec7fde",
   "metadata": {},
   "outputs": [
    {
     "data": {
      "application/vnd.plotly.v1+json": {
       "config": {
        "plotlyServerURL": "https://plot.ly"
       },
       "data": [
        {
         "hovertemplate": "variable=last_original_days_value<br>Timestamp=%{x}<br>Stock price=%{y}<extra></extra>",
         "legendgroup": "last_original_days_value",
         "line": {
          "color": "#636efa",
          "dash": "solid"
         },
         "marker": {
          "symbol": "circle"
         },
         "mode": "lines",
         "name": "Test open data",
         "orientation": "v",
         "showlegend": true,
         "type": "scatter",
         "x": [
          0,
          1,
          2,
          3,
          4,
          5,
          6,
          7,
          8,
          9,
          10,
          11,
          12,
          13,
          14,
          15,
          16,
          17,
          18,
          19,
          20,
          21,
          22,
          23,
          24,
          25,
          26,
          27,
          28,
          29,
          30,
          31,
          32,
          33,
          34,
          35,
          36,
          37,
          38,
          39,
          40,
          41,
          42,
          43,
          44,
          45,
          46,
          47,
          48,
          49,
          50,
          51,
          52,
          53,
          54,
          55,
          56,
          57,
          58,
          59,
          60,
          61,
          62,
          63,
          64,
          65,
          66,
          67,
          68,
          69,
          70,
          71,
          72,
          73,
          74
         ],
         "xaxis": "x",
         "y": [
          186.91000396948175,
          192.30999796860004,
          192.0800019686376,
          191.86000096867355,
          198.7400059675502,
          205.38999996646436,
          202.41999896694932,
          200.16000396731832,
          198.72000196755343,
          198.6100009675714,
          210.27999896566595,
          210.78999396558268,
          212.83000196524958,
          215.86000096475485,
          212.93000796523327,
          212.91999896523492,
          213.8600009650814,
          220.55999796398743,
          220.5099949639956,
          231.11000096226488,
          229.32000796255713,
          229.71000696249348,
          233.86000096181584,
          241.1699989606223,
          238.1499939611154,
          235.24000596159055,
          236.38999996140276,
          233.10000596193993,
          236.91000396131787,
          232.1999969620869,
          235.770004961504,
          234.8600009616526,
          242.05000296047862,
          241.21000696061577,
          250.1100009591626,
          253.65000995858458,
          254.59999095842946,
          262.8899999570759,
          263.86000095691753,
          261.4600069573094,
          249.65998895923607,
          259.31001295766043,
          264.1699989568669,
          247.86000095953,
          236.52000496138152,
          232.02999896211466,
          228.05000296276452,
          238.03999396113338,
          233.57000796186318,
          234.60000596169505,
          231.77000496215712,
          235.77999896150237,
          230.8600009623057,
          231.49000596220284,
          230.0700079624347,
          228.68000796266165,
          229.97000196245102,
          240.8600009606729,
          246.25999495979121,
          247.86000095953,
          null,
          234.081494821728,
          235.33349150717402,
          233.557960232147,
          233.75113782770896,
          233.66228519704248,
          233.52122153057815,
          231.53700795686007,
          231.3015727622689,
          230.9098605181849,
          231.6718729789628,
          231.15403531579244,
          230.83045960633612,
          232.18621480092656,
          230.84432968001212
         ],
         "yaxis": "y"
        },
        {
         "hovertemplate": "variable=next_predicted_days_value<br>Timestamp=%{x}<br>Stock price=%{y}<extra></extra>",
         "legendgroup": "next_predicted_days_value",
         "line": {
          "color": "#EF553B",
          "dash": "solid"
         },
         "marker": {
          "symbol": "circle"
         },
         "mode": "lines",
         "name": "Predicted next 14 days open price",
         "orientation": "v",
         "showlegend": true,
         "type": "scatter",
         "x": [
          0,
          1,
          2,
          3,
          4,
          5,
          6,
          7,
          8,
          9,
          10,
          11,
          12,
          13,
          14,
          15,
          16,
          17,
          18,
          19,
          20,
          21,
          22,
          23,
          24,
          25,
          26,
          27,
          28,
          29,
          30,
          31,
          32,
          33,
          34,
          35,
          36,
          37,
          38,
          39,
          40,
          41,
          42,
          43,
          44,
          45,
          46,
          47,
          48,
          49,
          50,
          51,
          52,
          53,
          54,
          55,
          56,
          57,
          58,
          59,
          60,
          61,
          62,
          63,
          64,
          65,
          66,
          67,
          68,
          69,
          70,
          71,
          72,
          73,
          74
         ],
         "xaxis": "x",
         "y": [
          186.91000396948175,
          192.30999796860004,
          192.0800019686376,
          191.86000096867355,
          198.7400059675502,
          205.38999996646436,
          202.41999896694932,
          200.16000396731832,
          198.72000196755343,
          198.6100009675714,
          210.27999896566595,
          210.78999396558268,
          212.83000196524958,
          215.86000096475485,
          212.93000796523327,
          212.91999896523492,
          213.8600009650814,
          220.55999796398743,
          220.5099949639956,
          231.11000096226488,
          229.32000796255713,
          229.71000696249348,
          233.86000096181584,
          241.1699989606223,
          238.1499939611154,
          235.24000596159055,
          236.38999996140276,
          233.10000596193993,
          236.91000396131787,
          232.1999969620869,
          235.770004961504,
          234.8600009616526,
          242.05000296047862,
          241.21000696061577,
          250.1100009591626,
          253.65000995858458,
          254.59999095842946,
          262.8899999570759,
          263.86000095691753,
          261.4600069573094,
          249.65998895923607,
          259.31001295766043,
          264.1699989568669,
          247.86000095953,
          236.52000496138152,
          232.02999896211466,
          228.05000296276452,
          238.03999396113338,
          233.57000796186318,
          234.60000596169505,
          231.77000496215712,
          235.77999896150237,
          230.8600009623057,
          231.49000596220284,
          230.0700079624347,
          228.68000796266165,
          229.97000196245102,
          240.8600009606729,
          246.25999495979121,
          247.86000095953,
          null,
          234.081494821728,
          235.33349150717402,
          233.557960232147,
          233.75113782770896,
          233.66228519704248,
          233.52122153057815,
          231.53700795686007,
          231.3015727622689,
          230.9098605181849,
          231.6718729789628,
          231.15403531579244,
          230.83045960633612,
          232.18621480092656,
          230.84432968001212
         ],
         "yaxis": "y"
        }
       ],
       "layout": {
        "font": {
         "color": "black",
         "size": 15
        },
        "legend": {
         "title": {
          "text": "Open Price"
         },
         "tracegroupgap": 0
        },
        "margin": {
         "t": 60
        },
        "plot_bgcolor": "white",
        "template": {
         "data": {
          "bar": [
           {
            "error_x": {
             "color": "#2a3f5f"
            },
            "error_y": {
             "color": "#2a3f5f"
            },
            "marker": {
             "line": {
              "color": "#E5ECF6",
              "width": 0.5
             },
             "pattern": {
              "fillmode": "overlay",
              "size": 10,
              "solidity": 0.2
             }
            },
            "type": "bar"
           }
          ],
          "barpolar": [
           {
            "marker": {
             "line": {
              "color": "#E5ECF6",
              "width": 0.5
             },
             "pattern": {
              "fillmode": "overlay",
              "size": 10,
              "solidity": 0.2
             }
            },
            "type": "barpolar"
           }
          ],
          "carpet": [
           {
            "aaxis": {
             "endlinecolor": "#2a3f5f",
             "gridcolor": "white",
             "linecolor": "white",
             "minorgridcolor": "white",
             "startlinecolor": "#2a3f5f"
            },
            "baxis": {
             "endlinecolor": "#2a3f5f",
             "gridcolor": "white",
             "linecolor": "white",
             "minorgridcolor": "white",
             "startlinecolor": "#2a3f5f"
            },
            "type": "carpet"
           }
          ],
          "choropleth": [
           {
            "colorbar": {
             "outlinewidth": 0,
             "ticks": ""
            },
            "type": "choropleth"
           }
          ],
          "contour": [
           {
            "colorbar": {
             "outlinewidth": 0,
             "ticks": ""
            },
            "colorscale": [
             [
              0,
              "#0d0887"
             ],
             [
              0.1111111111111111,
              "#46039f"
             ],
             [
              0.2222222222222222,
              "#7201a8"
             ],
             [
              0.3333333333333333,
              "#9c179e"
             ],
             [
              0.4444444444444444,
              "#bd3786"
             ],
             [
              0.5555555555555556,
              "#d8576b"
             ],
             [
              0.6666666666666666,
              "#ed7953"
             ],
             [
              0.7777777777777778,
              "#fb9f3a"
             ],
             [
              0.8888888888888888,
              "#fdca26"
             ],
             [
              1,
              "#f0f921"
             ]
            ],
            "type": "contour"
           }
          ],
          "contourcarpet": [
           {
            "colorbar": {
             "outlinewidth": 0,
             "ticks": ""
            },
            "type": "contourcarpet"
           }
          ],
          "heatmap": [
           {
            "colorbar": {
             "outlinewidth": 0,
             "ticks": ""
            },
            "colorscale": [
             [
              0,
              "#0d0887"
             ],
             [
              0.1111111111111111,
              "#46039f"
             ],
             [
              0.2222222222222222,
              "#7201a8"
             ],
             [
              0.3333333333333333,
              "#9c179e"
             ],
             [
              0.4444444444444444,
              "#bd3786"
             ],
             [
              0.5555555555555556,
              "#d8576b"
             ],
             [
              0.6666666666666666,
              "#ed7953"
             ],
             [
              0.7777777777777778,
              "#fb9f3a"
             ],
             [
              0.8888888888888888,
              "#fdca26"
             ],
             [
              1,
              "#f0f921"
             ]
            ],
            "type": "heatmap"
           }
          ],
          "heatmapgl": [
           {
            "colorbar": {
             "outlinewidth": 0,
             "ticks": ""
            },
            "colorscale": [
             [
              0,
              "#0d0887"
             ],
             [
              0.1111111111111111,
              "#46039f"
             ],
             [
              0.2222222222222222,
              "#7201a8"
             ],
             [
              0.3333333333333333,
              "#9c179e"
             ],
             [
              0.4444444444444444,
              "#bd3786"
             ],
             [
              0.5555555555555556,
              "#d8576b"
             ],
             [
              0.6666666666666666,
              "#ed7953"
             ],
             [
              0.7777777777777778,
              "#fb9f3a"
             ],
             [
              0.8888888888888888,
              "#fdca26"
             ],
             [
              1,
              "#f0f921"
             ]
            ],
            "type": "heatmapgl"
           }
          ],
          "histogram": [
           {
            "marker": {
             "pattern": {
              "fillmode": "overlay",
              "size": 10,
              "solidity": 0.2
             }
            },
            "type": "histogram"
           }
          ],
          "histogram2d": [
           {
            "colorbar": {
             "outlinewidth": 0,
             "ticks": ""
            },
            "colorscale": [
             [
              0,
              "#0d0887"
             ],
             [
              0.1111111111111111,
              "#46039f"
             ],
             [
              0.2222222222222222,
              "#7201a8"
             ],
             [
              0.3333333333333333,
              "#9c179e"
             ],
             [
              0.4444444444444444,
              "#bd3786"
             ],
             [
              0.5555555555555556,
              "#d8576b"
             ],
             [
              0.6666666666666666,
              "#ed7953"
             ],
             [
              0.7777777777777778,
              "#fb9f3a"
             ],
             [
              0.8888888888888888,
              "#fdca26"
             ],
             [
              1,
              "#f0f921"
             ]
            ],
            "type": "histogram2d"
           }
          ],
          "histogram2dcontour": [
           {
            "colorbar": {
             "outlinewidth": 0,
             "ticks": ""
            },
            "colorscale": [
             [
              0,
              "#0d0887"
             ],
             [
              0.1111111111111111,
              "#46039f"
             ],
             [
              0.2222222222222222,
              "#7201a8"
             ],
             [
              0.3333333333333333,
              "#9c179e"
             ],
             [
              0.4444444444444444,
              "#bd3786"
             ],
             [
              0.5555555555555556,
              "#d8576b"
             ],
             [
              0.6666666666666666,
              "#ed7953"
             ],
             [
              0.7777777777777778,
              "#fb9f3a"
             ],
             [
              0.8888888888888888,
              "#fdca26"
             ],
             [
              1,
              "#f0f921"
             ]
            ],
            "type": "histogram2dcontour"
           }
          ],
          "mesh3d": [
           {
            "colorbar": {
             "outlinewidth": 0,
             "ticks": ""
            },
            "type": "mesh3d"
           }
          ],
          "parcoords": [
           {
            "line": {
             "colorbar": {
              "outlinewidth": 0,
              "ticks": ""
             }
            },
            "type": "parcoords"
           }
          ],
          "pie": [
           {
            "automargin": true,
            "type": "pie"
           }
          ],
          "scatter": [
           {
            "fillpattern": {
             "fillmode": "overlay",
             "size": 10,
             "solidity": 0.2
            },
            "type": "scatter"
           }
          ],
          "scatter3d": [
           {
            "line": {
             "colorbar": {
              "outlinewidth": 0,
              "ticks": ""
             }
            },
            "marker": {
             "colorbar": {
              "outlinewidth": 0,
              "ticks": ""
             }
            },
            "type": "scatter3d"
           }
          ],
          "scattercarpet": [
           {
            "marker": {
             "colorbar": {
              "outlinewidth": 0,
              "ticks": ""
             }
            },
            "type": "scattercarpet"
           }
          ],
          "scattergeo": [
           {
            "marker": {
             "colorbar": {
              "outlinewidth": 0,
              "ticks": ""
             }
            },
            "type": "scattergeo"
           }
          ],
          "scattergl": [
           {
            "marker": {
             "colorbar": {
              "outlinewidth": 0,
              "ticks": ""
             }
            },
            "type": "scattergl"
           }
          ],
          "scattermapbox": [
           {
            "marker": {
             "colorbar": {
              "outlinewidth": 0,
              "ticks": ""
             }
            },
            "type": "scattermapbox"
           }
          ],
          "scatterpolar": [
           {
            "marker": {
             "colorbar": {
              "outlinewidth": 0,
              "ticks": ""
             }
            },
            "type": "scatterpolar"
           }
          ],
          "scatterpolargl": [
           {
            "marker": {
             "colorbar": {
              "outlinewidth": 0,
              "ticks": ""
             }
            },
            "type": "scatterpolargl"
           }
          ],
          "scatterternary": [
           {
            "marker": {
             "colorbar": {
              "outlinewidth": 0,
              "ticks": ""
             }
            },
            "type": "scatterternary"
           }
          ],
          "surface": [
           {
            "colorbar": {
             "outlinewidth": 0,
             "ticks": ""
            },
            "colorscale": [
             [
              0,
              "#0d0887"
             ],
             [
              0.1111111111111111,
              "#46039f"
             ],
             [
              0.2222222222222222,
              "#7201a8"
             ],
             [
              0.3333333333333333,
              "#9c179e"
             ],
             [
              0.4444444444444444,
              "#bd3786"
             ],
             [
              0.5555555555555556,
              "#d8576b"
             ],
             [
              0.6666666666666666,
              "#ed7953"
             ],
             [
              0.7777777777777778,
              "#fb9f3a"
             ],
             [
              0.8888888888888888,
              "#fdca26"
             ],
             [
              1,
              "#f0f921"
             ]
            ],
            "type": "surface"
           }
          ],
          "table": [
           {
            "cells": {
             "fill": {
              "color": "#EBF0F8"
             },
             "line": {
              "color": "white"
             }
            },
            "header": {
             "fill": {
              "color": "#C8D4E3"
             },
             "line": {
              "color": "white"
             }
            },
            "type": "table"
           }
          ]
         },
         "layout": {
          "annotationdefaults": {
           "arrowcolor": "#2a3f5f",
           "arrowhead": 0,
           "arrowwidth": 1
          },
          "autotypenumbers": "strict",
          "coloraxis": {
           "colorbar": {
            "outlinewidth": 0,
            "ticks": ""
           }
          },
          "colorscale": {
           "diverging": [
            [
             0,
             "#8e0152"
            ],
            [
             0.1,
             "#c51b7d"
            ],
            [
             0.2,
             "#de77ae"
            ],
            [
             0.3,
             "#f1b6da"
            ],
            [
             0.4,
             "#fde0ef"
            ],
            [
             0.5,
             "#f7f7f7"
            ],
            [
             0.6,
             "#e6f5d0"
            ],
            [
             0.7,
             "#b8e186"
            ],
            [
             0.8,
             "#7fbc41"
            ],
            [
             0.9,
             "#4d9221"
            ],
            [
             1,
             "#276419"
            ]
           ],
           "sequential": [
            [
             0,
             "#0d0887"
            ],
            [
             0.1111111111111111,
             "#46039f"
            ],
            [
             0.2222222222222222,
             "#7201a8"
            ],
            [
             0.3333333333333333,
             "#9c179e"
            ],
            [
             0.4444444444444444,
             "#bd3786"
            ],
            [
             0.5555555555555556,
             "#d8576b"
            ],
            [
             0.6666666666666666,
             "#ed7953"
            ],
            [
             0.7777777777777778,
             "#fb9f3a"
            ],
            [
             0.8888888888888888,
             "#fdca26"
            ],
            [
             1,
             "#f0f921"
            ]
           ],
           "sequentialminus": [
            [
             0,
             "#0d0887"
            ],
            [
             0.1111111111111111,
             "#46039f"
            ],
            [
             0.2222222222222222,
             "#7201a8"
            ],
            [
             0.3333333333333333,
             "#9c179e"
            ],
            [
             0.4444444444444444,
             "#bd3786"
            ],
            [
             0.5555555555555556,
             "#d8576b"
            ],
            [
             0.6666666666666666,
             "#ed7953"
            ],
            [
             0.7777777777777778,
             "#fb9f3a"
            ],
            [
             0.8888888888888888,
             "#fdca26"
            ],
            [
             1,
             "#f0f921"
            ]
           ]
          },
          "colorway": [
           "#636efa",
           "#EF553B",
           "#00cc96",
           "#ab63fa",
           "#FFA15A",
           "#19d3f3",
           "#FF6692",
           "#B6E880",
           "#FF97FF",
           "#FECB52"
          ],
          "font": {
           "color": "#2a3f5f"
          },
          "geo": {
           "bgcolor": "white",
           "lakecolor": "white",
           "landcolor": "#E5ECF6",
           "showlakes": true,
           "showland": true,
           "subunitcolor": "white"
          },
          "hoverlabel": {
           "align": "left"
          },
          "hovermode": "closest",
          "mapbox": {
           "style": "light"
          },
          "paper_bgcolor": "white",
          "plot_bgcolor": "#E5ECF6",
          "polar": {
           "angularaxis": {
            "gridcolor": "white",
            "linecolor": "white",
            "ticks": ""
           },
           "bgcolor": "#E5ECF6",
           "radialaxis": {
            "gridcolor": "white",
            "linecolor": "white",
            "ticks": ""
           }
          },
          "scene": {
           "xaxis": {
            "backgroundcolor": "#E5ECF6",
            "gridcolor": "white",
            "gridwidth": 2,
            "linecolor": "white",
            "showbackground": true,
            "ticks": "",
            "zerolinecolor": "white"
           },
           "yaxis": {
            "backgroundcolor": "#E5ECF6",
            "gridcolor": "white",
            "gridwidth": 2,
            "linecolor": "white",
            "showbackground": true,
            "ticks": "",
            "zerolinecolor": "white"
           },
           "zaxis": {
            "backgroundcolor": "#E5ECF6",
            "gridcolor": "white",
            "gridwidth": 2,
            "linecolor": "white",
            "showbackground": true,
            "ticks": "",
            "zerolinecolor": "white"
           }
          },
          "shapedefaults": {
           "line": {
            "color": "#2a3f5f"
           }
          },
          "ternary": {
           "aaxis": {
            "gridcolor": "white",
            "linecolor": "white",
            "ticks": ""
           },
           "baxis": {
            "gridcolor": "white",
            "linecolor": "white",
            "ticks": ""
           },
           "bgcolor": "#E5ECF6",
           "caxis": {
            "gridcolor": "white",
            "linecolor": "white",
            "ticks": ""
           }
          },
          "title": {
           "x": 0.05
          },
          "xaxis": {
           "automargin": true,
           "gridcolor": "white",
           "linecolor": "white",
           "ticks": "",
           "title": {
            "standoff": 15
           },
           "zerolinecolor": "white",
           "zerolinewidth": 2
          },
          "yaxis": {
           "automargin": true,
           "gridcolor": "white",
           "linecolor": "white",
           "ticks": "",
           "title": {
            "standoff": 15
           },
           "zerolinecolor": "white",
           "zerolinewidth": 2
          }
         }
        },
        "title": {
         "text": "next 14 days"
        },
        "xaxis": {
         "anchor": "y",
         "domain": [
          0,
          1
         ],
         "showgrid": false,
         "title": {
          "text": "Timestamp"
         }
        },
        "yaxis": {
         "anchor": "x",
         "domain": [
          0,
          1
         ],
         "showgrid": false,
         "title": {
          "text": "Stock price"
         }
        }
       }
      },
      "text/html": [
       "<div>                            <div id=\"cbe44e02-dfa1-4b7e-bf05-3ede6625b73d\" class=\"plotly-graph-div\" style=\"height:525px; width:100%;\"></div>            <script type=\"text/javascript\">                require([\"plotly\"], function(Plotly) {                    window.PLOTLYENV=window.PLOTLYENV || {};                                    if (document.getElementById(\"cbe44e02-dfa1-4b7e-bf05-3ede6625b73d\")) {                    Plotly.newPlot(                        \"cbe44e02-dfa1-4b7e-bf05-3ede6625b73d\",                        [{\"hovertemplate\":\"variable=last_original_days_value<br>Timestamp=%{x}<br>Stock price=%{y}<extra></extra>\",\"legendgroup\":\"last_original_days_value\",\"line\":{\"color\":\"#636efa\",\"dash\":\"solid\"},\"marker\":{\"symbol\":\"circle\"},\"mode\":\"lines\",\"name\":\"Test open data\",\"orientation\":\"v\",\"showlegend\":true,\"x\":[0,1,2,3,4,5,6,7,8,9,10,11,12,13,14,15,16,17,18,19,20,21,22,23,24,25,26,27,28,29,30,31,32,33,34,35,36,37,38,39,40,41,42,43,44,45,46,47,48,49,50,51,52,53,54,55,56,57,58,59,60,61,62,63,64,65,66,67,68,69,70,71,72,73,74],\"xaxis\":\"x\",\"y\":[186.91000396948175,192.30999796860004,192.0800019686376,191.86000096867355,198.7400059675502,205.38999996646436,202.41999896694932,200.16000396731832,198.72000196755343,198.6100009675714,210.27999896566595,210.78999396558268,212.83000196524958,215.86000096475485,212.93000796523327,212.91999896523492,213.8600009650814,220.55999796398743,220.5099949639956,231.11000096226488,229.32000796255713,229.71000696249348,233.86000096181584,241.1699989606223,238.1499939611154,235.24000596159055,236.38999996140276,233.10000596193993,236.91000396131787,232.1999969620869,235.770004961504,234.8600009616526,242.05000296047862,241.21000696061577,250.1100009591626,253.65000995858458,254.59999095842946,262.8899999570759,263.86000095691753,261.4600069573094,249.65998895923607,259.31001295766043,264.1699989568669,247.86000095953,236.52000496138152,232.02999896211466,228.05000296276452,238.03999396113338,233.57000796186318,234.60000596169505,231.77000496215712,235.77999896150237,230.8600009623057,231.49000596220284,230.0700079624347,228.68000796266165,229.97000196245102,240.8600009606729,246.25999495979121,247.86000095953,null,234.081494821728,235.33349150717402,233.557960232147,233.75113782770896,233.66228519704248,233.52122153057815,231.53700795686007,231.3015727622689,230.9098605181849,231.6718729789628,231.15403531579244,230.83045960633612,232.18621480092656,230.84432968001212],\"yaxis\":\"y\",\"type\":\"scatter\"},{\"hovertemplate\":\"variable=next_predicted_days_value<br>Timestamp=%{x}<br>Stock price=%{y}<extra></extra>\",\"legendgroup\":\"next_predicted_days_value\",\"line\":{\"color\":\"#EF553B\",\"dash\":\"solid\"},\"marker\":{\"symbol\":\"circle\"},\"mode\":\"lines\",\"name\":\"Predicted next 14 days open price\",\"orientation\":\"v\",\"showlegend\":true,\"x\":[0,1,2,3,4,5,6,7,8,9,10,11,12,13,14,15,16,17,18,19,20,21,22,23,24,25,26,27,28,29,30,31,32,33,34,35,36,37,38,39,40,41,42,43,44,45,46,47,48,49,50,51,52,53,54,55,56,57,58,59,60,61,62,63,64,65,66,67,68,69,70,71,72,73,74],\"xaxis\":\"x\",\"y\":[186.91000396948175,192.30999796860004,192.0800019686376,191.86000096867355,198.7400059675502,205.38999996646436,202.41999896694932,200.16000396731832,198.72000196755343,198.6100009675714,210.27999896566595,210.78999396558268,212.83000196524958,215.86000096475485,212.93000796523327,212.91999896523492,213.8600009650814,220.55999796398743,220.5099949639956,231.11000096226488,229.32000796255713,229.71000696249348,233.86000096181584,241.1699989606223,238.1499939611154,235.24000596159055,236.38999996140276,233.10000596193993,236.91000396131787,232.1999969620869,235.770004961504,234.8600009616526,242.05000296047862,241.21000696061577,250.1100009591626,253.65000995858458,254.59999095842946,262.8899999570759,263.86000095691753,261.4600069573094,249.65998895923607,259.31001295766043,264.1699989568669,247.86000095953,236.52000496138152,232.02999896211466,228.05000296276452,238.03999396113338,233.57000796186318,234.60000596169505,231.77000496215712,235.77999896150237,230.8600009623057,231.49000596220284,230.0700079624347,228.68000796266165,229.97000196245102,240.8600009606729,246.25999495979121,247.86000095953,null,234.081494821728,235.33349150717402,233.557960232147,233.75113782770896,233.66228519704248,233.52122153057815,231.53700795686007,231.3015727622689,230.9098605181849,231.6718729789628,231.15403531579244,230.83045960633612,232.18621480092656,230.84432968001212],\"yaxis\":\"y\",\"type\":\"scatter\"}],                        {\"template\":{\"data\":{\"histogram2dcontour\":[{\"type\":\"histogram2dcontour\",\"colorbar\":{\"outlinewidth\":0,\"ticks\":\"\"},\"colorscale\":[[0.0,\"#0d0887\"],[0.1111111111111111,\"#46039f\"],[0.2222222222222222,\"#7201a8\"],[0.3333333333333333,\"#9c179e\"],[0.4444444444444444,\"#bd3786\"],[0.5555555555555556,\"#d8576b\"],[0.6666666666666666,\"#ed7953\"],[0.7777777777777778,\"#fb9f3a\"],[0.8888888888888888,\"#fdca26\"],[1.0,\"#f0f921\"]]}],\"choropleth\":[{\"type\":\"choropleth\",\"colorbar\":{\"outlinewidth\":0,\"ticks\":\"\"}}],\"histogram2d\":[{\"type\":\"histogram2d\",\"colorbar\":{\"outlinewidth\":0,\"ticks\":\"\"},\"colorscale\":[[0.0,\"#0d0887\"],[0.1111111111111111,\"#46039f\"],[0.2222222222222222,\"#7201a8\"],[0.3333333333333333,\"#9c179e\"],[0.4444444444444444,\"#bd3786\"],[0.5555555555555556,\"#d8576b\"],[0.6666666666666666,\"#ed7953\"],[0.7777777777777778,\"#fb9f3a\"],[0.8888888888888888,\"#fdca26\"],[1.0,\"#f0f921\"]]}],\"heatmap\":[{\"type\":\"heatmap\",\"colorbar\":{\"outlinewidth\":0,\"ticks\":\"\"},\"colorscale\":[[0.0,\"#0d0887\"],[0.1111111111111111,\"#46039f\"],[0.2222222222222222,\"#7201a8\"],[0.3333333333333333,\"#9c179e\"],[0.4444444444444444,\"#bd3786\"],[0.5555555555555556,\"#d8576b\"],[0.6666666666666666,\"#ed7953\"],[0.7777777777777778,\"#fb9f3a\"],[0.8888888888888888,\"#fdca26\"],[1.0,\"#f0f921\"]]}],\"heatmapgl\":[{\"type\":\"heatmapgl\",\"colorbar\":{\"outlinewidth\":0,\"ticks\":\"\"},\"colorscale\":[[0.0,\"#0d0887\"],[0.1111111111111111,\"#46039f\"],[0.2222222222222222,\"#7201a8\"],[0.3333333333333333,\"#9c179e\"],[0.4444444444444444,\"#bd3786\"],[0.5555555555555556,\"#d8576b\"],[0.6666666666666666,\"#ed7953\"],[0.7777777777777778,\"#fb9f3a\"],[0.8888888888888888,\"#fdca26\"],[1.0,\"#f0f921\"]]}],\"contourcarpet\":[{\"type\":\"contourcarpet\",\"colorbar\":{\"outlinewidth\":0,\"ticks\":\"\"}}],\"contour\":[{\"type\":\"contour\",\"colorbar\":{\"outlinewidth\":0,\"ticks\":\"\"},\"colorscale\":[[0.0,\"#0d0887\"],[0.1111111111111111,\"#46039f\"],[0.2222222222222222,\"#7201a8\"],[0.3333333333333333,\"#9c179e\"],[0.4444444444444444,\"#bd3786\"],[0.5555555555555556,\"#d8576b\"],[0.6666666666666666,\"#ed7953\"],[0.7777777777777778,\"#fb9f3a\"],[0.8888888888888888,\"#fdca26\"],[1.0,\"#f0f921\"]]}],\"surface\":[{\"type\":\"surface\",\"colorbar\":{\"outlinewidth\":0,\"ticks\":\"\"},\"colorscale\":[[0.0,\"#0d0887\"],[0.1111111111111111,\"#46039f\"],[0.2222222222222222,\"#7201a8\"],[0.3333333333333333,\"#9c179e\"],[0.4444444444444444,\"#bd3786\"],[0.5555555555555556,\"#d8576b\"],[0.6666666666666666,\"#ed7953\"],[0.7777777777777778,\"#fb9f3a\"],[0.8888888888888888,\"#fdca26\"],[1.0,\"#f0f921\"]]}],\"mesh3d\":[{\"type\":\"mesh3d\",\"colorbar\":{\"outlinewidth\":0,\"ticks\":\"\"}}],\"scatter\":[{\"fillpattern\":{\"fillmode\":\"overlay\",\"size\":10,\"solidity\":0.2},\"type\":\"scatter\"}],\"parcoords\":[{\"type\":\"parcoords\",\"line\":{\"colorbar\":{\"outlinewidth\":0,\"ticks\":\"\"}}}],\"scatterpolargl\":[{\"type\":\"scatterpolargl\",\"marker\":{\"colorbar\":{\"outlinewidth\":0,\"ticks\":\"\"}}}],\"bar\":[{\"error_x\":{\"color\":\"#2a3f5f\"},\"error_y\":{\"color\":\"#2a3f5f\"},\"marker\":{\"line\":{\"color\":\"#E5ECF6\",\"width\":0.5},\"pattern\":{\"fillmode\":\"overlay\",\"size\":10,\"solidity\":0.2}},\"type\":\"bar\"}],\"scattergeo\":[{\"type\":\"scattergeo\",\"marker\":{\"colorbar\":{\"outlinewidth\":0,\"ticks\":\"\"}}}],\"scatterpolar\":[{\"type\":\"scatterpolar\",\"marker\":{\"colorbar\":{\"outlinewidth\":0,\"ticks\":\"\"}}}],\"histogram\":[{\"marker\":{\"pattern\":{\"fillmode\":\"overlay\",\"size\":10,\"solidity\":0.2}},\"type\":\"histogram\"}],\"scattergl\":[{\"type\":\"scattergl\",\"marker\":{\"colorbar\":{\"outlinewidth\":0,\"ticks\":\"\"}}}],\"scatter3d\":[{\"type\":\"scatter3d\",\"line\":{\"colorbar\":{\"outlinewidth\":0,\"ticks\":\"\"}},\"marker\":{\"colorbar\":{\"outlinewidth\":0,\"ticks\":\"\"}}}],\"scattermapbox\":[{\"type\":\"scattermapbox\",\"marker\":{\"colorbar\":{\"outlinewidth\":0,\"ticks\":\"\"}}}],\"scatterternary\":[{\"type\":\"scatterternary\",\"marker\":{\"colorbar\":{\"outlinewidth\":0,\"ticks\":\"\"}}}],\"scattercarpet\":[{\"type\":\"scattercarpet\",\"marker\":{\"colorbar\":{\"outlinewidth\":0,\"ticks\":\"\"}}}],\"carpet\":[{\"aaxis\":{\"endlinecolor\":\"#2a3f5f\",\"gridcolor\":\"white\",\"linecolor\":\"white\",\"minorgridcolor\":\"white\",\"startlinecolor\":\"#2a3f5f\"},\"baxis\":{\"endlinecolor\":\"#2a3f5f\",\"gridcolor\":\"white\",\"linecolor\":\"white\",\"minorgridcolor\":\"white\",\"startlinecolor\":\"#2a3f5f\"},\"type\":\"carpet\"}],\"table\":[{\"cells\":{\"fill\":{\"color\":\"#EBF0F8\"},\"line\":{\"color\":\"white\"}},\"header\":{\"fill\":{\"color\":\"#C8D4E3\"},\"line\":{\"color\":\"white\"}},\"type\":\"table\"}],\"barpolar\":[{\"marker\":{\"line\":{\"color\":\"#E5ECF6\",\"width\":0.5},\"pattern\":{\"fillmode\":\"overlay\",\"size\":10,\"solidity\":0.2}},\"type\":\"barpolar\"}],\"pie\":[{\"automargin\":true,\"type\":\"pie\"}]},\"layout\":{\"autotypenumbers\":\"strict\",\"colorway\":[\"#636efa\",\"#EF553B\",\"#00cc96\",\"#ab63fa\",\"#FFA15A\",\"#19d3f3\",\"#FF6692\",\"#B6E880\",\"#FF97FF\",\"#FECB52\"],\"font\":{\"color\":\"#2a3f5f\"},\"hovermode\":\"closest\",\"hoverlabel\":{\"align\":\"left\"},\"paper_bgcolor\":\"white\",\"plot_bgcolor\":\"#E5ECF6\",\"polar\":{\"bgcolor\":\"#E5ECF6\",\"angularaxis\":{\"gridcolor\":\"white\",\"linecolor\":\"white\",\"ticks\":\"\"},\"radialaxis\":{\"gridcolor\":\"white\",\"linecolor\":\"white\",\"ticks\":\"\"}},\"ternary\":{\"bgcolor\":\"#E5ECF6\",\"aaxis\":{\"gridcolor\":\"white\",\"linecolor\":\"white\",\"ticks\":\"\"},\"baxis\":{\"gridcolor\":\"white\",\"linecolor\":\"white\",\"ticks\":\"\"},\"caxis\":{\"gridcolor\":\"white\",\"linecolor\":\"white\",\"ticks\":\"\"}},\"coloraxis\":{\"colorbar\":{\"outlinewidth\":0,\"ticks\":\"\"}},\"colorscale\":{\"sequential\":[[0.0,\"#0d0887\"],[0.1111111111111111,\"#46039f\"],[0.2222222222222222,\"#7201a8\"],[0.3333333333333333,\"#9c179e\"],[0.4444444444444444,\"#bd3786\"],[0.5555555555555556,\"#d8576b\"],[0.6666666666666666,\"#ed7953\"],[0.7777777777777778,\"#fb9f3a\"],[0.8888888888888888,\"#fdca26\"],[1.0,\"#f0f921\"]],\"sequentialminus\":[[0.0,\"#0d0887\"],[0.1111111111111111,\"#46039f\"],[0.2222222222222222,\"#7201a8\"],[0.3333333333333333,\"#9c179e\"],[0.4444444444444444,\"#bd3786\"],[0.5555555555555556,\"#d8576b\"],[0.6666666666666666,\"#ed7953\"],[0.7777777777777778,\"#fb9f3a\"],[0.8888888888888888,\"#fdca26\"],[1.0,\"#f0f921\"]],\"diverging\":[[0,\"#8e0152\"],[0.1,\"#c51b7d\"],[0.2,\"#de77ae\"],[0.3,\"#f1b6da\"],[0.4,\"#fde0ef\"],[0.5,\"#f7f7f7\"],[0.6,\"#e6f5d0\"],[0.7,\"#b8e186\"],[0.8,\"#7fbc41\"],[0.9,\"#4d9221\"],[1,\"#276419\"]]},\"xaxis\":{\"gridcolor\":\"white\",\"linecolor\":\"white\",\"ticks\":\"\",\"title\":{\"standoff\":15},\"zerolinecolor\":\"white\",\"automargin\":true,\"zerolinewidth\":2},\"yaxis\":{\"gridcolor\":\"white\",\"linecolor\":\"white\",\"ticks\":\"\",\"title\":{\"standoff\":15},\"zerolinecolor\":\"white\",\"automargin\":true,\"zerolinewidth\":2},\"scene\":{\"xaxis\":{\"backgroundcolor\":\"#E5ECF6\",\"gridcolor\":\"white\",\"linecolor\":\"white\",\"showbackground\":true,\"ticks\":\"\",\"zerolinecolor\":\"white\",\"gridwidth\":2},\"yaxis\":{\"backgroundcolor\":\"#E5ECF6\",\"gridcolor\":\"white\",\"linecolor\":\"white\",\"showbackground\":true,\"ticks\":\"\",\"zerolinecolor\":\"white\",\"gridwidth\":2},\"zaxis\":{\"backgroundcolor\":\"#E5ECF6\",\"gridcolor\":\"white\",\"linecolor\":\"white\",\"showbackground\":true,\"ticks\":\"\",\"zerolinecolor\":\"white\",\"gridwidth\":2}},\"shapedefaults\":{\"line\":{\"color\":\"#2a3f5f\"}},\"annotationdefaults\":{\"arrowcolor\":\"#2a3f5f\",\"arrowhead\":0,\"arrowwidth\":1},\"geo\":{\"bgcolor\":\"white\",\"landcolor\":\"#E5ECF6\",\"subunitcolor\":\"white\",\"showland\":true,\"showlakes\":true,\"lakecolor\":\"white\"},\"title\":{\"x\":0.05},\"mapbox\":{\"style\":\"light\"}}},\"xaxis\":{\"anchor\":\"y\",\"domain\":[0.0,1.0],\"title\":{\"text\":\"Timestamp\"},\"showgrid\":false},\"yaxis\":{\"anchor\":\"x\",\"domain\":[0.0,1.0],\"title\":{\"text\":\"Stock price\"},\"showgrid\":false},\"legend\":{\"title\":{\"text\":\"Open Price\"},\"tracegroupgap\":0},\"margin\":{\"t\":60},\"title\":{\"text\":\"next 14 days\"},\"font\":{\"size\":15,\"color\":\"black\"},\"plot_bgcolor\":\"white\"},                        {\"responsive\": true}                    ).then(function(){\n",
       "                            \n",
       "var gd = document.getElementById('cbe44e02-dfa1-4b7e-bf05-3ede6625b73d');\n",
       "var x = new MutationObserver(function (mutations, observer) {{\n",
       "        var display = window.getComputedStyle(gd).display;\n",
       "        if (!display || display === 'none') {{\n",
       "            console.log([gd, 'removed!']);\n",
       "            Plotly.purge(gd);\n",
       "            observer.disconnect();\n",
       "        }}\n",
       "}});\n",
       "\n",
       "// Listen for the removal of the full notebook cells\n",
       "var notebookContainer = gd.closest('#notebook-container');\n",
       "if (notebookContainer) {{\n",
       "    x.observe(notebookContainer, {childList: true});\n",
       "}}\n",
       "\n",
       "// Listen for the clearing of the current output cell\n",
       "var outputEl = gd.closest('.output');\n",
       "if (outputEl) {{\n",
       "    x.observe(outputEl, {childList: true});\n",
       "}}\n",
       "\n",
       "                        })                };                });            </script>        </div>"
      ]
     },
     "metadata": {},
     "output_type": "display_data"
    }
   ],
   "source": [
    "plot14nextday(y_rnn,predict_14_day)"
   ]
  },
  {
   "cell_type": "markdown",
   "id": "9ac99321",
   "metadata": {},
   "source": [
    "### 7 weeks"
   ]
  },
  {
   "cell_type": "code",
   "execution_count": 133,
   "id": "18fc4c60",
   "metadata": {},
   "outputs": [
    {
     "name": "stdout",
     "output_type": "stream",
     "text": [
      "1/1 [==============================] - 0s 38ms/step\n",
      "1/1 [==============================] - 0s 32ms/step\n",
      "1/1 [==============================] - 0s 35ms/step\n",
      "1/1 [==============================] - 0s 34ms/step\n",
      "1/1 [==============================] - 0s 35ms/step\n",
      "1/1 [==============================] - 0s 32ms/step\n",
      "1/1 [==============================] - 0s 33ms/step\n",
      "1/1 [==============================] - 0s 35ms/step\n",
      "1/1 [==============================] - 0s 32ms/step\n",
      "1/1 [==============================] - 0s 32ms/step\n",
      "1/1 [==============================] - 0s 33ms/step\n",
      "1/1 [==============================] - 0s 30ms/step\n",
      "1/1 [==============================] - 0s 33ms/step\n",
      "1/1 [==============================] - 0s 35ms/step\n",
      "1/1 [==============================] - 0s 31ms/step\n",
      "1/1 [==============================] - 0s 36ms/step\n",
      "1/1 [==============================] - 0s 35ms/step\n",
      "1/1 [==============================] - 0s 31ms/step\n",
      "1/1 [==============================] - 0s 34ms/step\n",
      "1/1 [==============================] - 0s 30ms/step\n",
      "1/1 [==============================] - 0s 33ms/step\n",
      "1/1 [==============================] - 0s 32ms/step\n",
      "1/1 [==============================] - 0s 31ms/step\n",
      "1/1 [==============================] - 0s 36ms/step\n",
      "1/1 [==============================] - 0s 32ms/step\n",
      "1/1 [==============================] - 0s 33ms/step\n",
      "1/1 [==============================] - 0s 34ms/step\n",
      "1/1 [==============================] - 0s 32ms/step\n",
      "1/1 [==============================] - 0s 33ms/step\n",
      "1/1 [==============================] - 0s 35ms/step\n",
      "1/1 [==============================] - 0s 35ms/step\n",
      "1/1 [==============================] - 0s 35ms/step\n",
      "1/1 [==============================] - 0s 33ms/step\n",
      "1/1 [==============================] - 0s 32ms/step\n",
      "1/1 [==============================] - 0s 32ms/step\n",
      "1/1 [==============================] - 0s 32ms/step\n",
      "1/1 [==============================] - 0s 33ms/step\n",
      "1/1 [==============================] - 0s 31ms/step\n",
      "1/1 [==============================] - 0s 41ms/step\n",
      "1/1 [==============================] - 0s 33ms/step\n",
      "1/1 [==============================] - 0s 30ms/step\n",
      "1/1 [==============================] - 0s 33ms/step\n",
      "1/1 [==============================] - 0s 32ms/step\n",
      "1/1 [==============================] - 0s 33ms/step\n",
      "1/1 [==============================] - 0s 34ms/step\n",
      "1/1 [==============================] - 0s 35ms/step\n",
      "1/1 [==============================] - 0s 35ms/step\n",
      "1/1 [==============================] - 0s 34ms/step\n",
      "1/1 [==============================] - 0s 37ms/step\n"
     ]
    },
    {
     "data": {
      "text/plain": [
       "array([[2.18940035e+02, 2.25883393e+02, 2.17966304e+02, 2.22027828e+02,\n",
       "        5.92123250e+06],\n",
       "       [2.11930971e+02, 2.18754046e+02, 2.11045444e+02, 2.14937892e+02,\n",
       "        6.02180714e+06],\n",
       "       [2.06729030e+02, 2.13409132e+02, 2.05898717e+02, 2.09570563e+02,\n",
       "        6.13772240e+06],\n",
       "       [2.02985599e+02, 2.09544433e+02, 2.02197930e+02, 2.05681135e+02,\n",
       "        6.23129080e+06],\n",
       "       [2.00219515e+02, 2.06682605e+02, 1.99466308e+02, 2.02802940e+02,\n",
       "        6.30195150e+06],\n",
       "       [1.98142483e+02, 2.04530206e+02, 1.97415559e+02, 2.00640951e+02,\n",
       "        6.35468372e+06],\n",
       "       [1.96568804e+02, 2.02897931e+02, 1.95861060e+02, 1.99003327e+02,\n",
       "        6.39380313e+06]])"
      ]
     },
     "execution_count": 133,
     "metadata": {},
     "output_type": "execute_result"
    }
   ],
   "source": [
    "last_60 = []\n",
    "for i in range(60):\n",
    "    last_60.append(X_test[507][i].tolist())\n",
    "\n",
    "predict_7_week = []\n",
    "\n",
    "for i in range(7*7):\n",
    "    tmp = np.array(last_60)\n",
    "    next_day = regressior.predict(tmp.reshape(1,60,5))\n",
    "    if((i+1) % 7 ==0):\n",
    "        predict_7_week.append(next_day.reshape(5).tolist())\n",
    "    last_60.append(next_day.reshape(5).tolist())\n",
    "    last_60 = last_60[1:]\n",
    "\n",
    "predict_7_week/scaler.scale_"
   ]
  },
  {
   "cell_type": "markdown",
   "id": "46f70b38",
   "metadata": {},
   "source": [
    "# MLP"
   ]
  },
  {
   "cell_type": "code",
   "execution_count": 134,
   "id": "d3e3bbff",
   "metadata": {},
   "outputs": [],
   "source": [
    "n_input = X_train.shape[1] * X_train.shape[2]\n",
    "X = X_train.reshape((X_train.shape[0], n_input))"
   ]
  },
  {
   "cell_type": "code",
   "execution_count": 135,
   "id": "9566e4c0",
   "metadata": {},
   "outputs": [],
   "source": [
    "model = Sequential()\n",
    "model.add(Dense(units=64, activation='relu', input_dim=n_input))\n",
    "model.add(Dense(units=32, activation='relu'))\n",
    "model.add(Dense(units=16, activation='relu'))\n",
    "model.add(Dense(units=5))\n",
    "model.compile(optimizer = \"adam\", loss = \"mean_squared_error\",metrics = [\"accuracy\"])"
   ]
  },
  {
   "cell_type": "code",
   "execution_count": 136,
   "id": "31b73576",
   "metadata": {},
   "outputs": [
    {
     "name": "stdout",
     "output_type": "stream",
     "text": [
      "Epoch 1/50\n",
      "36/36 [==============================] - 1s 2ms/step - loss: 0.0061 - accuracy: 0.1628\n",
      "Epoch 2/50\n",
      "36/36 [==============================] - 0s 2ms/step - loss: 0.0033 - accuracy: 0.1717\n",
      "Epoch 3/50\n",
      "36/36 [==============================] - 0s 2ms/step - loss: 0.0026 - accuracy: 0.2349\n",
      "Epoch 4/50\n",
      "36/36 [==============================] - 0s 2ms/step - loss: 0.0025 - accuracy: 0.2714\n",
      "Epoch 5/50\n",
      "36/36 [==============================] - 0s 2ms/step - loss: 0.0023 - accuracy: 0.3158\n",
      "Epoch 6/50\n",
      "36/36 [==============================] - 0s 2ms/step - loss: 0.0022 - accuracy: 0.3372\n",
      "Epoch 7/50\n",
      "36/36 [==============================] - 0s 2ms/step - loss: 0.0026 - accuracy: 0.3354\n",
      "Epoch 8/50\n",
      "36/36 [==============================] - 0s 2ms/step - loss: 0.0024 - accuracy: 0.2963\n",
      "Epoch 9/50\n",
      "36/36 [==============================] - 0s 2ms/step - loss: 0.0020 - accuracy: 0.3381\n",
      "Epoch 10/50\n",
      "36/36 [==============================] - 0s 2ms/step - loss: 0.0019 - accuracy: 0.3488\n",
      "Epoch 11/50\n",
      "36/36 [==============================] - 0s 2ms/step - loss: 0.0019 - accuracy: 0.3541\n",
      "Epoch 12/50\n",
      "36/36 [==============================] - 0s 2ms/step - loss: 0.0023 - accuracy: 0.3345\n",
      "Epoch 13/50\n",
      "36/36 [==============================] - 0s 2ms/step - loss: 0.0017 - accuracy: 0.3336\n",
      "Epoch 14/50\n",
      "36/36 [==============================] - 0s 2ms/step - loss: 0.0017 - accuracy: 0.3559\n",
      "Epoch 15/50\n",
      "36/36 [==============================] - 0s 2ms/step - loss: 0.0016 - accuracy: 0.3479\n",
      "Epoch 16/50\n",
      "36/36 [==============================] - 0s 2ms/step - loss: 0.0017 - accuracy: 0.3826\n",
      "Epoch 17/50\n",
      "36/36 [==============================] - 0s 2ms/step - loss: 0.0018 - accuracy: 0.3630\n",
      "Epoch 18/50\n",
      "36/36 [==============================] - 0s 2ms/step - loss: 0.0021 - accuracy: 0.3826\n",
      "Epoch 19/50\n",
      "36/36 [==============================] - 0s 2ms/step - loss: 0.0017 - accuracy: 0.3496\n",
      "Epoch 20/50\n",
      "36/36 [==============================] - 0s 2ms/step - loss: 0.0015 - accuracy: 0.3585\n",
      "Epoch 21/50\n",
      "36/36 [==============================] - 0s 2ms/step - loss: 0.0016 - accuracy: 0.3319\n",
      "Epoch 22/50\n",
      "36/36 [==============================] - 0s 2ms/step - loss: 0.0017 - accuracy: 0.3861\n",
      "Epoch 23/50\n",
      "36/36 [==============================] - 0s 2ms/step - loss: 0.0017 - accuracy: 0.3327\n",
      "Epoch 24/50\n",
      "36/36 [==============================] - 0s 2ms/step - loss: 0.0015 - accuracy: 0.3665\n",
      "Epoch 25/50\n",
      "36/36 [==============================] - 0s 2ms/step - loss: 0.0015 - accuracy: 0.3986\n",
      "Epoch 26/50\n",
      "36/36 [==============================] - 0s 2ms/step - loss: 0.0018 - accuracy: 0.3550\n",
      "Epoch 27/50\n",
      "36/36 [==============================] - 0s 3ms/step - loss: 0.0017 - accuracy: 0.3719\n",
      "Epoch 28/50\n",
      "36/36 [==============================] - 0s 2ms/step - loss: 0.0013 - accuracy: 0.4128\n",
      "Epoch 29/50\n",
      "36/36 [==============================] - 0s 2ms/step - loss: 0.0014 - accuracy: 0.3710\n",
      "Epoch 30/50\n",
      "36/36 [==============================] - 0s 2ms/step - loss: 0.0013 - accuracy: 0.3505\n",
      "Epoch 31/50\n",
      "36/36 [==============================] - 0s 2ms/step - loss: 0.0013 - accuracy: 0.3790\n",
      "Epoch 32/50\n",
      "36/36 [==============================] - 0s 2ms/step - loss: 0.0016 - accuracy: 0.3550\n",
      "Epoch 33/50\n",
      "36/36 [==============================] - 0s 2ms/step - loss: 0.0013 - accuracy: 0.3621\n",
      "Epoch 34/50\n",
      "36/36 [==============================] - 0s 2ms/step - loss: 0.0013 - accuracy: 0.3630\n",
      "Epoch 35/50\n",
      "36/36 [==============================] - 0s 2ms/step - loss: 0.0014 - accuracy: 0.3612\n",
      "Epoch 36/50\n",
      "36/36 [==============================] - 0s 2ms/step - loss: 0.0013 - accuracy: 0.3817\n",
      "Epoch 37/50\n",
      "36/36 [==============================] - 0s 3ms/step - loss: 0.0013 - accuracy: 0.3461\n",
      "Epoch 38/50\n",
      "36/36 [==============================] - 0s 4ms/step - loss: 0.0013 - accuracy: 0.3657\n",
      "Epoch 39/50\n",
      "36/36 [==============================] - 0s 3ms/step - loss: 0.0014 - accuracy: 0.3577\n",
      "Epoch 40/50\n",
      "36/36 [==============================] - 0s 3ms/step - loss: 0.0014 - accuracy: 0.3621\n",
      "Epoch 41/50\n",
      "36/36 [==============================] - 0s 3ms/step - loss: 0.0014 - accuracy: 0.3959\n",
      "Epoch 42/50\n",
      "36/36 [==============================] - 0s 2ms/step - loss: 0.0013 - accuracy: 0.3843\n",
      "Epoch 43/50\n",
      "36/36 [==============================] - 0s 2ms/step - loss: 0.0012 - accuracy: 0.3888\n",
      "Epoch 44/50\n",
      "36/36 [==============================] - 0s 2ms/step - loss: 0.0012 - accuracy: 0.3728\n",
      "Epoch 45/50\n",
      "36/36 [==============================] - 0s 3ms/step - loss: 0.0013 - accuracy: 0.4279\n",
      "Epoch 46/50\n",
      "36/36 [==============================] - 0s 2ms/step - loss: 0.0011 - accuracy: 0.3959\n",
      "Epoch 47/50\n",
      "36/36 [==============================] - 0s 3ms/step - loss: 0.0015 - accuracy: 0.3754\n",
      "Epoch 48/50\n",
      "36/36 [==============================] - 0s 3ms/step - loss: 0.0012 - accuracy: 0.4084\n",
      "Epoch 49/50\n",
      "36/36 [==============================] - 0s 2ms/step - loss: 0.0013 - accuracy: 0.3719\n",
      "Epoch 50/50\n",
      "36/36 [==============================] - 0s 2ms/step - loss: 0.0013 - accuracy: 0.3950\n"
     ]
    },
    {
     "data": {
      "text/plain": [
       "<keras.callbacks.History at 0x1da166d7cd0>"
      ]
     },
     "execution_count": 136,
     "metadata": {},
     "output_type": "execute_result"
    }
   ],
   "source": [
    "model.fit(X, y_train, epochs = 50, batch_size = 32)"
   ]
  },
  {
   "cell_type": "code",
   "execution_count": 137,
   "id": "2cf3d88e",
   "metadata": {},
   "outputs": [],
   "source": [
    "X_test_flatten = X_test.reshape((X_test.shape[0], n_input))"
   ]
  },
  {
   "cell_type": "code",
   "execution_count": 138,
   "id": "1677bf74",
   "metadata": {},
   "outputs": [
    {
     "name": "stdout",
     "output_type": "stream",
     "text": [
      "16/16 [==============================] - 0s 2ms/step\n"
     ]
    }
   ],
   "source": [
    "y_pred_MLP = model.predict(X_test_flatten)"
   ]
  },
  {
   "cell_type": "code",
   "execution_count": 139,
   "id": "2b57c091",
   "metadata": {},
   "outputs": [
    {
     "data": {
      "text/plain": [
       "(508, 5)"
      ]
     },
     "execution_count": 139,
     "metadata": {},
     "output_type": "execute_result"
    }
   ],
   "source": [
    "y_pred_MLP = y_pred_MLP*scale\n",
    "y_pred_MLP.shape"
   ]
  },
  {
   "cell_type": "code",
   "execution_count": 140,
   "id": "029c336f",
   "metadata": {},
   "outputs": [],
   "source": [
    "y_mlp = y_test[:,0]*scale\n",
    "y_predmlp = y_pred_MLP[:,0]"
   ]
  },
  {
   "cell_type": "code",
   "execution_count": 141,
   "id": "fd5e066c",
   "metadata": {
    "scrolled": false
   },
   "outputs": [
    {
     "data": {
      "image/png": "[encoded data removed]",
      "text/plain": [
       "<Figure size 1400x500 with 1 Axes>"
      ]
     },
     "metadata": {},
     "output_type": "display_data"
    }
   ],
   "source": [
    "plt.figure(figsize=(14,5))\n",
    "plt.plot(y_mlp,color=\"red\",label=\"Real Tesla Stock Price\")\n",
    "plt.plot(y_predmlp,color=\"black\",label=\"Predicted Tesla Stock Price\")\n",
    "plt.title(\"Tesla Stock Price MLP Prediction\")\n",
    "plt.xlabel('Time')\n",
    "plt.ylabel('Tesla Stock Price')\n",
    "plt.legend()\n",
    "plt.show()"
   ]
  },
  {
   "cell_type": "markdown",
   "id": "3c50d1c8",
   "metadata": {},
   "source": [
    "### 14 days"
   ]
  },
  {
   "cell_type": "code",
   "execution_count": 142,
   "id": "14003f99",
   "metadata": {},
   "outputs": [
    {
     "name": "stdout",
     "output_type": "stream",
     "text": [
      "1/1 [==============================] - 0s 27ms/step\n",
      "1/1 [==============================] - 0s 21ms/step\n",
      "1/1 [==============================] - 0s 22ms/step\n",
      "1/1 [==============================] - 0s 25ms/step\n",
      "1/1 [==============================] - 0s 30ms/step\n",
      "1/1 [==============================] - 0s 25ms/step\n",
      "1/1 [==============================] - 0s 32ms/step\n",
      "1/1 [==============================] - 0s 21ms/step\n",
      "1/1 [==============================] - 0s 21ms/step\n",
      "1/1 [==============================] - 0s 24ms/step\n",
      "1/1 [==============================] - 0s 24ms/step\n",
      "1/1 [==============================] - 0s 25ms/step\n",
      "1/1 [==============================] - 0s 25ms/step\n",
      "1/1 [==============================] - 0s 29ms/step\n"
     ]
    },
    {
     "data": {
      "text/plain": [
       "array([[2.34685223e+02, 2.38984748e+02, 2.35284225e+02, 2.36450778e+02,\n",
       "        5.83411721e+06],\n",
       "       [2.29895678e+02, 2.37353440e+02, 2.32817498e+02, 2.33954686e+02,\n",
       "        6.10729232e+06],\n",
       "       [2.30210886e+02, 2.37112246e+02, 2.33290714e+02, 2.32721314e+02,\n",
       "        6.84986782e+06],\n",
       "       [2.24962577e+02, 2.33684827e+02, 2.29287602e+02, 2.30165029e+02,\n",
       "        6.85535213e+06],\n",
       "       [2.26109617e+02, 2.30663600e+02, 2.25616193e+02, 2.28703074e+02,\n",
       "        6.53285683e+06],\n",
       "       [2.21674058e+02, 2.28482031e+02, 2.22550953e+02, 2.25235117e+02,\n",
       "        6.36523226e+06],\n",
       "       [2.19841396e+02, 2.21865536e+02, 2.16493880e+02, 2.20947204e+02,\n",
       "        6.34013083e+06],\n",
       "       [2.19843371e+02, 2.24614547e+02, 2.18871872e+02, 2.19051795e+02,\n",
       "        5.60436007e+06],\n",
       "       [2.19092898e+02, 2.21491805e+02, 2.16202946e+02, 2.19812458e+02,\n",
       "        5.67596915e+06],\n",
       "       [2.15672541e+02, 2.19340963e+02, 2.14270374e+02, 2.15556680e+02,\n",
       "        5.89415595e+06],\n",
       "       [2.16866063e+02, 2.19301506e+02, 2.13957338e+02, 2.15364017e+02,\n",
       "        5.89334945e+06],\n",
       "       [2.15277656e+02, 2.18151750e+02, 2.11908883e+02, 2.15282094e+02,\n",
       "        5.80418837e+06],\n",
       "       [2.10235180e+02, 2.16348711e+02, 2.09042694e+02, 2.13988271e+02,\n",
       "        5.18244552e+06],\n",
       "       [2.11470701e+02, 2.15419855e+02, 2.09381311e+02, 2.13278282e+02,\n",
       "        4.92094451e+06]])"
      ]
     },
     "execution_count": 142,
     "metadata": {},
     "output_type": "execute_result"
    }
   ],
   "source": [
    "last_60 = []\n",
    "for i in range(60):\n",
    "    last_60.append(X_test[507][i].tolist())\n",
    "predict_14_day = []\n",
    "for i in range(14):\n",
    "    tmp = np.array(last_60)\n",
    "    next_day = model.predict(tmp.reshape(1,300))\n",
    "    predict_14_day.append(next_day.reshape(5).tolist())\n",
    "    last_60.append(next_day.reshape(5).tolist())\n",
    "    last_60 = last_60[1:]\n",
    "predict_14_day = predict_14_day/scaler.scale_\n",
    "predict_14_day"
   ]
  },
  {
   "cell_type": "code",
   "execution_count": 143,
   "id": "549062d5",
   "metadata": {},
   "outputs": [
    {
     "data": {
      "application/vnd.plotly.v1+json": {
       "config": {
        "plotlyServerURL": "https://plot.ly"
       },
       "data": [
        {
         "hovertemplate": "variable=last_original_days_value<br>Timestamp=%{x}<br>Stock price=%{y}<extra></extra>",
         "legendgroup": "last_original_days_value",
         "line": {
          "color": "#636efa",
          "dash": "solid"
         },
         "marker": {
          "symbol": "circle"
         },
         "mode": "lines",
         "name": "Test open data",
         "orientation": "v",
         "showlegend": true,
         "type": "scatter",
         "x": [
          0,
          1,
          2,
          3,
          4,
          5,
          6,
          7,
          8,
          9,
          10,
          11,
          12,
          13,
          14,
          15,
          16,
          17,
          18,
          19,
          20,
          21,
          22,
          23,
          24,
          25,
          26,
          27,
          28,
          29,
          30,
          31,
          32,
          33,
          34,
          35,
          36,
          37,
          38,
          39,
          40,
          41,
          42,
          43,
          44,
          45,
          46,
          47,
          48,
          49,
          50,
          51,
          52,
          53,
          54,
          55,
          56,
          57,
          58,
          59,
          60,
          61,
          62,
          63,
          64,
          65,
          66,
          67,
          68,
          69,
          70,
          71,
          72,
          73,
          74
         ],
         "xaxis": "x",
         "y": [
          186.91000396948175,
          192.30999796860004,
          192.0800019686376,
          191.86000096867355,
          198.7400059675502,
          205.38999996646436,
          202.41999896694932,
          200.16000396731832,
          198.72000196755343,
          198.6100009675714,
          210.27999896566595,
          210.78999396558268,
          212.83000196524958,
          215.86000096475485,
          212.93000796523327,
          212.91999896523492,
          213.8600009650814,
          220.55999796398743,
          220.5099949639956,
          231.11000096226488,
          229.32000796255713,
          229.71000696249348,
          233.86000096181584,
          241.1699989606223,
          238.1499939611154,
          235.24000596159055,
          236.38999996140276,
          233.10000596193993,
          236.91000396131787,
          232.1999969620869,
          235.770004961504,
          234.8600009616526,
          242.05000296047862,
          241.21000696061577,
          250.1100009591626,
          253.65000995858458,
          254.59999095842946,
          262.8899999570759,
          263.86000095691753,
          261.4600069573094,
          249.65998895923607,
          259.31001295766043,
          264.1699989568669,
          247.86000095953,
          236.52000496138152,
          232.02999896211466,
          228.05000296276452,
          238.03999396113338,
          233.57000796186318,
          234.60000596169505,
          231.77000496215712,
          235.77999896150237,
          230.8600009623057,
          231.49000596220284,
          230.0700079624347,
          228.68000796266165,
          229.97000196245102,
          240.8600009606729,
          246.25999495979121,
          247.86000095953,
          null,
          234.6852233612093,
          229.8956781414845,
          230.21088649027516,
          224.96257684999074,
          226.1096173769901,
          221.67405844832862,
          219.84139606469452,
          219.84337056759824,
          219.09289761969197,
          215.67254068808282,
          216.86606295556928,
          215.27765629179288,
          210.23518048699415,
          211.47070140230932
         ],
         "yaxis": "y"
        },
        {
         "hovertemplate": "variable=next_predicted_days_value<br>Timestamp=%{x}<br>Stock price=%{y}<extra></extra>",
         "legendgroup": "next_predicted_days_value",
         "line": {
          "color": "#EF553B",
          "dash": "solid"
         },
         "marker": {
          "symbol": "circle"
         },
         "mode": "lines",
         "name": "Predicted next 14 days open price",
         "orientation": "v",
         "showlegend": true,
         "type": "scatter",
         "x": [
          0,
          1,
          2,
          3,
          4,
          5,
          6,
          7,
          8,
          9,
          10,
          11,
          12,
          13,
          14,
          15,
          16,
          17,
          18,
          19,
          20,
          21,
          22,
          23,
          24,
          25,
          26,
          27,
          28,
          29,
          30,
          31,
          32,
          33,
          34,
          35,
          36,
          37,
          38,
          39,
          40,
          41,
          42,
          43,
          44,
          45,
          46,
          47,
          48,
          49,
          50,
          51,
          52,
          53,
          54,
          55,
          56,
          57,
          58,
          59,
          60,
          61,
          62,
          63,
          64,
          65,
          66,
          67,
          68,
          69,
          70,
          71,
          72,
          73,
          74
         ],
         "xaxis": "x",
         "y": [
          186.91000396948175,
          192.30999796860004,
          192.0800019686376,
          191.86000096867355,
          198.7400059675502,
          205.38999996646436,
          202.41999896694932,
          200.16000396731832,
          198.72000196755343,
          198.6100009675714,
          210.27999896566595,
          210.78999396558268,
          212.83000196524958,
          215.86000096475485,
          212.93000796523327,
          212.91999896523492,
          213.8600009650814,
          220.55999796398743,
          220.5099949639956,
          231.11000096226488,
          229.32000796255713,
          229.71000696249348,
          233.86000096181584,
          241.1699989606223,
          238.1499939611154,
          235.24000596159055,
          236.38999996140276,
          233.10000596193993,
          236.91000396131787,
          232.1999969620869,
          235.770004961504,
          234.8600009616526,
          242.05000296047862,
          241.21000696061577,
          250.1100009591626,
          253.65000995858458,
          254.59999095842946,
          262.8899999570759,
          263.86000095691753,
          261.4600069573094,
          249.65998895923607,
          259.31001295766043,
          264.1699989568669,
          247.86000095953,
          236.52000496138152,
          232.02999896211466,
          228.05000296276452,
          238.03999396113338,
          233.57000796186318,
          234.60000596169505,
          231.77000496215712,
          235.77999896150237,
          230.8600009623057,
          231.49000596220284,
          230.0700079624347,
          228.68000796266165,
          229.97000196245102,
          240.8600009606729,
          246.25999495979121,
          247.86000095953,
          null,
          234.6852233612093,
          229.8956781414845,
          230.21088649027516,
          224.96257684999074,
          226.1096173769901,
          221.67405844832862,
          219.84139606469452,
          219.84337056759824,
          219.09289761969197,
          215.67254068808282,
          216.86606295556928,
          215.27765629179288,
          210.23518048699415,
          211.47070140230932
         ],
         "yaxis": "y"
        }
       ],
       "layout": {
        "font": {
         "color": "black",
         "size": 15
        },
        "legend": {
         "title": {
          "text": "Open Price"
         },
         "tracegroupgap": 0
        },
        "margin": {
         "t": 60
        },
        "plot_bgcolor": "white",
        "template": {
         "data": {
          "bar": [
           {
            "error_x": {
             "color": "#2a3f5f"
            },
            "error_y": {
             "color": "#2a3f5f"
            },
            "marker": {
             "line": {
              "color": "#E5ECF6",
              "width": 0.5
             },
             "pattern": {
              "fillmode": "overlay",
              "size": 10,
              "solidity": 0.2
             }
            },
            "type": "bar"
           }
          ],
          "barpolar": [
           {
            "marker": {
             "line": {
              "color": "#E5ECF6",
              "width": 0.5
             },
             "pattern": {
              "fillmode": "overlay",
              "size": 10,
              "solidity": 0.2
             }
            },
            "type": "barpolar"
           }
          ],
          "carpet": [
           {
            "aaxis": {
             "endlinecolor": "#2a3f5f",
             "gridcolor": "white",
             "linecolor": "white",
             "minorgridcolor": "white",
             "startlinecolor": "#2a3f5f"
            },
            "baxis": {
             "endlinecolor": "#2a3f5f",
             "gridcolor": "white",
             "linecolor": "white",
             "minorgridcolor": "white",
             "startlinecolor": "#2a3f5f"
            },
            "type": "carpet"
           }
          ],
          "choropleth": [
           {
            "colorbar": {
             "outlinewidth": 0,
             "ticks": ""
            },
            "type": "choropleth"
           }
          ],
          "contour": [
           {
            "colorbar": {
             "outlinewidth": 0,
             "ticks": ""
            },
            "colorscale": [
             [
              0,
              "#0d0887"
             ],
             [
              0.1111111111111111,
              "#46039f"
             ],
             [
              0.2222222222222222,
              "#7201a8"
             ],
             [
              0.3333333333333333,
              "#9c179e"
             ],
             [
              0.4444444444444444,
              "#bd3786"
             ],
             [
              0.5555555555555556,
              "#d8576b"
             ],
             [
              0.6666666666666666,
              "#ed7953"
             ],
             [
              0.7777777777777778,
              "#fb9f3a"
             ],
             [
              0.8888888888888888,
              "#fdca26"
             ],
             [
              1,
              "#f0f921"
             ]
            ],
            "type": "contour"
           }
          ],
          "contourcarpet": [
           {
            "colorbar": {
             "outlinewidth": 0,
             "ticks": ""
            },
            "type": "contourcarpet"
           }
          ],
          "heatmap": [
           {
            "colorbar": {
             "outlinewidth": 0,
             "ticks": ""
            },
            "colorscale": [
             [
              0,
              "#0d0887"
             ],
             [
              0.1111111111111111,
              "#46039f"
             ],
             [
              0.2222222222222222,
              "#7201a8"
             ],
             [
              0.3333333333333333,
              "#9c179e"
             ],
             [
              0.4444444444444444,
              "#bd3786"
             ],
             [
              0.5555555555555556,
              "#d8576b"
             ],
             [
              0.6666666666666666,
              "#ed7953"
             ],
             [
              0.7777777777777778,
              "#fb9f3a"
             ],
             [
              0.8888888888888888,
              "#fdca26"
             ],
             [
              1,
              "#f0f921"
             ]
            ],
            "type": "heatmap"
           }
          ],
          "heatmapgl": [
           {
            "colorbar": {
             "outlinewidth": 0,
             "ticks": ""
            },
            "colorscale": [
             [
              0,
              "#0d0887"
             ],
             [
              0.1111111111111111,
              "#46039f"
             ],
             [
              0.2222222222222222,
              "#7201a8"
             ],
             [
              0.3333333333333333,
              "#9c179e"
             ],
             [
              0.4444444444444444,
              "#bd3786"
             ],
             [
              0.5555555555555556,
              "#d8576b"
             ],
             [
              0.6666666666666666,
              "#ed7953"
             ],
             [
              0.7777777777777778,
              "#fb9f3a"
             ],
             [
              0.8888888888888888,
              "#fdca26"
             ],
             [
              1,
              "#f0f921"
             ]
            ],
            "type": "heatmapgl"
           }
          ],
          "histogram": [
           {
            "marker": {
             "pattern": {
              "fillmode": "overlay",
              "size": 10,
              "solidity": 0.2
             }
            },
            "type": "histogram"
           }
          ],
          "histogram2d": [
           {
            "colorbar": {
             "outlinewidth": 0,
             "ticks": ""
            },
            "colorscale": [
             [
              0,
              "#0d0887"
             ],
             [
              0.1111111111111111,
              "#46039f"
             ],
             [
              0.2222222222222222,
              "#7201a8"
             ],
             [
              0.3333333333333333,
              "#9c179e"
             ],
             [
              0.4444444444444444,
              "#bd3786"
             ],
             [
              0.5555555555555556,
              "#d8576b"
             ],
             [
              0.6666666666666666,
              "#ed7953"
             ],
             [
              0.7777777777777778,
              "#fb9f3a"
             ],
             [
              0.8888888888888888,
              "#fdca26"
             ],
             [
              1,
              "#f0f921"
             ]
            ],
            "type": "histogram2d"
           }
          ],
          "histogram2dcontour": [
           {
            "colorbar": {
             "outlinewidth": 0,
             "ticks": ""
            },
            "colorscale": [
             [
              0,
              "#0d0887"
             ],
             [
              0.1111111111111111,
              "#46039f"
             ],
             [
              0.2222222222222222,
              "#7201a8"
             ],
             [
              0.3333333333333333,
              "#9c179e"
             ],
             [
              0.4444444444444444,
              "#bd3786"
             ],
             [
              0.5555555555555556,
              "#d8576b"
             ],
             [
              0.6666666666666666,
              "#ed7953"
             ],
             [
              0.7777777777777778,
              "#fb9f3a"
             ],
             [
              0.8888888888888888,
              "#fdca26"
             ],
             [
              1,
              "#f0f921"
             ]
            ],
            "type": "histogram2dcontour"
           }
          ],
          "mesh3d": [
           {
            "colorbar": {
             "outlinewidth": 0,
             "ticks": ""
            },
            "type": "mesh3d"
           }
          ],
          "parcoords": [
           {
            "line": {
             "colorbar": {
              "outlinewidth": 0,
              "ticks": ""
             }
            },
            "type": "parcoords"
           }
          ],
          "pie": [
           {
            "automargin": true,
            "type": "pie"
           }
          ],
          "scatter": [
           {
            "fillpattern": {
             "fillmode": "overlay",
             "size": 10,
             "solidity": 0.2
            },
            "type": "scatter"
           }
          ],
          "scatter3d": [
           {
            "line": {
             "colorbar": {
              "outlinewidth": 0,
              "ticks": ""
             }
            },
            "marker": {
             "colorbar": {
              "outlinewidth": 0,
              "ticks": ""
             }
            },
            "type": "scatter3d"
           }
          ],
          "scattercarpet": [
           {
            "marker": {
             "colorbar": {
              "outlinewidth": 0,
              "ticks": ""
             }
            },
            "type": "scattercarpet"
           }
          ],
          "scattergeo": [
           {
            "marker": {
             "colorbar": {
              "outlinewidth": 0,
              "ticks": ""
             }
            },
            "type": "scattergeo"
           }
          ],
          "scattergl": [
           {
            "marker": {
             "colorbar": {
              "outlinewidth": 0,
              "ticks": ""
             }
            },
            "type": "scattergl"
           }
          ],
          "scattermapbox": [
           {
            "marker": {
             "colorbar": {
              "outlinewidth": 0,
              "ticks": ""
             }
            },
            "type": "scattermapbox"
           }
          ],
          "scatterpolar": [
           {
            "marker": {
             "colorbar": {
              "outlinewidth": 0,
              "ticks": ""
             }
            },
            "type": "scatterpolar"
           }
          ],
          "scatterpolargl": [
           {
            "marker": {
             "colorbar": {
              "outlinewidth": 0,
              "ticks": ""
             }
            },
            "type": "scatterpolargl"
           }
          ],
          "scatterternary": [
           {
            "marker": {
             "colorbar": {
              "outlinewidth": 0,
              "ticks": ""
             }
            },
            "type": "scatterternary"
           }
          ],
          "surface": [
           {
            "colorbar": {
             "outlinewidth": 0,
             "ticks": ""
            },
            "colorscale": [
             [
              0,
              "#0d0887"
             ],
             [
              0.1111111111111111,
              "#46039f"
             ],
             [
              0.2222222222222222,
              "#7201a8"
             ],
             [
              0.3333333333333333,
              "#9c179e"
             ],
             [
              0.4444444444444444,
              "#bd3786"
             ],
             [
              0.5555555555555556,
              "#d8576b"
             ],
             [
              0.6666666666666666,
              "#ed7953"
             ],
             [
              0.7777777777777778,
              "#fb9f3a"
             ],
             [
              0.8888888888888888,
              "#fdca26"
             ],
             [
              1,
              "#f0f921"
             ]
            ],
            "type": "surface"
           }
          ],
          "table": [
           {
            "cells": {
             "fill": {
              "color": "#EBF0F8"
             },
             "line": {
              "color": "white"
             }
            },
            "header": {
             "fill": {
              "color": "#C8D4E3"
             },
             "line": {
              "color": "white"
             }
            },
            "type": "table"
           }
          ]
         },
         "layout": {
          "annotationdefaults": {
           "arrowcolor": "#2a3f5f",
           "arrowhead": 0,
           "arrowwidth": 1
          },
          "autotypenumbers": "strict",
          "coloraxis": {
           "colorbar": {
            "outlinewidth": 0,
            "ticks": ""
           }
          },
          "colorscale": {
           "diverging": [
            [
             0,
             "#8e0152"
            ],
            [
             0.1,
             "#c51b7d"
            ],
            [
             0.2,
             "#de77ae"
            ],
            [
             0.3,
             "#f1b6da"
            ],
            [
             0.4,
             "#fde0ef"
            ],
            [
             0.5,
             "#f7f7f7"
            ],
            [
             0.6,
             "#e6f5d0"
            ],
            [
             0.7,
             "#b8e186"
            ],
            [
             0.8,
             "#7fbc41"
            ],
            [
             0.9,
             "#4d9221"
            ],
            [
             1,
             "#276419"
            ]
           ],
           "sequential": [
            [
             0,
             "#0d0887"
            ],
            [
             0.1111111111111111,
             "#46039f"
            ],
            [
             0.2222222222222222,
             "#7201a8"
            ],
            [
             0.3333333333333333,
             "#9c179e"
            ],
            [
             0.4444444444444444,
             "#bd3786"
            ],
            [
             0.5555555555555556,
             "#d8576b"
            ],
            [
             0.6666666666666666,
             "#ed7953"
            ],
            [
             0.7777777777777778,
             "#fb9f3a"
            ],
            [
             0.8888888888888888,
             "#fdca26"
            ],
            [
             1,
             "#f0f921"
            ]
           ],
           "sequentialminus": [
            [
             0,
             "#0d0887"
            ],
            [
             0.1111111111111111,
             "#46039f"
            ],
            [
             0.2222222222222222,
             "#7201a8"
            ],
            [
             0.3333333333333333,
             "#9c179e"
            ],
            [
             0.4444444444444444,
             "#bd3786"
            ],
            [
             0.5555555555555556,
             "#d8576b"
            ],
            [
             0.6666666666666666,
             "#ed7953"
            ],
            [
             0.7777777777777778,
             "#fb9f3a"
            ],
            [
             0.8888888888888888,
             "#fdca26"
            ],
            [
             1,
             "#f0f921"
            ]
           ]
          },
          "colorway": [
           "#636efa",
           "#EF553B",
           "#00cc96",
           "#ab63fa",
           "#FFA15A",
           "#19d3f3",
           "#FF6692",
           "#B6E880",
           "#FF97FF",
           "#FECB52"
          ],
          "font": {
           "color": "#2a3f5f"
          },
          "geo": {
           "bgcolor": "white",
           "lakecolor": "white",
           "landcolor": "#E5ECF6",
           "showlakes": true,
           "showland": true,
           "subunitcolor": "white"
          },
          "hoverlabel": {
           "align": "left"
          },
          "hovermode": "closest",
          "mapbox": {
           "style": "light"
          },
          "paper_bgcolor": "white",
          "plot_bgcolor": "#E5ECF6",
          "polar": {
           "angularaxis": {
            "gridcolor": "white",
            "linecolor": "white",
            "ticks": ""
           },
           "bgcolor": "#E5ECF6",
           "radialaxis": {
            "gridcolor": "white",
            "linecolor": "white",
            "ticks": ""
           }
          },
          "scene": {
           "xaxis": {
            "backgroundcolor": "#E5ECF6",
            "gridcolor": "white",
            "gridwidth": 2,
            "linecolor": "white",
            "showbackground": true,
            "ticks": "",
            "zerolinecolor": "white"
           },
           "yaxis": {
            "backgroundcolor": "#E5ECF6",
            "gridcolor": "white",
            "gridwidth": 2,
            "linecolor": "white",
            "showbackground": true,
            "ticks": "",
            "zerolinecolor": "white"
           },
           "zaxis": {
            "backgroundcolor": "#E5ECF6",
            "gridcolor": "white",
            "gridwidth": 2,
            "linecolor": "white",
            "showbackground": true,
            "ticks": "",
            "zerolinecolor": "white"
           }
          },
          "shapedefaults": {
           "line": {
            "color": "#2a3f5f"
           }
          },
          "ternary": {
           "aaxis": {
            "gridcolor": "white",
            "linecolor": "white",
            "ticks": ""
           },
           "baxis": {
            "gridcolor": "white",
            "linecolor": "white",
            "ticks": ""
           },
           "bgcolor": "#E5ECF6",
           "caxis": {
            "gridcolor": "white",
            "linecolor": "white",
            "ticks": ""
           }
          },
          "title": {
           "x": 0.05
          },
          "xaxis": {
           "automargin": true,
           "gridcolor": "white",
           "linecolor": "white",
           "ticks": "",
           "title": {
            "standoff": 15
           },
           "zerolinecolor": "white",
           "zerolinewidth": 2
          },
          "yaxis": {
           "automargin": true,
           "gridcolor": "white",
           "linecolor": "white",
           "ticks": "",
           "title": {
            "standoff": 15
           },
           "zerolinecolor": "white",
           "zerolinewidth": 2
          }
         }
        },
        "title": {
         "text": "next 14 days"
        },
        "xaxis": {
         "anchor": "y",
         "domain": [
          0,
          1
         ],
         "showgrid": false,
         "title": {
          "text": "Timestamp"
         }
        },
        "yaxis": {
         "anchor": "x",
         "domain": [
          0,
          1
         ],
         "showgrid": false,
         "title": {
          "text": "Stock price"
         }
        }
       }
      },
      "text/html": [
       "<div>                            <div id=\"9335509a-95f2-4686-89fd-2931417f70b2\" class=\"plotly-graph-div\" style=\"height:525px; width:100%;\"></div>            <script type=\"text/javascript\">                require([\"plotly\"], function(Plotly) {                    window.PLOTLYENV=window.PLOTLYENV || {};                                    if (document.getElementById(\"9335509a-95f2-4686-89fd-2931417f70b2\")) {                    Plotly.newPlot(                        \"9335509a-95f2-4686-89fd-2931417f70b2\",                        [{\"hovertemplate\":\"variable=last_original_days_value<br>Timestamp=%{x}<br>Stock price=%{y}<extra></extra>\",\"legendgroup\":\"last_original_days_value\",\"line\":{\"color\":\"#636efa\",\"dash\":\"solid\"},\"marker\":{\"symbol\":\"circle\"},\"mode\":\"lines\",\"name\":\"Test open data\",\"orientation\":\"v\",\"showlegend\":true,\"x\":[0,1,2,3,4,5,6,7,8,9,10,11,12,13,14,15,16,17,18,19,20,21,22,23,24,25,26,27,28,29,30,31,32,33,34,35,36,37,38,39,40,41,42,43,44,45,46,47,48,49,50,51,52,53,54,55,56,57,58,59,60,61,62,63,64,65,66,67,68,69,70,71,72,73,74],\"xaxis\":\"x\",\"y\":[186.91000396948175,192.30999796860004,192.0800019686376,191.86000096867355,198.7400059675502,205.38999996646436,202.41999896694932,200.16000396731832,198.72000196755343,198.6100009675714,210.27999896566595,210.78999396558268,212.83000196524958,215.86000096475485,212.93000796523327,212.91999896523492,213.8600009650814,220.55999796398743,220.5099949639956,231.11000096226488,229.32000796255713,229.71000696249348,233.86000096181584,241.1699989606223,238.1499939611154,235.24000596159055,236.38999996140276,233.10000596193993,236.91000396131787,232.1999969620869,235.770004961504,234.8600009616526,242.05000296047862,241.21000696061577,250.1100009591626,253.65000995858458,254.59999095842946,262.8899999570759,263.86000095691753,261.4600069573094,249.65998895923607,259.31001295766043,264.1699989568669,247.86000095953,236.52000496138152,232.02999896211466,228.05000296276452,238.03999396113338,233.57000796186318,234.60000596169505,231.77000496215712,235.77999896150237,230.8600009623057,231.49000596220284,230.0700079624347,228.68000796266165,229.97000196245102,240.8600009606729,246.25999495979121,247.86000095953,null,234.6852233612093,229.8956781414845,230.21088649027516,224.96257684999074,226.1096173769901,221.67405844832862,219.84139606469452,219.84337056759824,219.09289761969197,215.67254068808282,216.86606295556928,215.27765629179288,210.23518048699415,211.47070140230932],\"yaxis\":\"y\",\"type\":\"scatter\"},{\"hovertemplate\":\"variable=next_predicted_days_value<br>Timestamp=%{x}<br>Stock price=%{y}<extra></extra>\",\"legendgroup\":\"next_predicted_days_value\",\"line\":{\"color\":\"#EF553B\",\"dash\":\"solid\"},\"marker\":{\"symbol\":\"circle\"},\"mode\":\"lines\",\"name\":\"Predicted next 14 days open price\",\"orientation\":\"v\",\"showlegend\":true,\"x\":[0,1,2,3,4,5,6,7,8,9,10,11,12,13,14,15,16,17,18,19,20,21,22,23,24,25,26,27,28,29,30,31,32,33,34,35,36,37,38,39,40,41,42,43,44,45,46,47,48,49,50,51,52,53,54,55,56,57,58,59,60,61,62,63,64,65,66,67,68,69,70,71,72,73,74],\"xaxis\":\"x\",\"y\":[186.91000396948175,192.30999796860004,192.0800019686376,191.86000096867355,198.7400059675502,205.38999996646436,202.41999896694932,200.16000396731832,198.72000196755343,198.6100009675714,210.27999896566595,210.78999396558268,212.83000196524958,215.86000096475485,212.93000796523327,212.91999896523492,213.8600009650814,220.55999796398743,220.5099949639956,231.11000096226488,229.32000796255713,229.71000696249348,233.86000096181584,241.1699989606223,238.1499939611154,235.24000596159055,236.38999996140276,233.10000596193993,236.91000396131787,232.1999969620869,235.770004961504,234.8600009616526,242.05000296047862,241.21000696061577,250.1100009591626,253.65000995858458,254.59999095842946,262.8899999570759,263.86000095691753,261.4600069573094,249.65998895923607,259.31001295766043,264.1699989568669,247.86000095953,236.52000496138152,232.02999896211466,228.05000296276452,238.03999396113338,233.57000796186318,234.60000596169505,231.77000496215712,235.77999896150237,230.8600009623057,231.49000596220284,230.0700079624347,228.68000796266165,229.97000196245102,240.8600009606729,246.25999495979121,247.86000095953,null,234.6852233612093,229.8956781414845,230.21088649027516,224.96257684999074,226.1096173769901,221.67405844832862,219.84139606469452,219.84337056759824,219.09289761969197,215.67254068808282,216.86606295556928,215.27765629179288,210.23518048699415,211.47070140230932],\"yaxis\":\"y\",\"type\":\"scatter\"}],                        {\"template\":{\"data\":{\"histogram2dcontour\":[{\"type\":\"histogram2dcontour\",\"colorbar\":{\"outlinewidth\":0,\"ticks\":\"\"},\"colorscale\":[[0.0,\"#0d0887\"],[0.1111111111111111,\"#46039f\"],[0.2222222222222222,\"#7201a8\"],[0.3333333333333333,\"#9c179e\"],[0.4444444444444444,\"#bd3786\"],[0.5555555555555556,\"#d8576b\"],[0.6666666666666666,\"#ed7953\"],[0.7777777777777778,\"#fb9f3a\"],[0.8888888888888888,\"#fdca26\"],[1.0,\"#f0f921\"]]}],\"choropleth\":[{\"type\":\"choropleth\",\"colorbar\":{\"outlinewidth\":0,\"ticks\":\"\"}}],\"histogram2d\":[{\"type\":\"histogram2d\",\"colorbar\":{\"outlinewidth\":0,\"ticks\":\"\"},\"colorscale\":[[0.0,\"#0d0887\"],[0.1111111111111111,\"#46039f\"],[0.2222222222222222,\"#7201a8\"],[0.3333333333333333,\"#9c179e\"],[0.4444444444444444,\"#bd3786\"],[0.5555555555555556,\"#d8576b\"],[0.6666666666666666,\"#ed7953\"],[0.7777777777777778,\"#fb9f3a\"],[0.8888888888888888,\"#fdca26\"],[1.0,\"#f0f921\"]]}],\"heatmap\":[{\"type\":\"heatmap\",\"colorbar\":{\"outlinewidth\":0,\"ticks\":\"\"},\"colorscale\":[[0.0,\"#0d0887\"],[0.1111111111111111,\"#46039f\"],[0.2222222222222222,\"#7201a8\"],[0.3333333333333333,\"#9c179e\"],[0.4444444444444444,\"#bd3786\"],[0.5555555555555556,\"#d8576b\"],[0.6666666666666666,\"#ed7953\"],[0.7777777777777778,\"#fb9f3a\"],[0.8888888888888888,\"#fdca26\"],[1.0,\"#f0f921\"]]}],\"heatmapgl\":[{\"type\":\"heatmapgl\",\"colorbar\":{\"outlinewidth\":0,\"ticks\":\"\"},\"colorscale\":[[0.0,\"#0d0887\"],[0.1111111111111111,\"#46039f\"],[0.2222222222222222,\"#7201a8\"],[0.3333333333333333,\"#9c179e\"],[0.4444444444444444,\"#bd3786\"],[0.5555555555555556,\"#d8576b\"],[0.6666666666666666,\"#ed7953\"],[0.7777777777777778,\"#fb9f3a\"],[0.8888888888888888,\"#fdca26\"],[1.0,\"#f0f921\"]]}],\"contourcarpet\":[{\"type\":\"contourcarpet\",\"colorbar\":{\"outlinewidth\":0,\"ticks\":\"\"}}],\"contour\":[{\"type\":\"contour\",\"colorbar\":{\"outlinewidth\":0,\"ticks\":\"\"},\"colorscale\":[[0.0,\"#0d0887\"],[0.1111111111111111,\"#46039f\"],[0.2222222222222222,\"#7201a8\"],[0.3333333333333333,\"#9c179e\"],[0.4444444444444444,\"#bd3786\"],[0.5555555555555556,\"#d8576b\"],[0.6666666666666666,\"#ed7953\"],[0.7777777777777778,\"#fb9f3a\"],[0.8888888888888888,\"#fdca26\"],[1.0,\"#f0f921\"]]}],\"surface\":[{\"type\":\"surface\",\"colorbar\":{\"outlinewidth\":0,\"ticks\":\"\"},\"colorscale\":[[0.0,\"#0d0887\"],[0.1111111111111111,\"#46039f\"],[0.2222222222222222,\"#7201a8\"],[0.3333333333333333,\"#9c179e\"],[0.4444444444444444,\"#bd3786\"],[0.5555555555555556,\"#d8576b\"],[0.6666666666666666,\"#ed7953\"],[0.7777777777777778,\"#fb9f3a\"],[0.8888888888888888,\"#fdca26\"],[1.0,\"#f0f921\"]]}],\"mesh3d\":[{\"type\":\"mesh3d\",\"colorbar\":{\"outlinewidth\":0,\"ticks\":\"\"}}],\"scatter\":[{\"fillpattern\":{\"fillmode\":\"overlay\",\"size\":10,\"solidity\":0.2},\"type\":\"scatter\"}],\"parcoords\":[{\"type\":\"parcoords\",\"line\":{\"colorbar\":{\"outlinewidth\":0,\"ticks\":\"\"}}}],\"scatterpolargl\":[{\"type\":\"scatterpolargl\",\"marker\":{\"colorbar\":{\"outlinewidth\":0,\"ticks\":\"\"}}}],\"bar\":[{\"error_x\":{\"color\":\"#2a3f5f\"},\"error_y\":{\"color\":\"#2a3f5f\"},\"marker\":{\"line\":{\"color\":\"#E5ECF6\",\"width\":0.5},\"pattern\":{\"fillmode\":\"overlay\",\"size\":10,\"solidity\":0.2}},\"type\":\"bar\"}],\"scattergeo\":[{\"type\":\"scattergeo\",\"marker\":{\"colorbar\":{\"outlinewidth\":0,\"ticks\":\"\"}}}],\"scatterpolar\":[{\"type\":\"scatterpolar\",\"marker\":{\"colorbar\":{\"outlinewidth\":0,\"ticks\":\"\"}}}],\"histogram\":[{\"marker\":{\"pattern\":{\"fillmode\":\"overlay\",\"size\":10,\"solidity\":0.2}},\"type\":\"histogram\"}],\"scattergl\":[{\"type\":\"scattergl\",\"marker\":{\"colorbar\":{\"outlinewidth\":0,\"ticks\":\"\"}}}],\"scatter3d\":[{\"type\":\"scatter3d\",\"line\":{\"colorbar\":{\"outlinewidth\":0,\"ticks\":\"\"}},\"marker\":{\"colorbar\":{\"outlinewidth\":0,\"ticks\":\"\"}}}],\"scattermapbox\":[{\"type\":\"scattermapbox\",\"marker\":{\"colorbar\":{\"outlinewidth\":0,\"ticks\":\"\"}}}],\"scatterternary\":[{\"type\":\"scatterternary\",\"marker\":{\"colorbar\":{\"outlinewidth\":0,\"ticks\":\"\"}}}],\"scattercarpet\":[{\"type\":\"scattercarpet\",\"marker\":{\"colorbar\":{\"outlinewidth\":0,\"ticks\":\"\"}}}],\"carpet\":[{\"aaxis\":{\"endlinecolor\":\"#2a3f5f\",\"gridcolor\":\"white\",\"linecolor\":\"white\",\"minorgridcolor\":\"white\",\"startlinecolor\":\"#2a3f5f\"},\"baxis\":{\"endlinecolor\":\"#2a3f5f\",\"gridcolor\":\"white\",\"linecolor\":\"white\",\"minorgridcolor\":\"white\",\"startlinecolor\":\"#2a3f5f\"},\"type\":\"carpet\"}],\"table\":[{\"cells\":{\"fill\":{\"color\":\"#EBF0F8\"},\"line\":{\"color\":\"white\"}},\"header\":{\"fill\":{\"color\":\"#C8D4E3\"},\"line\":{\"color\":\"white\"}},\"type\":\"table\"}],\"barpolar\":[{\"marker\":{\"line\":{\"color\":\"#E5ECF6\",\"width\":0.5},\"pattern\":{\"fillmode\":\"overlay\",\"size\":10,\"solidity\":0.2}},\"type\":\"barpolar\"}],\"pie\":[{\"automargin\":true,\"type\":\"pie\"}]},\"layout\":{\"autotypenumbers\":\"strict\",\"colorway\":[\"#636efa\",\"#EF553B\",\"#00cc96\",\"#ab63fa\",\"#FFA15A\",\"#19d3f3\",\"#FF6692\",\"#B6E880\",\"#FF97FF\",\"#FECB52\"],\"font\":{\"color\":\"#2a3f5f\"},\"hovermode\":\"closest\",\"hoverlabel\":{\"align\":\"left\"},\"paper_bgcolor\":\"white\",\"plot_bgcolor\":\"#E5ECF6\",\"polar\":{\"bgcolor\":\"#E5ECF6\",\"angularaxis\":{\"gridcolor\":\"white\",\"linecolor\":\"white\",\"ticks\":\"\"},\"radialaxis\":{\"gridcolor\":\"white\",\"linecolor\":\"white\",\"ticks\":\"\"}},\"ternary\":{\"bgcolor\":\"#E5ECF6\",\"aaxis\":{\"gridcolor\":\"white\",\"linecolor\":\"white\",\"ticks\":\"\"},\"baxis\":{\"gridcolor\":\"white\",\"linecolor\":\"white\",\"ticks\":\"\"},\"caxis\":{\"gridcolor\":\"white\",\"linecolor\":\"white\",\"ticks\":\"\"}},\"coloraxis\":{\"colorbar\":{\"outlinewidth\":0,\"ticks\":\"\"}},\"colorscale\":{\"sequential\":[[0.0,\"#0d0887\"],[0.1111111111111111,\"#46039f\"],[0.2222222222222222,\"#7201a8\"],[0.3333333333333333,\"#9c179e\"],[0.4444444444444444,\"#bd3786\"],[0.5555555555555556,\"#d8576b\"],[0.6666666666666666,\"#ed7953\"],[0.7777777777777778,\"#fb9f3a\"],[0.8888888888888888,\"#fdca26\"],[1.0,\"#f0f921\"]],\"sequentialminus\":[[0.0,\"#0d0887\"],[0.1111111111111111,\"#46039f\"],[0.2222222222222222,\"#7201a8\"],[0.3333333333333333,\"#9c179e\"],[0.4444444444444444,\"#bd3786\"],[0.5555555555555556,\"#d8576b\"],[0.6666666666666666,\"#ed7953\"],[0.7777777777777778,\"#fb9f3a\"],[0.8888888888888888,\"#fdca26\"],[1.0,\"#f0f921\"]],\"diverging\":[[0,\"#8e0152\"],[0.1,\"#c51b7d\"],[0.2,\"#de77ae\"],[0.3,\"#f1b6da\"],[0.4,\"#fde0ef\"],[0.5,\"#f7f7f7\"],[0.6,\"#e6f5d0\"],[0.7,\"#b8e186\"],[0.8,\"#7fbc41\"],[0.9,\"#4d9221\"],[1,\"#276419\"]]},\"xaxis\":{\"gridcolor\":\"white\",\"linecolor\":\"white\",\"ticks\":\"\",\"title\":{\"standoff\":15},\"zerolinecolor\":\"white\",\"automargin\":true,\"zerolinewidth\":2},\"yaxis\":{\"gridcolor\":\"white\",\"linecolor\":\"white\",\"ticks\":\"\",\"title\":{\"standoff\":15},\"zerolinecolor\":\"white\",\"automargin\":true,\"zerolinewidth\":2},\"scene\":{\"xaxis\":{\"backgroundcolor\":\"#E5ECF6\",\"gridcolor\":\"white\",\"linecolor\":\"white\",\"showbackground\":true,\"ticks\":\"\",\"zerolinecolor\":\"white\",\"gridwidth\":2},\"yaxis\":{\"backgroundcolor\":\"#E5ECF6\",\"gridcolor\":\"white\",\"linecolor\":\"white\",\"showbackground\":true,\"ticks\":\"\",\"zerolinecolor\":\"white\",\"gridwidth\":2},\"zaxis\":{\"backgroundcolor\":\"#E5ECF6\",\"gridcolor\":\"white\",\"linecolor\":\"white\",\"showbackground\":true,\"ticks\":\"\",\"zerolinecolor\":\"white\",\"gridwidth\":2}},\"shapedefaults\":{\"line\":{\"color\":\"#2a3f5f\"}},\"annotationdefaults\":{\"arrowcolor\":\"#2a3f5f\",\"arrowhead\":0,\"arrowwidth\":1},\"geo\":{\"bgcolor\":\"white\",\"landcolor\":\"#E5ECF6\",\"subunitcolor\":\"white\",\"showland\":true,\"showlakes\":true,\"lakecolor\":\"white\"},\"title\":{\"x\":0.05},\"mapbox\":{\"style\":\"light\"}}},\"xaxis\":{\"anchor\":\"y\",\"domain\":[0.0,1.0],\"title\":{\"text\":\"Timestamp\"},\"showgrid\":false},\"yaxis\":{\"anchor\":\"x\",\"domain\":[0.0,1.0],\"title\":{\"text\":\"Stock price\"},\"showgrid\":false},\"legend\":{\"title\":{\"text\":\"Open Price\"},\"tracegroupgap\":0},\"margin\":{\"t\":60},\"title\":{\"text\":\"next 14 days\"},\"font\":{\"size\":15,\"color\":\"black\"},\"plot_bgcolor\":\"white\"},                        {\"responsive\": true}                    ).then(function(){\n",
       "                            \n",
       "var gd = document.getElementById('9335509a-95f2-4686-89fd-2931417f70b2');\n",
       "var x = new MutationObserver(function (mutations, observer) {{\n",
       "        var display = window.getComputedStyle(gd).display;\n",
       "        if (!display || display === 'none') {{\n",
       "            console.log([gd, 'removed!']);\n",
       "            Plotly.purge(gd);\n",
       "            observer.disconnect();\n",
       "        }}\n",
       "}});\n",
       "\n",
       "// Listen for the removal of the full notebook cells\n",
       "var notebookContainer = gd.closest('#notebook-container');\n",
       "if (notebookContainer) {{\n",
       "    x.observe(notebookContainer, {childList: true});\n",
       "}}\n",
       "\n",
       "// Listen for the clearing of the current output cell\n",
       "var outputEl = gd.closest('.output');\n",
       "if (outputEl) {{\n",
       "    x.observe(outputEl, {childList: true});\n",
       "}}\n",
       "\n",
       "                        })                };                });            </script>        </div>"
      ]
     },
     "metadata": {},
     "output_type": "display_data"
    }
   ],
   "source": [
    "plot14nextday(y_mlp,predict_14_day)"
   ]
  },
  {
   "cell_type": "markdown",
   "id": "db31cc25",
   "metadata": {},
   "source": [
    "### 7 weeks"
   ]
  },
  {
   "cell_type": "code",
   "execution_count": 144,
   "id": "5491aa3e",
   "metadata": {},
   "outputs": [
    {
     "name": "stdout",
     "output_type": "stream",
     "text": [
      "1/1 [==============================] - 0s 27ms/step\n",
      "1/1 [==============================] - 0s 21ms/step\n",
      "1/1 [==============================] - 0s 21ms/step\n",
      "1/1 [==============================] - 0s 26ms/step\n",
      "1/1 [==============================] - 0s 28ms/step\n",
      "1/1 [==============================] - 0s 22ms/step\n",
      "1/1 [==============================] - 0s 29ms/step\n",
      "1/1 [==============================] - 0s 29ms/step\n",
      "1/1 [==============================] - 0s 25ms/step\n",
      "1/1 [==============================] - 0s 26ms/step\n",
      "1/1 [==============================] - 0s 29ms/step\n",
      "1/1 [==============================] - 0s 31ms/step\n",
      "1/1 [==============================] - 0s 31ms/step\n",
      "1/1 [==============================] - 0s 29ms/step\n",
      "1/1 [==============================] - 0s 25ms/step\n",
      "1/1 [==============================] - 0s 27ms/step\n",
      "1/1 [==============================] - 0s 27ms/step\n",
      "1/1 [==============================] - 0s 26ms/step\n",
      "1/1 [==============================] - 0s 22ms/step\n",
      "1/1 [==============================] - 0s 23ms/step\n",
      "1/1 [==============================] - 0s 23ms/step\n",
      "1/1 [==============================] - 0s 24ms/step\n",
      "1/1 [==============================] - 0s 25ms/step\n",
      "1/1 [==============================] - 0s 26ms/step\n",
      "1/1 [==============================] - 0s 22ms/step\n",
      "1/1 [==============================] - 0s 23ms/step\n",
      "1/1 [==============================] - 0s 22ms/step\n",
      "1/1 [==============================] - 0s 24ms/step\n",
      "1/1 [==============================] - 0s 28ms/step\n",
      "1/1 [==============================] - 0s 23ms/step\n",
      "1/1 [==============================] - 0s 22ms/step\n",
      "1/1 [==============================] - 0s 28ms/step\n",
      "1/1 [==============================] - 0s 31ms/step\n",
      "1/1 [==============================] - 0s 23ms/step\n",
      "1/1 [==============================] - 0s 24ms/step\n",
      "1/1 [==============================] - 0s 23ms/step\n",
      "1/1 [==============================] - 0s 22ms/step\n",
      "1/1 [==============================] - 0s 23ms/step\n",
      "1/1 [==============================] - 0s 25ms/step\n",
      "1/1 [==============================] - 0s 23ms/step\n",
      "1/1 [==============================] - 0s 22ms/step\n",
      "1/1 [==============================] - 0s 23ms/step\n",
      "1/1 [==============================] - 0s 29ms/step\n",
      "1/1 [==============================] - 0s 22ms/step\n",
      "1/1 [==============================] - 0s 26ms/step\n",
      "1/1 [==============================] - 0s 27ms/step\n",
      "1/1 [==============================] - 0s 23ms/step\n",
      "1/1 [==============================] - 0s 27ms/step\n",
      "1/1 [==============================] - 0s 26ms/step\n"
     ]
    },
    {
     "data": {
      "text/plain": [
       "array([[2.19841396e+02, 2.21865536e+02, 2.16493880e+02, 2.20947204e+02,\n",
       "        6.34013083e+06],\n",
       "       [2.11470701e+02, 2.15419855e+02, 2.09381311e+02, 2.13278282e+02,\n",
       "        4.92094451e+06],\n",
       "       [2.02600749e+02, 2.06590605e+02, 2.03351559e+02, 2.02557783e+02,\n",
       "        2.81893383e+06],\n",
       "       [1.91107006e+02, 1.94312136e+02, 1.91379638e+02, 1.91528630e+02,\n",
       "        4.83647835e+06],\n",
       "       [1.90150569e+02, 1.96119286e+02, 1.92046066e+02, 1.92148256e+02,\n",
       "        3.01447182e+06],\n",
       "       [1.78682656e+02, 1.84224506e+02, 1.79683985e+02, 1.79207362e+02,\n",
       "        2.75542647e+06],\n",
       "       [1.71160140e+02, 1.75247520e+02, 1.72108942e+02, 1.71301820e+02,\n",
       "        3.09487263e+06]])"
      ]
     },
     "execution_count": 144,
     "metadata": {},
     "output_type": "execute_result"
    }
   ],
   "source": [
    "last_60 = []\n",
    "for i in range(60):\n",
    "    last_60.append(X_test[507][i].tolist())\n",
    "\n",
    "predict_7_week = []\n",
    "\n",
    "for i in range(7*7):\n",
    "    tmp = np.array(last_60)\n",
    "    next_day = model.predict(tmp.reshape(1,300))\n",
    "    if((i+1) % 7 ==0):\n",
    "        predict_7_week.append(next_day.reshape(5).tolist())\n",
    "    last_60.append(next_day.reshape(5).tolist())\n",
    "    last_60 = last_60[1:]\n",
    "\n",
    "predict_7_week/scaler.scale_"
   ]
  },
  {
   "cell_type": "markdown",
   "id": "aaf425d9",
   "metadata": {},
   "source": [
    "## XGBoost"
   ]
  },
  {
   "cell_type": "code",
   "execution_count": 145,
   "id": "f15ca7c4",
   "metadata": {},
   "outputs": [],
   "source": [
    "X_train = []\n",
    "y_train = []"
   ]
  },
  {
   "cell_type": "code",
   "execution_count": 146,
   "id": "d3ddbeae",
   "metadata": {},
   "outputs": [],
   "source": [
    "data_training = data_training.drop(['Date','Adj Close'],axis=1)"
   ]
  },
  {
   "cell_type": "code",
   "execution_count": 147,
   "id": "9e0ae67c",
   "metadata": {},
   "outputs": [],
   "source": [
    "# for i in range(60,length_train):\n",
    "#     X_train.append(data_training[i-60:i])\n",
    "#     y_train.append(data_training[i])"
   ]
  },
  {
   "cell_type": "code",
   "execution_count": 148,
   "id": "6c043da7",
   "metadata": {},
   "outputs": [
    {
     "ename": "ValueError",
     "evalue": "('Expecting 2 dimensional numpy.ndarray, got: ', (0,))",
     "output_type": "error",
     "traceback": [
      "\u001b[1;31m---------------------------------------------------------------------------\u001b[0m",
      "\u001b[1;31mValueError\u001b[0m                                Traceback (most recent call last)",
      "\u001b[1;32m~\\AppData\\Local\\Temp\\ipykernel_13876\\1044279961.py\u001b[0m in \u001b[0;36m<module>\u001b[1;34m\u001b[0m\n\u001b[0;32m      1\u001b[0m \u001b[1;32mfrom\u001b[0m \u001b[0mxgboost\u001b[0m \u001b[1;32mimport\u001b[0m \u001b[0mXGBClassifier\u001b[0m\u001b[1;33m\u001b[0m\u001b[1;33m\u001b[0m\u001b[0m\n\u001b[0;32m      2\u001b[0m \u001b[0mclassifier\u001b[0m \u001b[1;33m=\u001b[0m \u001b[0mXGBClassifier\u001b[0m\u001b[1;33m(\u001b[0m\u001b[1;33m)\u001b[0m\u001b[1;33m\u001b[0m\u001b[1;33m\u001b[0m\u001b[0m\n\u001b[1;32m----> 3\u001b[1;33m \u001b[0mclassifier\u001b[0m\u001b[1;33m.\u001b[0m\u001b[0mfit\u001b[0m\u001b[1;33m(\u001b[0m\u001b[0mX_train\u001b[0m\u001b[1;33m,\u001b[0m \u001b[0my_train\u001b[0m\u001b[1;33m)\u001b[0m\u001b[1;33m\u001b[0m\u001b[1;33m\u001b[0m\u001b[0m\n\u001b[0m",
      "\u001b[1;32m~\\anaconda3\\lib\\site-packages\\xgboost\\core.py\u001b[0m in \u001b[0;36minner_f\u001b[1;34m(*args, **kwargs)\u001b[0m\n\u001b[0;32m    618\u001b[0m             \u001b[1;32mfor\u001b[0m \u001b[0mk\u001b[0m\u001b[1;33m,\u001b[0m \u001b[0marg\u001b[0m \u001b[1;32min\u001b[0m \u001b[0mzip\u001b[0m\u001b[1;33m(\u001b[0m\u001b[0msig\u001b[0m\u001b[1;33m.\u001b[0m\u001b[0mparameters\u001b[0m\u001b[1;33m,\u001b[0m \u001b[0margs\u001b[0m\u001b[1;33m)\u001b[0m\u001b[1;33m:\u001b[0m\u001b[1;33m\u001b[0m\u001b[1;33m\u001b[0m\u001b[0m\n\u001b[0;32m    619\u001b[0m                 \u001b[0mkwargs\u001b[0m\u001b[1;33m[\u001b[0m\u001b[0mk\u001b[0m\u001b[1;33m]\u001b[0m \u001b[1;33m=\u001b[0m \u001b[0marg\u001b[0m\u001b[1;33m\u001b[0m\u001b[1;33m\u001b[0m\u001b[0m\n\u001b[1;32m--> 620\u001b[1;33m             \u001b[1;32mreturn\u001b[0m \u001b[0mfunc\u001b[0m\u001b[1;33m(\u001b[0m\u001b[1;33m**\u001b[0m\u001b[0mkwargs\u001b[0m\u001b[1;33m)\u001b[0m\u001b[1;33m\u001b[0m\u001b[1;33m\u001b[0m\u001b[0m\n\u001b[0m\u001b[0;32m    621\u001b[0m \u001b[1;33m\u001b[0m\u001b[0m\n\u001b[0;32m    622\u001b[0m         \u001b[1;32mreturn\u001b[0m \u001b[0minner_f\u001b[0m\u001b[1;33m\u001b[0m\u001b[1;33m\u001b[0m\u001b[0m\n",
      "\u001b[1;32m~\\anaconda3\\lib\\site-packages\\xgboost\\sklearn.py\u001b[0m in \u001b[0;36mfit\u001b[1;34m(self, X, y, sample_weight, base_margin, eval_set, eval_metric, early_stopping_rounds, verbose, xgb_model, sample_weight_eval_set, base_margin_eval_set, feature_weights, callbacks)\u001b[0m\n\u001b[0;32m   1495\u001b[0m                 \u001b[0mxgb_model\u001b[0m\u001b[1;33m,\u001b[0m \u001b[0meval_metric\u001b[0m\u001b[1;33m,\u001b[0m \u001b[0mparams\u001b[0m\u001b[1;33m,\u001b[0m \u001b[0mearly_stopping_rounds\u001b[0m\u001b[1;33m,\u001b[0m \u001b[0mcallbacks\u001b[0m\u001b[1;33m\u001b[0m\u001b[1;33m\u001b[0m\u001b[0m\n\u001b[0;32m   1496\u001b[0m             )\n\u001b[1;32m-> 1497\u001b[1;33m             train_dmatrix, evals = _wrap_evaluation_matrices(\n\u001b[0m\u001b[0;32m   1498\u001b[0m                 \u001b[0mmissing\u001b[0m\u001b[1;33m=\u001b[0m\u001b[0mself\u001b[0m\u001b[1;33m.\u001b[0m\u001b[0mmissing\u001b[0m\u001b[1;33m,\u001b[0m\u001b[1;33m\u001b[0m\u001b[1;33m\u001b[0m\u001b[0m\n\u001b[0;32m   1499\u001b[0m                 \u001b[0mX\u001b[0m\u001b[1;33m=\u001b[0m\u001b[0mX\u001b[0m\u001b[1;33m,\u001b[0m\u001b[1;33m\u001b[0m\u001b[1;33m\u001b[0m\u001b[0m\n",
      "\u001b[1;32m~\\anaconda3\\lib\\site-packages\\xgboost\\sklearn.py\u001b[0m in \u001b[0;36m_wrap_evaluation_matrices\u001b[1;34m(missing, X, y, group, qid, sample_weight, base_margin, feature_weights, eval_set, sample_weight_eval_set, base_margin_eval_set, eval_group, eval_qid, create_dmatrix, enable_categorical, feature_types)\u001b[0m\n\u001b[0;32m    446\u001b[0m     \"\"\"Convert array_like evaluation matrices into DMatrix.  Perform validation on the\n\u001b[0;32m    447\u001b[0m     way.\"\"\"\n\u001b[1;32m--> 448\u001b[1;33m     train_dmatrix = create_dmatrix(\n\u001b[0m\u001b[0;32m    449\u001b[0m         \u001b[0mdata\u001b[0m\u001b[1;33m=\u001b[0m\u001b[0mX\u001b[0m\u001b[1;33m,\u001b[0m\u001b[1;33m\u001b[0m\u001b[1;33m\u001b[0m\u001b[0m\n\u001b[0;32m    450\u001b[0m         \u001b[0mlabel\u001b[0m\u001b[1;33m=\u001b[0m\u001b[0my\u001b[0m\u001b[1;33m,\u001b[0m\u001b[1;33m\u001b[0m\u001b[1;33m\u001b[0m\u001b[0m\n",
      "\u001b[1;32m~\\anaconda3\\lib\\site-packages\\xgboost\\sklearn.py\u001b[0m in \u001b[0;36m_create_dmatrix\u001b[1;34m(self, ref, **kwargs)\u001b[0m\n\u001b[0;32m    932\u001b[0m             \u001b[1;32mexcept\u001b[0m \u001b[0mTypeError\u001b[0m\u001b[1;33m:\u001b[0m  \u001b[1;31m# `QuantileDMatrix` supports lesser types than DMatrix\u001b[0m\u001b[1;33m\u001b[0m\u001b[1;33m\u001b[0m\u001b[0m\n\u001b[0;32m    933\u001b[0m                 \u001b[1;32mpass\u001b[0m\u001b[1;33m\u001b[0m\u001b[1;33m\u001b[0m\u001b[0m\n\u001b[1;32m--> 934\u001b[1;33m         \u001b[1;32mreturn\u001b[0m \u001b[0mDMatrix\u001b[0m\u001b[1;33m(\u001b[0m\u001b[1;33m**\u001b[0m\u001b[0mkwargs\u001b[0m\u001b[1;33m,\u001b[0m \u001b[0mnthread\u001b[0m\u001b[1;33m=\u001b[0m\u001b[0mself\u001b[0m\u001b[1;33m.\u001b[0m\u001b[0mn_jobs\u001b[0m\u001b[1;33m)\u001b[0m\u001b[1;33m\u001b[0m\u001b[1;33m\u001b[0m\u001b[0m\n\u001b[0m\u001b[0;32m    935\u001b[0m \u001b[1;33m\u001b[0m\u001b[0m\n\u001b[0;32m    936\u001b[0m     \u001b[1;32mdef\u001b[0m \u001b[0m_set_evaluation_result\u001b[0m\u001b[1;33m(\u001b[0m\u001b[0mself\u001b[0m\u001b[1;33m,\u001b[0m \u001b[0mevals_result\u001b[0m\u001b[1;33m:\u001b[0m \u001b[0mTrainingCallback\u001b[0m\u001b[1;33m.\u001b[0m\u001b[0mEvalsLog\u001b[0m\u001b[1;33m)\u001b[0m \u001b[1;33m->\u001b[0m \u001b[1;32mNone\u001b[0m\u001b[1;33m:\u001b[0m\u001b[1;33m\u001b[0m\u001b[1;33m\u001b[0m\u001b[0m\n",
      "\u001b[1;32m~\\anaconda3\\lib\\site-packages\\xgboost\\core.py\u001b[0m in \u001b[0;36minner_f\u001b[1;34m(*args, **kwargs)\u001b[0m\n\u001b[0;32m    618\u001b[0m             \u001b[1;32mfor\u001b[0m \u001b[0mk\u001b[0m\u001b[1;33m,\u001b[0m \u001b[0marg\u001b[0m \u001b[1;32min\u001b[0m \u001b[0mzip\u001b[0m\u001b[1;33m(\u001b[0m\u001b[0msig\u001b[0m\u001b[1;33m.\u001b[0m\u001b[0mparameters\u001b[0m\u001b[1;33m,\u001b[0m \u001b[0margs\u001b[0m\u001b[1;33m)\u001b[0m\u001b[1;33m:\u001b[0m\u001b[1;33m\u001b[0m\u001b[1;33m\u001b[0m\u001b[0m\n\u001b[0;32m    619\u001b[0m                 \u001b[0mkwargs\u001b[0m\u001b[1;33m[\u001b[0m\u001b[0mk\u001b[0m\u001b[1;33m]\u001b[0m \u001b[1;33m=\u001b[0m \u001b[0marg\u001b[0m\u001b[1;33m\u001b[0m\u001b[1;33m\u001b[0m\u001b[0m\n\u001b[1;32m--> 620\u001b[1;33m             \u001b[1;32mreturn\u001b[0m \u001b[0mfunc\u001b[0m\u001b[1;33m(\u001b[0m\u001b[1;33m**\u001b[0m\u001b[0mkwargs\u001b[0m\u001b[1;33m)\u001b[0m\u001b[1;33m\u001b[0m\u001b[1;33m\u001b[0m\u001b[0m\n\u001b[0m\u001b[0;32m    621\u001b[0m \u001b[1;33m\u001b[0m\u001b[0m\n\u001b[0;32m    622\u001b[0m         \u001b[1;32mreturn\u001b[0m \u001b[0minner_f\u001b[0m\u001b[1;33m\u001b[0m\u001b[1;33m\u001b[0m\u001b[0m\n",
      "\u001b[1;32m~\\anaconda3\\lib\\site-packages\\xgboost\\core.py\u001b[0m in \u001b[0;36m__init__\u001b[1;34m(self, data, label, weight, base_margin, missing, silent, feature_names, feature_types, nthread, group, qid, label_lower_bound, label_upper_bound, feature_weights, enable_categorical)\u001b[0m\n\u001b[0;32m    741\u001b[0m             \u001b[1;32mreturn\u001b[0m\u001b[1;33m\u001b[0m\u001b[1;33m\u001b[0m\u001b[0m\n\u001b[0;32m    742\u001b[0m \u001b[1;33m\u001b[0m\u001b[0m\n\u001b[1;32m--> 743\u001b[1;33m         handle, feature_names, feature_types = dispatch_data_backend(\n\u001b[0m\u001b[0;32m    744\u001b[0m             \u001b[0mdata\u001b[0m\u001b[1;33m,\u001b[0m\u001b[1;33m\u001b[0m\u001b[1;33m\u001b[0m\u001b[0m\n\u001b[0;32m    745\u001b[0m             \u001b[0mmissing\u001b[0m\u001b[1;33m=\u001b[0m\u001b[0mself\u001b[0m\u001b[1;33m.\u001b[0m\u001b[0mmissing\u001b[0m\u001b[1;33m,\u001b[0m\u001b[1;33m\u001b[0m\u001b[1;33m\u001b[0m\u001b[0m\n",
      "\u001b[1;32m~\\anaconda3\\lib\\site-packages\\xgboost\\data.py\u001b[0m in \u001b[0;36mdispatch_data_backend\u001b[1;34m(data, missing, threads, feature_names, feature_types, enable_categorical)\u001b[0m\n\u001b[0;32m    951\u001b[0m         \u001b[1;32mreturn\u001b[0m \u001b[0m_from_uri\u001b[0m\u001b[1;33m(\u001b[0m\u001b[0mdata\u001b[0m\u001b[1;33m,\u001b[0m \u001b[0mmissing\u001b[0m\u001b[1;33m,\u001b[0m \u001b[0mfeature_names\u001b[0m\u001b[1;33m,\u001b[0m \u001b[0mfeature_types\u001b[0m\u001b[1;33m)\u001b[0m\u001b[1;33m\u001b[0m\u001b[1;33m\u001b[0m\u001b[0m\n\u001b[0;32m    952\u001b[0m     \u001b[1;32mif\u001b[0m \u001b[0m_is_list\u001b[0m\u001b[1;33m(\u001b[0m\u001b[0mdata\u001b[0m\u001b[1;33m)\u001b[0m\u001b[1;33m:\u001b[0m\u001b[1;33m\u001b[0m\u001b[1;33m\u001b[0m\u001b[0m\n\u001b[1;32m--> 953\u001b[1;33m         \u001b[1;32mreturn\u001b[0m \u001b[0m_from_list\u001b[0m\u001b[1;33m(\u001b[0m\u001b[0mdata\u001b[0m\u001b[1;33m,\u001b[0m \u001b[0mmissing\u001b[0m\u001b[1;33m,\u001b[0m \u001b[0mthreads\u001b[0m\u001b[1;33m,\u001b[0m \u001b[0mfeature_names\u001b[0m\u001b[1;33m,\u001b[0m \u001b[0mfeature_types\u001b[0m\u001b[1;33m)\u001b[0m\u001b[1;33m\u001b[0m\u001b[1;33m\u001b[0m\u001b[0m\n\u001b[0m\u001b[0;32m    954\u001b[0m     \u001b[1;32mif\u001b[0m \u001b[0m_is_tuple\u001b[0m\u001b[1;33m(\u001b[0m\u001b[0mdata\u001b[0m\u001b[1;33m)\u001b[0m\u001b[1;33m:\u001b[0m\u001b[1;33m\u001b[0m\u001b[1;33m\u001b[0m\u001b[0m\n\u001b[0;32m    955\u001b[0m         \u001b[1;32mreturn\u001b[0m \u001b[0m_from_tuple\u001b[0m\u001b[1;33m(\u001b[0m\u001b[0mdata\u001b[0m\u001b[1;33m,\u001b[0m \u001b[0mmissing\u001b[0m\u001b[1;33m,\u001b[0m \u001b[0mthreads\u001b[0m\u001b[1;33m,\u001b[0m \u001b[0mfeature_names\u001b[0m\u001b[1;33m,\u001b[0m \u001b[0mfeature_types\u001b[0m\u001b[1;33m)\u001b[0m\u001b[1;33m\u001b[0m\u001b[1;33m\u001b[0m\u001b[0m\n",
      "\u001b[1;32m~\\anaconda3\\lib\\site-packages\\xgboost\\data.py\u001b[0m in \u001b[0;36m_from_list\u001b[1;34m(data, missing, n_threads, feature_names, feature_types)\u001b[0m\n\u001b[0;32m    884\u001b[0m     \u001b[0marray\u001b[0m \u001b[1;33m=\u001b[0m \u001b[0mnp\u001b[0m\u001b[1;33m.\u001b[0m\u001b[0marray\u001b[0m\u001b[1;33m(\u001b[0m\u001b[0mdata\u001b[0m\u001b[1;33m)\u001b[0m\u001b[1;33m\u001b[0m\u001b[1;33m\u001b[0m\u001b[0m\n\u001b[0;32m    885\u001b[0m     \u001b[0m_check_data_shape\u001b[0m\u001b[1;33m(\u001b[0m\u001b[0mdata\u001b[0m\u001b[1;33m)\u001b[0m\u001b[1;33m\u001b[0m\u001b[1;33m\u001b[0m\u001b[0m\n\u001b[1;32m--> 886\u001b[1;33m     \u001b[1;32mreturn\u001b[0m \u001b[0m_from_numpy_array\u001b[0m\u001b[1;33m(\u001b[0m\u001b[0marray\u001b[0m\u001b[1;33m,\u001b[0m \u001b[0mmissing\u001b[0m\u001b[1;33m,\u001b[0m \u001b[0mn_threads\u001b[0m\u001b[1;33m,\u001b[0m \u001b[0mfeature_names\u001b[0m\u001b[1;33m,\u001b[0m \u001b[0mfeature_types\u001b[0m\u001b[1;33m)\u001b[0m\u001b[1;33m\u001b[0m\u001b[1;33m\u001b[0m\u001b[0m\n\u001b[0m\u001b[0;32m    887\u001b[0m \u001b[1;33m\u001b[0m\u001b[0m\n\u001b[0;32m    888\u001b[0m \u001b[1;33m\u001b[0m\u001b[0m\n",
      "\u001b[1;32m~\\anaconda3\\lib\\site-packages\\xgboost\\data.py\u001b[0m in \u001b[0;36m_from_numpy_array\u001b[1;34m(data, missing, nthread, feature_names, feature_types)\u001b[0m\n\u001b[0;32m    188\u001b[0m     \"\"\"\n\u001b[0;32m    189\u001b[0m     \u001b[1;32mif\u001b[0m \u001b[0mlen\u001b[0m\u001b[1;33m(\u001b[0m\u001b[0mdata\u001b[0m\u001b[1;33m.\u001b[0m\u001b[0mshape\u001b[0m\u001b[1;33m)\u001b[0m \u001b[1;33m!=\u001b[0m \u001b[1;36m2\u001b[0m\u001b[1;33m:\u001b[0m\u001b[1;33m\u001b[0m\u001b[1;33m\u001b[0m\u001b[0m\n\u001b[1;32m--> 190\u001b[1;33m         raise ValueError(\n\u001b[0m\u001b[0;32m    191\u001b[0m             \u001b[1;34m\"Expecting 2 dimensional numpy.ndarray, got: \"\u001b[0m\u001b[1;33m,\u001b[0m \u001b[0mdata\u001b[0m\u001b[1;33m.\u001b[0m\u001b[0mshape\u001b[0m\u001b[1;33m\u001b[0m\u001b[1;33m\u001b[0m\u001b[0m\n\u001b[0;32m    192\u001b[0m         )\n",
      "\u001b[1;31mValueError\u001b[0m: ('Expecting 2 dimensional numpy.ndarray, got: ', (0,))"
     ]
    }
   ],
   "source": [
    "from xgboost import XGBClassifier\n",
    "classifier = XGBClassifier()\n",
    "classifier.fit(X_train, y_train)"
   ]
  },
  {
   "cell_type": "code",
   "execution_count": null,
   "id": "0eacacc7",
   "metadata": {},
   "outputs": [],
   "source": []
  }
 ],
 "metadata": {
  "kernelspec": {
   "display_name": "Python 3 (ipykernel)",
   "language": "python",
   "name": "python3"
  },
  "language_info": {
   "codemirror_mode": {
    "name": "ipython",
    "version": 3
   },
   "file_extension": ".py",
   "mimetype": "text/x-python",
   "name": "python",
   "nbconvert_exporter": "python",
   "pygments_lexer": "ipython3",
   "version": "3.9.13"
  }
 },
 "nbformat": 4,
 "nbformat_minor": 5
}
